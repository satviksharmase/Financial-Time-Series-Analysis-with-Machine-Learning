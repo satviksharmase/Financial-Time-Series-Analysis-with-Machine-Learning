{
 "cells": [
  {
   "cell_type": "code",
   "execution_count": 1,
   "id": "ed84baef",
   "metadata": {},
   "outputs": [],
   "source": [
    "import numpy as np\n",
    "import matplotlib.pyplot as plt\n",
    "import pandas as pd\n"
   ]
  },
  {
   "cell_type": "code",
   "execution_count": 2,
   "id": "1107fb1c",
   "metadata": {},
   "outputs": [],
   "source": [
    "df=pd.read_csv(\"./dataset/HDFC.csv\",index_col='Date',parse_dates=True)"
   ]
  },
  {
   "cell_type": "code",
   "execution_count": 3,
   "id": "3d91dcb6",
   "metadata": {},
   "outputs": [
    {
     "data": {
      "text/html": [
       "<div>\n",
       "<style scoped>\n",
       "    .dataframe tbody tr th:only-of-type {\n",
       "        vertical-align: middle;\n",
       "    }\n",
       "\n",
       "    .dataframe tbody tr th {\n",
       "        vertical-align: top;\n",
       "    }\n",
       "\n",
       "    .dataframe thead th {\n",
       "        text-align: right;\n",
       "    }\n",
       "</style>\n",
       "<table border=\"1\" class=\"dataframe\">\n",
       "  <thead>\n",
       "    <tr style=\"text-align: right;\">\n",
       "      <th></th>\n",
       "      <th>Symbol</th>\n",
       "      <th>Series</th>\n",
       "      <th>Prev Close</th>\n",
       "      <th>Open</th>\n",
       "      <th>High</th>\n",
       "      <th>Low</th>\n",
       "      <th>Last</th>\n",
       "      <th>Close</th>\n",
       "      <th>VWAP</th>\n",
       "      <th>Volume</th>\n",
       "      <th>Turnover</th>\n",
       "      <th>Trades</th>\n",
       "      <th>Deliverable Volume</th>\n",
       "      <th>%Deliverble</th>\n",
       "    </tr>\n",
       "    <tr>\n",
       "      <th>Date</th>\n",
       "      <th></th>\n",
       "      <th></th>\n",
       "      <th></th>\n",
       "      <th></th>\n",
       "      <th></th>\n",
       "      <th></th>\n",
       "      <th></th>\n",
       "      <th></th>\n",
       "      <th></th>\n",
       "      <th></th>\n",
       "      <th></th>\n",
       "      <th></th>\n",
       "      <th></th>\n",
       "      <th></th>\n",
       "    </tr>\n",
       "  </thead>\n",
       "  <tbody>\n",
       "    <tr>\n",
       "      <th>2000-01-03</th>\n",
       "      <td>HDFC</td>\n",
       "      <td>EQ</td>\n",
       "      <td>271.75</td>\n",
       "      <td>293.50</td>\n",
       "      <td>293.50</td>\n",
       "      <td>293.50</td>\n",
       "      <td>293.50</td>\n",
       "      <td>293.50</td>\n",
       "      <td>293.50</td>\n",
       "      <td>22744</td>\n",
       "      <td>6.675364e+11</td>\n",
       "      <td>NaN</td>\n",
       "      <td>NaN</td>\n",
       "      <td>NaN</td>\n",
       "    </tr>\n",
       "    <tr>\n",
       "      <th>2000-01-04</th>\n",
       "      <td>HDFC</td>\n",
       "      <td>EQ</td>\n",
       "      <td>293.50</td>\n",
       "      <td>317.00</td>\n",
       "      <td>317.00</td>\n",
       "      <td>297.00</td>\n",
       "      <td>304.00</td>\n",
       "      <td>304.05</td>\n",
       "      <td>303.62</td>\n",
       "      <td>255251</td>\n",
       "      <td>7.749972e+12</td>\n",
       "      <td>NaN</td>\n",
       "      <td>NaN</td>\n",
       "      <td>NaN</td>\n",
       "    </tr>\n",
       "    <tr>\n",
       "      <th>2000-01-05</th>\n",
       "      <td>HDFC</td>\n",
       "      <td>EQ</td>\n",
       "      <td>304.05</td>\n",
       "      <td>290.00</td>\n",
       "      <td>303.90</td>\n",
       "      <td>285.00</td>\n",
       "      <td>295.00</td>\n",
       "      <td>292.80</td>\n",
       "      <td>294.53</td>\n",
       "      <td>269087</td>\n",
       "      <td>7.925368e+12</td>\n",
       "      <td>NaN</td>\n",
       "      <td>NaN</td>\n",
       "      <td>NaN</td>\n",
       "    </tr>\n",
       "    <tr>\n",
       "      <th>2000-01-06</th>\n",
       "      <td>HDFC</td>\n",
       "      <td>EQ</td>\n",
       "      <td>292.80</td>\n",
       "      <td>301.00</td>\n",
       "      <td>314.00</td>\n",
       "      <td>295.00</td>\n",
       "      <td>296.00</td>\n",
       "      <td>296.45</td>\n",
       "      <td>300.14</td>\n",
       "      <td>305916</td>\n",
       "      <td>9.181669e+12</td>\n",
       "      <td>NaN</td>\n",
       "      <td>NaN</td>\n",
       "      <td>NaN</td>\n",
       "    </tr>\n",
       "    <tr>\n",
       "      <th>2000-01-07</th>\n",
       "      <td>HDFC</td>\n",
       "      <td>EQ</td>\n",
       "      <td>296.45</td>\n",
       "      <td>290.00</td>\n",
       "      <td>296.35</td>\n",
       "      <td>281.00</td>\n",
       "      <td>287.10</td>\n",
       "      <td>286.55</td>\n",
       "      <td>288.80</td>\n",
       "      <td>197039</td>\n",
       "      <td>5.690480e+12</td>\n",
       "      <td>NaN</td>\n",
       "      <td>NaN</td>\n",
       "      <td>NaN</td>\n",
       "    </tr>\n",
       "    <tr>\n",
       "      <th>...</th>\n",
       "      <td>...</td>\n",
       "      <td>...</td>\n",
       "      <td>...</td>\n",
       "      <td>...</td>\n",
       "      <td>...</td>\n",
       "      <td>...</td>\n",
       "      <td>...</td>\n",
       "      <td>...</td>\n",
       "      <td>...</td>\n",
       "      <td>...</td>\n",
       "      <td>...</td>\n",
       "      <td>...</td>\n",
       "      <td>...</td>\n",
       "      <td>...</td>\n",
       "    </tr>\n",
       "    <tr>\n",
       "      <th>2021-04-26</th>\n",
       "      <td>HDFC</td>\n",
       "      <td>EQ</td>\n",
       "      <td>2497.35</td>\n",
       "      <td>2500.00</td>\n",
       "      <td>2534.10</td>\n",
       "      <td>2483.20</td>\n",
       "      <td>2502.00</td>\n",
       "      <td>2509.80</td>\n",
       "      <td>2508.07</td>\n",
       "      <td>3916088</td>\n",
       "      <td>9.821805e+14</td>\n",
       "      <td>121028.0</td>\n",
       "      <td>2440395.0</td>\n",
       "      <td>0.6232</td>\n",
       "    </tr>\n",
       "    <tr>\n",
       "      <th>2021-04-27</th>\n",
       "      <td>HDFC</td>\n",
       "      <td>EQ</td>\n",
       "      <td>2509.80</td>\n",
       "      <td>2494.15</td>\n",
       "      <td>2526.80</td>\n",
       "      <td>2486.25</td>\n",
       "      <td>2514.00</td>\n",
       "      <td>2518.40</td>\n",
       "      <td>2509.18</td>\n",
       "      <td>2040799</td>\n",
       "      <td>5.120730e+14</td>\n",
       "      <td>102250.0</td>\n",
       "      <td>1040749.0</td>\n",
       "      <td>0.5100</td>\n",
       "    </tr>\n",
       "    <tr>\n",
       "      <th>2021-04-28</th>\n",
       "      <td>HDFC</td>\n",
       "      <td>EQ</td>\n",
       "      <td>2518.40</td>\n",
       "      <td>2516.10</td>\n",
       "      <td>2609.00</td>\n",
       "      <td>2508.30</td>\n",
       "      <td>2575.00</td>\n",
       "      <td>2577.00</td>\n",
       "      <td>2574.21</td>\n",
       "      <td>3407461</td>\n",
       "      <td>8.771527e+14</td>\n",
       "      <td>117425.0</td>\n",
       "      <td>1815110.0</td>\n",
       "      <td>0.5327</td>\n",
       "    </tr>\n",
       "    <tr>\n",
       "      <th>2021-04-29</th>\n",
       "      <td>HDFC</td>\n",
       "      <td>EQ</td>\n",
       "      <td>2577.00</td>\n",
       "      <td>2590.90</td>\n",
       "      <td>2628.00</td>\n",
       "      <td>2533.00</td>\n",
       "      <td>2539.70</td>\n",
       "      <td>2538.85</td>\n",
       "      <td>2569.65</td>\n",
       "      <td>3005468</td>\n",
       "      <td>7.722995e+14</td>\n",
       "      <td>132826.0</td>\n",
       "      <td>1472924.0</td>\n",
       "      <td>0.4901</td>\n",
       "    </tr>\n",
       "    <tr>\n",
       "      <th>2021-04-30</th>\n",
       "      <td>HDFC</td>\n",
       "      <td>EQ</td>\n",
       "      <td>2538.85</td>\n",
       "      <td>2503.10</td>\n",
       "      <td>2525.00</td>\n",
       "      <td>2411.10</td>\n",
       "      <td>2433.25</td>\n",
       "      <td>2420.10</td>\n",
       "      <td>2445.94</td>\n",
       "      <td>6024595</td>\n",
       "      <td>1.473581e+15</td>\n",
       "      <td>224454.0</td>\n",
       "      <td>3839105.0</td>\n",
       "      <td>0.6372</td>\n",
       "    </tr>\n",
       "  </tbody>\n",
       "</table>\n",
       "<p>5306 rows × 14 columns</p>\n",
       "</div>"
      ],
      "text/plain": [
       "           Symbol Series  Prev Close     Open     High      Low     Last  \\\n",
       "Date                                                                       \n",
       "2000-01-03   HDFC     EQ      271.75   293.50   293.50   293.50   293.50   \n",
       "2000-01-04   HDFC     EQ      293.50   317.00   317.00   297.00   304.00   \n",
       "2000-01-05   HDFC     EQ      304.05   290.00   303.90   285.00   295.00   \n",
       "2000-01-06   HDFC     EQ      292.80   301.00   314.00   295.00   296.00   \n",
       "2000-01-07   HDFC     EQ      296.45   290.00   296.35   281.00   287.10   \n",
       "...           ...    ...         ...      ...      ...      ...      ...   \n",
       "2021-04-26   HDFC     EQ     2497.35  2500.00  2534.10  2483.20  2502.00   \n",
       "2021-04-27   HDFC     EQ     2509.80  2494.15  2526.80  2486.25  2514.00   \n",
       "2021-04-28   HDFC     EQ     2518.40  2516.10  2609.00  2508.30  2575.00   \n",
       "2021-04-29   HDFC     EQ     2577.00  2590.90  2628.00  2533.00  2539.70   \n",
       "2021-04-30   HDFC     EQ     2538.85  2503.10  2525.00  2411.10  2433.25   \n",
       "\n",
       "              Close     VWAP   Volume      Turnover    Trades  \\\n",
       "Date                                                            \n",
       "2000-01-03   293.50   293.50    22744  6.675364e+11       NaN   \n",
       "2000-01-04   304.05   303.62   255251  7.749972e+12       NaN   \n",
       "2000-01-05   292.80   294.53   269087  7.925368e+12       NaN   \n",
       "2000-01-06   296.45   300.14   305916  9.181669e+12       NaN   \n",
       "2000-01-07   286.55   288.80   197039  5.690480e+12       NaN   \n",
       "...             ...      ...      ...           ...       ...   \n",
       "2021-04-26  2509.80  2508.07  3916088  9.821805e+14  121028.0   \n",
       "2021-04-27  2518.40  2509.18  2040799  5.120730e+14  102250.0   \n",
       "2021-04-28  2577.00  2574.21  3407461  8.771527e+14  117425.0   \n",
       "2021-04-29  2538.85  2569.65  3005468  7.722995e+14  132826.0   \n",
       "2021-04-30  2420.10  2445.94  6024595  1.473581e+15  224454.0   \n",
       "\n",
       "            Deliverable Volume  %Deliverble  \n",
       "Date                                         \n",
       "2000-01-03                 NaN          NaN  \n",
       "2000-01-04                 NaN          NaN  \n",
       "2000-01-05                 NaN          NaN  \n",
       "2000-01-06                 NaN          NaN  \n",
       "2000-01-07                 NaN          NaN  \n",
       "...                        ...          ...  \n",
       "2021-04-26           2440395.0       0.6232  \n",
       "2021-04-27           1040749.0       0.5100  \n",
       "2021-04-28           1815110.0       0.5327  \n",
       "2021-04-29           1472924.0       0.4901  \n",
       "2021-04-30           3839105.0       0.6372  \n",
       "\n",
       "[5306 rows x 14 columns]"
      ]
     },
     "execution_count": 3,
     "metadata": {},
     "output_type": "execute_result"
    }
   ],
   "source": [
    "df"
   ]
  },
  {
   "cell_type": "code",
   "execution_count": 4,
   "id": "ce81dda9",
   "metadata": {},
   "outputs": [
    {
     "data": {
      "text/plain": [
       "Symbol                 object\n",
       "Series                 object\n",
       "Prev Close            float64\n",
       "Open                  float64\n",
       "High                  float64\n",
       "Low                   float64\n",
       "Last                  float64\n",
       "Close                 float64\n",
       "VWAP                  float64\n",
       "Volume                  int64\n",
       "Turnover              float64\n",
       "Trades                float64\n",
       "Deliverable Volume    float64\n",
       "%Deliverble           float64\n",
       "dtype: object"
      ]
     },
     "execution_count": 4,
     "metadata": {},
     "output_type": "execute_result"
    }
   ],
   "source": [
    "df.dtypes"
   ]
  },
  {
   "cell_type": "code",
   "execution_count": 5,
   "id": "1e8e143b",
   "metadata": {},
   "outputs": [],
   "source": [
    "numerical_data=df.select_dtypes(include=['float64','int64']).columns"
   ]
  },
  {
   "cell_type": "code",
   "execution_count": 6,
   "id": "bd678fb4",
   "metadata": {},
   "outputs": [],
   "source": [
    "categorical_data=df.select_dtypes(include=['object']).columns"
   ]
  },
  {
   "cell_type": "code",
   "execution_count": 7,
   "id": "7813f04a",
   "metadata": {},
   "outputs": [],
   "source": [
    "df['Date']=df.index"
   ]
  },
  {
   "cell_type": "code",
   "execution_count": 8,
   "id": "312f0f8e",
   "metadata": {},
   "outputs": [],
   "source": [
    "start_date='2011-01-01'\n",
    "end_date='2020-12-31'\n",
    "mask=(df['Date']>=start_date)&(df['Date']<=end_date)"
   ]
  },
  {
   "cell_type": "markdown",
   "id": "8d15f1ec",
   "metadata": {},
   "source": [
    "rate of return is defined as the closing value subtracted from the previos close value divided by previous close value multiplied by 100\n",
    "\n",
    "Return=[(Close-Prev Close)/Prev Close]x100"
   ]
  },
  {
   "cell_type": "code",
   "execution_count": 9,
   "id": "03b0488f",
   "metadata": {},
   "outputs": [],
   "source": [
    "df['return']=((df['Close']-df['Prev Close'])/df['Prev Close'])*100"
   ]
  },
  {
   "cell_type": "code",
   "execution_count": 10,
   "id": "b72f9ecc",
   "metadata": {},
   "outputs": [],
   "source": [
    "df=df.loc[mask]"
   ]
  },
  {
   "cell_type": "code",
   "execution_count": 11,
   "id": "19d43c01",
   "metadata": {},
   "outputs": [
    {
     "data": {
      "text/html": [
       "<div>\n",
       "<style scoped>\n",
       "    .dataframe tbody tr th:only-of-type {\n",
       "        vertical-align: middle;\n",
       "    }\n",
       "\n",
       "    .dataframe tbody tr th {\n",
       "        vertical-align: top;\n",
       "    }\n",
       "\n",
       "    .dataframe thead th {\n",
       "        text-align: right;\n",
       "    }\n",
       "</style>\n",
       "<table border=\"1\" class=\"dataframe\">\n",
       "  <thead>\n",
       "    <tr style=\"text-align: right;\">\n",
       "      <th></th>\n",
       "      <th>Symbol</th>\n",
       "      <th>Series</th>\n",
       "      <th>Prev Close</th>\n",
       "      <th>Open</th>\n",
       "      <th>High</th>\n",
       "      <th>Low</th>\n",
       "      <th>Last</th>\n",
       "      <th>Close</th>\n",
       "      <th>VWAP</th>\n",
       "      <th>Volume</th>\n",
       "      <th>Turnover</th>\n",
       "      <th>Trades</th>\n",
       "      <th>Deliverable Volume</th>\n",
       "      <th>%Deliverble</th>\n",
       "      <th>Date</th>\n",
       "      <th>return</th>\n",
       "    </tr>\n",
       "    <tr>\n",
       "      <th>Date</th>\n",
       "      <th></th>\n",
       "      <th></th>\n",
       "      <th></th>\n",
       "      <th></th>\n",
       "      <th></th>\n",
       "      <th></th>\n",
       "      <th></th>\n",
       "      <th></th>\n",
       "      <th></th>\n",
       "      <th></th>\n",
       "      <th></th>\n",
       "      <th></th>\n",
       "      <th></th>\n",
       "      <th></th>\n",
       "      <th></th>\n",
       "      <th></th>\n",
       "    </tr>\n",
       "  </thead>\n",
       "  <tbody>\n",
       "    <tr>\n",
       "      <th>2011-01-03</th>\n",
       "      <td>HDFC</td>\n",
       "      <td>EQ</td>\n",
       "      <td>728.35</td>\n",
       "      <td>737.90</td>\n",
       "      <td>737.90</td>\n",
       "      <td>724.00</td>\n",
       "      <td>727.10</td>\n",
       "      <td>728.20</td>\n",
       "      <td>728.93</td>\n",
       "      <td>768310</td>\n",
       "      <td>5.600437e+13</td>\n",
       "      <td>NaN</td>\n",
       "      <td>413255.0</td>\n",
       "      <td>0.5379</td>\n",
       "      <td>2011-01-03</td>\n",
       "      <td>-0.020594</td>\n",
       "    </tr>\n",
       "    <tr>\n",
       "      <th>2011-01-04</th>\n",
       "      <td>HDFC</td>\n",
       "      <td>EQ</td>\n",
       "      <td>728.20</td>\n",
       "      <td>731.00</td>\n",
       "      <td>738.80</td>\n",
       "      <td>725.30</td>\n",
       "      <td>729.90</td>\n",
       "      <td>731.75</td>\n",
       "      <td>732.15</td>\n",
       "      <td>2071437</td>\n",
       "      <td>1.516595e+14</td>\n",
       "      <td>NaN</td>\n",
       "      <td>1220345.0</td>\n",
       "      <td>0.5891</td>\n",
       "      <td>2011-01-04</td>\n",
       "      <td>0.487503</td>\n",
       "    </tr>\n",
       "    <tr>\n",
       "      <th>2011-01-05</th>\n",
       "      <td>HDFC</td>\n",
       "      <td>EQ</td>\n",
       "      <td>731.75</td>\n",
       "      <td>727.80</td>\n",
       "      <td>727.80</td>\n",
       "      <td>706.15</td>\n",
       "      <td>707.05</td>\n",
       "      <td>708.10</td>\n",
       "      <td>713.22</td>\n",
       "      <td>1346235</td>\n",
       "      <td>9.601606e+13</td>\n",
       "      <td>NaN</td>\n",
       "      <td>850733.0</td>\n",
       "      <td>0.6319</td>\n",
       "      <td>2011-01-05</td>\n",
       "      <td>-3.231978</td>\n",
       "    </tr>\n",
       "    <tr>\n",
       "      <th>2011-01-06</th>\n",
       "      <td>HDFC</td>\n",
       "      <td>EQ</td>\n",
       "      <td>708.10</td>\n",
       "      <td>713.70</td>\n",
       "      <td>714.70</td>\n",
       "      <td>700.80</td>\n",
       "      <td>705.90</td>\n",
       "      <td>706.90</td>\n",
       "      <td>707.41</td>\n",
       "      <td>1579745</td>\n",
       "      <td>1.117522e+14</td>\n",
       "      <td>NaN</td>\n",
       "      <td>958078.0</td>\n",
       "      <td>0.6065</td>\n",
       "      <td>2011-01-06</td>\n",
       "      <td>-0.169468</td>\n",
       "    </tr>\n",
       "    <tr>\n",
       "      <th>2011-01-07</th>\n",
       "      <td>HDFC</td>\n",
       "      <td>EQ</td>\n",
       "      <td>706.90</td>\n",
       "      <td>703.10</td>\n",
       "      <td>708.70</td>\n",
       "      <td>680.00</td>\n",
       "      <td>683.90</td>\n",
       "      <td>683.90</td>\n",
       "      <td>694.66</td>\n",
       "      <td>2377426</td>\n",
       "      <td>1.651508e+14</td>\n",
       "      <td>NaN</td>\n",
       "      <td>1553546.0</td>\n",
       "      <td>0.6535</td>\n",
       "      <td>2011-01-07</td>\n",
       "      <td>-3.253643</td>\n",
       "    </tr>\n",
       "    <tr>\n",
       "      <th>...</th>\n",
       "      <td>...</td>\n",
       "      <td>...</td>\n",
       "      <td>...</td>\n",
       "      <td>...</td>\n",
       "      <td>...</td>\n",
       "      <td>...</td>\n",
       "      <td>...</td>\n",
       "      <td>...</td>\n",
       "      <td>...</td>\n",
       "      <td>...</td>\n",
       "      <td>...</td>\n",
       "      <td>...</td>\n",
       "      <td>...</td>\n",
       "      <td>...</td>\n",
       "      <td>...</td>\n",
       "      <td>...</td>\n",
       "    </tr>\n",
       "    <tr>\n",
       "      <th>2020-12-24</th>\n",
       "      <td>HDFC</td>\n",
       "      <td>EQ</td>\n",
       "      <td>2403.05</td>\n",
       "      <td>2417.00</td>\n",
       "      <td>2464.65</td>\n",
       "      <td>2411.05</td>\n",
       "      <td>2451.85</td>\n",
       "      <td>2455.15</td>\n",
       "      <td>2441.15</td>\n",
       "      <td>2723426</td>\n",
       "      <td>6.648299e+14</td>\n",
       "      <td>90401.0</td>\n",
       "      <td>1164270.0</td>\n",
       "      <td>0.4275</td>\n",
       "      <td>2020-12-24</td>\n",
       "      <td>2.168078</td>\n",
       "    </tr>\n",
       "    <tr>\n",
       "      <th>2020-12-28</th>\n",
       "      <td>HDFC</td>\n",
       "      <td>EQ</td>\n",
       "      <td>2455.15</td>\n",
       "      <td>2467.00</td>\n",
       "      <td>2485.00</td>\n",
       "      <td>2436.60</td>\n",
       "      <td>2485.00</td>\n",
       "      <td>2476.45</td>\n",
       "      <td>2460.41</td>\n",
       "      <td>2085391</td>\n",
       "      <td>5.130918e+14</td>\n",
       "      <td>67694.0</td>\n",
       "      <td>889141.0</td>\n",
       "      <td>0.4264</td>\n",
       "      <td>2020-12-28</td>\n",
       "      <td>0.867564</td>\n",
       "    </tr>\n",
       "    <tr>\n",
       "      <th>2020-12-29</th>\n",
       "      <td>HDFC</td>\n",
       "      <td>EQ</td>\n",
       "      <td>2476.45</td>\n",
       "      <td>2480.00</td>\n",
       "      <td>2530.00</td>\n",
       "      <td>2480.00</td>\n",
       "      <td>2511.00</td>\n",
       "      <td>2518.95</td>\n",
       "      <td>2513.80</td>\n",
       "      <td>4490464</td>\n",
       "      <td>1.128813e+15</td>\n",
       "      <td>162376.0</td>\n",
       "      <td>2226857.0</td>\n",
       "      <td>0.4959</td>\n",
       "      <td>2020-12-29</td>\n",
       "      <td>1.716166</td>\n",
       "    </tr>\n",
       "    <tr>\n",
       "      <th>2020-12-30</th>\n",
       "      <td>HDFC</td>\n",
       "      <td>EQ</td>\n",
       "      <td>2518.95</td>\n",
       "      <td>2518.95</td>\n",
       "      <td>2525.00</td>\n",
       "      <td>2483.00</td>\n",
       "      <td>2521.70</td>\n",
       "      <td>2518.05</td>\n",
       "      <td>2502.78</td>\n",
       "      <td>2902423</td>\n",
       "      <td>7.264129e+14</td>\n",
       "      <td>105288.0</td>\n",
       "      <td>1494677.0</td>\n",
       "      <td>0.5150</td>\n",
       "      <td>2020-12-30</td>\n",
       "      <td>-0.035729</td>\n",
       "    </tr>\n",
       "    <tr>\n",
       "      <th>2020-12-31</th>\n",
       "      <td>HDFC</td>\n",
       "      <td>EQ</td>\n",
       "      <td>2518.05</td>\n",
       "      <td>2518.70</td>\n",
       "      <td>2575.00</td>\n",
       "      <td>2504.40</td>\n",
       "      <td>2549.95</td>\n",
       "      <td>2558.65</td>\n",
       "      <td>2556.76</td>\n",
       "      <td>4956399</td>\n",
       "      <td>1.267232e+15</td>\n",
       "      <td>147144.0</td>\n",
       "      <td>2102976.0</td>\n",
       "      <td>0.4243</td>\n",
       "      <td>2020-12-31</td>\n",
       "      <td>1.612359</td>\n",
       "    </tr>\n",
       "  </tbody>\n",
       "</table>\n",
       "<p>2478 rows × 16 columns</p>\n",
       "</div>"
      ],
      "text/plain": [
       "           Symbol Series  Prev Close     Open     High      Low     Last  \\\n",
       "Date                                                                       \n",
       "2011-01-03   HDFC     EQ      728.35   737.90   737.90   724.00   727.10   \n",
       "2011-01-04   HDFC     EQ      728.20   731.00   738.80   725.30   729.90   \n",
       "2011-01-05   HDFC     EQ      731.75   727.80   727.80   706.15   707.05   \n",
       "2011-01-06   HDFC     EQ      708.10   713.70   714.70   700.80   705.90   \n",
       "2011-01-07   HDFC     EQ      706.90   703.10   708.70   680.00   683.90   \n",
       "...           ...    ...         ...      ...      ...      ...      ...   \n",
       "2020-12-24   HDFC     EQ     2403.05  2417.00  2464.65  2411.05  2451.85   \n",
       "2020-12-28   HDFC     EQ     2455.15  2467.00  2485.00  2436.60  2485.00   \n",
       "2020-12-29   HDFC     EQ     2476.45  2480.00  2530.00  2480.00  2511.00   \n",
       "2020-12-30   HDFC     EQ     2518.95  2518.95  2525.00  2483.00  2521.70   \n",
       "2020-12-31   HDFC     EQ     2518.05  2518.70  2575.00  2504.40  2549.95   \n",
       "\n",
       "              Close     VWAP   Volume      Turnover    Trades  \\\n",
       "Date                                                            \n",
       "2011-01-03   728.20   728.93   768310  5.600437e+13       NaN   \n",
       "2011-01-04   731.75   732.15  2071437  1.516595e+14       NaN   \n",
       "2011-01-05   708.10   713.22  1346235  9.601606e+13       NaN   \n",
       "2011-01-06   706.90   707.41  1579745  1.117522e+14       NaN   \n",
       "2011-01-07   683.90   694.66  2377426  1.651508e+14       NaN   \n",
       "...             ...      ...      ...           ...       ...   \n",
       "2020-12-24  2455.15  2441.15  2723426  6.648299e+14   90401.0   \n",
       "2020-12-28  2476.45  2460.41  2085391  5.130918e+14   67694.0   \n",
       "2020-12-29  2518.95  2513.80  4490464  1.128813e+15  162376.0   \n",
       "2020-12-30  2518.05  2502.78  2902423  7.264129e+14  105288.0   \n",
       "2020-12-31  2558.65  2556.76  4956399  1.267232e+15  147144.0   \n",
       "\n",
       "            Deliverable Volume  %Deliverble       Date    return  \n",
       "Date                                                              \n",
       "2011-01-03            413255.0       0.5379 2011-01-03 -0.020594  \n",
       "2011-01-04           1220345.0       0.5891 2011-01-04  0.487503  \n",
       "2011-01-05            850733.0       0.6319 2011-01-05 -3.231978  \n",
       "2011-01-06            958078.0       0.6065 2011-01-06 -0.169468  \n",
       "2011-01-07           1553546.0       0.6535 2011-01-07 -3.253643  \n",
       "...                        ...          ...        ...       ...  \n",
       "2020-12-24           1164270.0       0.4275 2020-12-24  2.168078  \n",
       "2020-12-28            889141.0       0.4264 2020-12-28  0.867564  \n",
       "2020-12-29           2226857.0       0.4959 2020-12-29  1.716166  \n",
       "2020-12-30           1494677.0       0.5150 2020-12-30 -0.035729  \n",
       "2020-12-31           2102976.0       0.4243 2020-12-31  1.612359  \n",
       "\n",
       "[2478 rows x 16 columns]"
      ]
     },
     "execution_count": 11,
     "metadata": {},
     "output_type": "execute_result"
    }
   ],
   "source": [
    "df"
   ]
  },
  {
   "cell_type": "code",
   "execution_count": 12,
   "id": "1ce9690c",
   "metadata": {},
   "outputs": [],
   "source": [
    "df=df.drop(columns=['Series','Symbol','Open','High','Low','Last','Close','VWAP','Volume','Turnover','Trades','Deliverable Volume','%Deliverble','Date','Prev Close'])"
   ]
  },
  {
   "cell_type": "code",
   "execution_count": 13,
   "id": "cc7f7fc9",
   "metadata": {},
   "outputs": [],
   "source": [
    "df.dropna(inplace=True)"
   ]
  },
  {
   "cell_type": "code",
   "execution_count": 14,
   "id": "89e4b0a7",
   "metadata": {},
   "outputs": [],
   "source": [
    "df=pd.DataFrame(df['return'])"
   ]
  },
  {
   "cell_type": "code",
   "execution_count": 15,
   "id": "5c31abe2",
   "metadata": {},
   "outputs": [
    {
     "data": {
      "text/plain": [
       "<AxesSubplot:xlabel='Date'>"
      ]
     },
     "execution_count": 15,
     "metadata": {},
     "output_type": "execute_result"
    },
    {
     "data": {
      "image/png": "[encoded data removed]",
      "text/plain": [
       "<Figure size 432x288 with 1 Axes>"
      ]
     },
     "metadata": {
      "needs_background": "light"
     },
     "output_type": "display_data"
    }
   ],
   "source": [
    "df.plot()"
   ]
  },
  {
   "cell_type": "code",
   "execution_count": 16,
   "id": "a74fb074",
   "metadata": {},
   "outputs": [
    {
     "data": {
      "text/plain": [
       "<bound method DataFrame.info of               return\n",
       "Date                \n",
       "2011-01-03 -0.020594\n",
       "2011-01-04  0.487503\n",
       "2011-01-05 -3.231978\n",
       "2011-01-06 -0.169468\n",
       "2011-01-07 -3.253643\n",
       "...              ...\n",
       "2020-12-24  2.168078\n",
       "2020-12-28  0.867564\n",
       "2020-12-29  1.716166\n",
       "2020-12-30 -0.035729\n",
       "2020-12-31  1.612359\n",
       "\n",
       "[2478 rows x 1 columns]>"
      ]
     },
     "execution_count": 16,
     "metadata": {},
     "output_type": "execute_result"
    }
   ],
   "source": [
    "df.index=pd.to_datetime(df.index)\n",
    "df.info"
   ]
  },
  {
   "cell_type": "code",
   "execution_count": 17,
   "id": "77edee09",
   "metadata": {},
   "outputs": [
    {
     "data": {
      "text/plain": [
       "DatetimeIndex(['2011-01-03', '2011-01-04', '2011-01-05', '2011-01-06',\n",
       "               '2011-01-07', '2011-01-10', '2011-01-11', '2011-01-12',\n",
       "               '2011-01-13', '2011-01-14',\n",
       "               ...\n",
       "               '2020-12-18', '2020-12-21', '2020-12-22', '2020-12-23',\n",
       "               '2020-12-24', '2020-12-25', '2020-12-28', '2020-12-29',\n",
       "               '2020-12-30', '2020-12-31'],\n",
       "              dtype='datetime64[ns]', name='Date', length=2609, freq='B')"
      ]
     },
     "execution_count": 17,
     "metadata": {},
     "output_type": "execute_result"
    }
   ],
   "source": [
    "df=df.asfreq('B')\n",
    "df.index"
   ]
  },
  {
   "cell_type": "code",
   "execution_count": 18,
   "id": "188baad0",
   "metadata": {},
   "outputs": [],
   "source": [
    "df=df.ffill(axis=0)"
   ]
  },
  {
   "cell_type": "code",
   "execution_count": 19,
   "id": "e4000ea3",
   "metadata": {},
   "outputs": [
    {
     "data": {
      "text/plain": [
       "False"
      ]
     },
     "execution_count": 19,
     "metadata": {},
     "output_type": "execute_result"
    }
   ],
   "source": [
    "df.isnull().values.any()"
   ]
  },
  {
   "cell_type": "code",
   "execution_count": 20,
   "id": "19a40166",
   "metadata": {},
   "outputs": [
    {
     "data": {
      "text/html": [
       "<div>\n",
       "<style scoped>\n",
       "    .dataframe tbody tr th:only-of-type {\n",
       "        vertical-align: middle;\n",
       "    }\n",
       "\n",
       "    .dataframe tbody tr th {\n",
       "        vertical-align: top;\n",
       "    }\n",
       "\n",
       "    .dataframe thead th {\n",
       "        text-align: right;\n",
       "    }\n",
       "</style>\n",
       "<table border=\"1\" class=\"dataframe\">\n",
       "  <thead>\n",
       "    <tr style=\"text-align: right;\">\n",
       "      <th></th>\n",
       "      <th>return</th>\n",
       "    </tr>\n",
       "    <tr>\n",
       "      <th>Date</th>\n",
       "      <th></th>\n",
       "    </tr>\n",
       "  </thead>\n",
       "  <tbody>\n",
       "    <tr>\n",
       "      <th>2011-01-03</th>\n",
       "      <td>-0.020594</td>\n",
       "    </tr>\n",
       "    <tr>\n",
       "      <th>2011-01-04</th>\n",
       "      <td>0.487503</td>\n",
       "    </tr>\n",
       "    <tr>\n",
       "      <th>2011-01-05</th>\n",
       "      <td>-3.231978</td>\n",
       "    </tr>\n",
       "    <tr>\n",
       "      <th>2011-01-06</th>\n",
       "      <td>-0.169468</td>\n",
       "    </tr>\n",
       "    <tr>\n",
       "      <th>2011-01-07</th>\n",
       "      <td>-3.253643</td>\n",
       "    </tr>\n",
       "    <tr>\n",
       "      <th>...</th>\n",
       "      <td>...</td>\n",
       "    </tr>\n",
       "    <tr>\n",
       "      <th>2020-12-25</th>\n",
       "      <td>2.168078</td>\n",
       "    </tr>\n",
       "    <tr>\n",
       "      <th>2020-12-28</th>\n",
       "      <td>0.867564</td>\n",
       "    </tr>\n",
       "    <tr>\n",
       "      <th>2020-12-29</th>\n",
       "      <td>1.716166</td>\n",
       "    </tr>\n",
       "    <tr>\n",
       "      <th>2020-12-30</th>\n",
       "      <td>-0.035729</td>\n",
       "    </tr>\n",
       "    <tr>\n",
       "      <th>2020-12-31</th>\n",
       "      <td>1.612359</td>\n",
       "    </tr>\n",
       "  </tbody>\n",
       "</table>\n",
       "<p>2609 rows × 1 columns</p>\n",
       "</div>"
      ],
      "text/plain": [
       "              return\n",
       "Date                \n",
       "2011-01-03 -0.020594\n",
       "2011-01-04  0.487503\n",
       "2011-01-05 -3.231978\n",
       "2011-01-06 -0.169468\n",
       "2011-01-07 -3.253643\n",
       "...              ...\n",
       "2020-12-25  2.168078\n",
       "2020-12-28  0.867564\n",
       "2020-12-29  1.716166\n",
       "2020-12-30 -0.035729\n",
       "2020-12-31  1.612359\n",
       "\n",
       "[2609 rows x 1 columns]"
      ]
     },
     "execution_count": 20,
     "metadata": {},
     "output_type": "execute_result"
    }
   ],
   "source": [
    "df"
   ]
  },
  {
   "cell_type": "code",
   "execution_count": 21,
   "id": "7aede0cd",
   "metadata": {},
   "outputs": [],
   "source": [
    "train=df.iloc[:2250,0]\n",
    "test=df.iloc[2250:,0]"
   ]
  },
  {
   "cell_type": "code",
   "execution_count": 22,
   "id": "14a0cc92",
   "metadata": {},
   "outputs": [],
   "source": [
    "from statsmodels.tsa.seasonal import seasonal_decompose"
   ]
  },
  {
   "cell_type": "code",
   "execution_count": 23,
   "id": "839db007",
   "metadata": {},
   "outputs": [],
   "source": [
    "Decomp_results=seasonal_decompose(df)"
   ]
  },
  {
   "cell_type": "code",
   "execution_count": 24,
   "id": "00fff1bb",
   "metadata": {},
   "outputs": [
    {
     "data": {
      "image/png": "[encoded data removed]",
      "text/plain": [
       "<Figure size 432x288 with 4 Axes>"
      ]
     },
     "execution_count": 24,
     "metadata": {},
     "output_type": "execute_result"
    },
    {
     "data": {
      "image/png": "[encoded data removed]",
      "text/plain": [
       "<Figure size 432x288 with 4 Axes>"
      ]
     },
     "metadata": {
      "needs_background": "light"
     },
     "output_type": "display_data"
    }
   ],
   "source": [
    "Decomp_results.plot()"
   ]
  },
  {
   "cell_type": "code",
   "execution_count": 25,
   "id": "7a7c2133",
   "metadata": {},
   "outputs": [],
   "source": [
    "from statsmodels.graphics.tsaplots import plot_acf,plot_pacf"
   ]
  },
  {
   "cell_type": "code",
   "execution_count": 26,
   "id": "811a2cab",
   "metadata": {},
   "outputs": [
    {
     "data": {
      "image/png": "[encoded data removed]",
      "text/plain": [
       "<Figure size 432x288 with 1 Axes>"
      ]
     },
     "execution_count": 26,
     "metadata": {},
     "output_type": "execute_result"
    },
    {
     "data": {
      "image/png": "[encoded data removed]",
      "text/plain": [
       "<Figure size 432x288 with 1 Axes>"
      ]
     },
     "metadata": {
      "needs_background": "light"
     },
     "output_type": "display_data"
    }
   ],
   "source": [
    "plot_acf(train,lags=50)"
   ]
  },
  {
   "cell_type": "code",
   "execution_count": 27,
   "id": "86a4e114",
   "metadata": {},
   "outputs": [
    {
     "data": {
      "image/png": "[encoded data removed]",
      "text/plain": [
       "<Figure size 432x288 with 1 Axes>"
      ]
     },
     "execution_count": 27,
     "metadata": {},
     "output_type": "execute_result"
    },
    {
     "data": {
      "image/png": "[encoded data removed]",
      "text/plain": [
       "<Figure size 432x288 with 1 Axes>"
      ]
     },
     "metadata": {
      "needs_background": "light"
     },
     "output_type": "display_data"
    }
   ],
   "source": [
    "plot_pacf(train,lags=50)"
   ]
  },
  {
   "cell_type": "code",
   "execution_count": 28,
   "id": "95684be7",
   "metadata": {},
   "outputs": [],
   "source": [
    "from statsmodels.tsa.ar_model import AutoReg"
   ]
  },
  {
   "cell_type": "code",
   "execution_count": 29,
   "id": "cda585f7",
   "metadata": {},
   "outputs": [],
   "source": [
    "from statsmodels.tsa.ar_model import ar_select_order"
   ]
  },
  {
   "cell_type": "code",
   "execution_count": 30,
   "id": "6c618654",
   "metadata": {},
   "outputs": [
    {
     "name": "stderr",
     "output_type": "stream",
     "text": [
      "C:\\ProgramData\\Anaconda3\\lib\\site-packages\\statsmodels\\tsa\\ar_model.py:248: FutureWarning: The parameter names will change after 0.12 is released. Set old_names to False to use the new names now. Set old_names to True to use the old names. \n",
      "  warnings.warn(\n"
     ]
    },
    {
     "data": {
      "text/plain": [
       "array([1, 2, 3])"
      ]
     },
     "execution_count": 30,
     "metadata": {},
     "output_type": "execute_result"
    }
   ],
   "source": [
    "mod=ar_select_order(df,maxlag=100)\n",
    "mod.ar_lags"
   ]
  },
  {
   "cell_type": "code",
   "execution_count": 31,
   "id": "d59e6b58",
   "metadata": {},
   "outputs": [
    {
     "name": "stderr",
     "output_type": "stream",
     "text": [
      "C:\\ProgramData\\Anaconda3\\lib\\site-packages\\statsmodels\\tsa\\base\\tsa_model.py:132: FutureWarning: The 'freq' argument in Timestamp is deprecated and will be removed in a future version.\n",
      "  date_key = Timestamp(key, freq=base_index.freq)\n"
     ]
    },
    {
     "data": {
      "text/html": [
       "<table class=\"simpletable\">\n",
       "<caption>AutoReg Model Results</caption>\n",
       "<tr>\n",
       "  <th>Dep. Variable:</th>      <td>return</td>      <th>  No. Observations:  </th>   <td>2250</td>   \n",
       "</tr>\n",
       "<tr>\n",
       "  <th>Model:</th>            <td>AutoReg(3)</td>    <th>  Log Likelihood     </th> <td>-4287.434</td>\n",
       "</tr>\n",
       "<tr>\n",
       "  <th>Method:</th>         <td>Conditional MLE</td> <th>  S.D. of innovations</th>   <td>1.631</td>  \n",
       "</tr>\n",
       "<tr>\n",
       "  <th>Date:</th>          <td>Sat, 04 Jun 2022</td> <th>  AIC                </th>   <td>0.983</td>  \n",
       "</tr>\n",
       "<tr>\n",
       "  <th>Time:</th>              <td>01:38:45</td>     <th>  BIC                </th>   <td>0.995</td>  \n",
       "</tr>\n",
       "<tr>\n",
       "  <th>Sample:</th>           <td>01-06-2011</td>    <th>  HQIC               </th>   <td>0.987</td>  \n",
       "</tr>\n",
       "<tr>\n",
       "  <th></th>                 <td>- 08-16-2019</td>   <th>                     </th>     <td> </td>    \n",
       "</tr>\n",
       "</table>\n",
       "<table class=\"simpletable\">\n",
       "<tr>\n",
       "      <td></td>         <th>coef</th>     <th>std err</th>      <th>z</th>      <th>P>|z|</th>  <th>[0.025</th>    <th>0.975]</th>  \n",
       "</tr>\n",
       "<tr>\n",
       "  <th>const</th>     <td>    0.0830</td> <td>    0.035</td> <td>    2.405</td> <td> 0.016</td> <td>    0.015</td> <td>    0.151</td>\n",
       "</tr>\n",
       "<tr>\n",
       "  <th>return.L1</th> <td>    0.0478</td> <td>    0.021</td> <td>    2.269</td> <td> 0.023</td> <td>    0.007</td> <td>    0.089</td>\n",
       "</tr>\n",
       "<tr>\n",
       "  <th>return.L2</th> <td>   -0.0407</td> <td>    0.021</td> <td>   -1.934</td> <td> 0.053</td> <td>   -0.082</td> <td>    0.001</td>\n",
       "</tr>\n",
       "<tr>\n",
       "  <th>return.L3</th> <td>   -0.0424</td> <td>    0.021</td> <td>   -2.013</td> <td> 0.044</td> <td>   -0.084</td> <td>   -0.001</td>\n",
       "</tr>\n",
       "</table>\n",
       "<table class=\"simpletable\">\n",
       "<caption>Roots</caption>\n",
       "<tr>\n",
       "    <td></td>   <th>            Real</th>  <th>         Imaginary</th> <th>         Modulus</th>  <th>        Frequency</th>\n",
       "</tr>\n",
       "<tr>\n",
       "  <th>AR.1</th> <td>           1.2050</td> <td>          -2.3549j</td> <td>           2.6453</td> <td>          -0.1747</td>\n",
       "</tr>\n",
       "<tr>\n",
       "  <th>AR.2</th> <td>           1.2050</td> <td>          +2.3549j</td> <td>           2.6453</td> <td>           0.1747</td>\n",
       "</tr>\n",
       "<tr>\n",
       "  <th>AR.3</th> <td>          -3.3713</td> <td>          -0.0000j</td> <td>           3.3713</td> <td>          -0.5000</td>\n",
       "</tr>\n",
       "</table>"
      ],
      "text/plain": [
       "<class 'statsmodels.iolib.summary.Summary'>\n",
       "\"\"\"\n",
       "                            AutoReg Model Results                             \n",
       "==============================================================================\n",
       "Dep. Variable:                 return   No. Observations:                 2250\n",
       "Model:                     AutoReg(3)   Log Likelihood               -4287.434\n",
       "Method:               Conditional MLE   S.D. of innovations              1.631\n",
       "Date:                Sat, 04 Jun 2022   AIC                              0.983\n",
       "Time:                        01:38:45   BIC                              0.995\n",
       "Sample:                    01-06-2011   HQIC                             0.987\n",
       "                         - 08-16-2019                                         \n",
       "==============================================================================\n",
       "                 coef    std err          z      P>|z|      [0.025      0.975]\n",
       "------------------------------------------------------------------------------\n",
       "const          0.0830      0.035      2.405      0.016       0.015       0.151\n",
       "return.L1      0.0478      0.021      2.269      0.023       0.007       0.089\n",
       "return.L2     -0.0407      0.021     -1.934      0.053      -0.082       0.001\n",
       "return.L3     -0.0424      0.021     -2.013      0.044      -0.084      -0.001\n",
       "                                    Roots                                    \n",
       "=============================================================================\n",
       "                  Real          Imaginary           Modulus         Frequency\n",
       "-----------------------------------------------------------------------------\n",
       "AR.1            1.2050           -2.3549j            2.6453           -0.1747\n",
       "AR.2            1.2050           +2.3549j            2.6453            0.1747\n",
       "AR.3           -3.3713           -0.0000j            3.3713           -0.5000\n",
       "-----------------------------------------------------------------------------\n",
       "\"\"\""
      ]
     },
     "execution_count": 31,
     "metadata": {},
     "output_type": "execute_result"
    }
   ],
   "source": [
    "model=AutoReg(train,lags=3,old_names=False)\n",
    "\n",
    "pred=model.fit()\n",
    "\n",
    "pred.summary()"
   ]
  },
  {
   "cell_type": "code",
   "execution_count": 32,
   "id": "f322f187",
   "metadata": {},
   "outputs": [
    {
     "name": "stdout",
     "output_type": "stream",
     "text": [
      "2019-08-19   -0.026578\n",
      "2019-08-20    0.080299\n",
      "2019-08-21    0.123382\n",
      "2019-08-22    0.086783\n",
      "2019-08-23    0.078748\n",
      "                ...   \n",
      "2020-12-25    0.080198\n",
      "2020-12-28    0.080198\n",
      "2020-12-29    0.080198\n",
      "2020-12-30    0.080198\n",
      "2020-12-31    0.080198\n",
      "Freq: B, Length: 359, dtype: float64\n"
     ]
    }
   ],
   "source": [
    "start_len=len(train)\n",
    "end_len=len(train)+len(test)-1\n",
    "\n",
    "pred_results=pred.predict(start=start_len,end=end_len,dynamic=False)\n",
    "print(pred_results)"
   ]
  },
  {
   "cell_type": "code",
   "execution_count": 39,
   "id": "953fd68f",
   "metadata": {},
   "outputs": [
    {
     "data": {
      "image/png": "[encoded data removed]",
      "text/plain": [
       "<Figure size 720x720 with 1 Axes>"
      ]
     },
     "metadata": {
      "needs_background": "light"
     },
     "output_type": "display_data"
    }
   ],
   "source": [
    "plt.figure(figsize=(10,10))\n",
    "plt.plot(pred_results.index,test,label='Actual')\n",
    "plt.plot(pred_results,label='Prediction',marker='.',linestyle='dashed',color='red')\n",
    "plt.title('AutoRegression')\n",
    "plt.xlabel('Date')\n",
    "plt.ylabel('return value')\n",
    "plt.grid(linestyle='dashed',color='green')\n",
    "plt.legend()\n",
    "plt.show()"
   ]
  },
  {
   "cell_type": "code",
   "execution_count": 34,
   "id": "b2ebc900",
   "metadata": {},
   "outputs": [
    {
     "name": "stdout",
     "output_type": "stream",
     "text": [
      "test mean\n"
     ]
    },
    {
     "data": {
      "text/plain": [
       "0.10405895351324931"
      ]
     },
     "execution_count": 34,
     "metadata": {},
     "output_type": "execute_result"
    }
   ],
   "source": [
    "print('test mean')\n",
    "test.mean()\n"
   ]
  },
  {
   "cell_type": "code",
   "execution_count": 35,
   "id": "fd66b263",
   "metadata": {},
   "outputs": [
    {
     "name": "stdout",
     "output_type": "stream",
     "text": [
      "prediction mean\n"
     ]
    },
    {
     "data": {
      "text/plain": [
       "0.0800290534236574"
      ]
     },
     "execution_count": 35,
     "metadata": {},
     "output_type": "execute_result"
    }
   ],
   "source": [
    "print('prediction mean')\n",
    "pred_results.mean()"
   ]
  },
  {
   "cell_type": "code",
   "execution_count": 36,
   "id": "77b735e4",
   "metadata": {},
   "outputs": [
    {
     "name": "stdout",
     "output_type": "stream",
     "text": [
      "2.7466628646623885\n"
     ]
    }
   ],
   "source": [
    "import math\n",
    "from sklearn.metrics import mean_squared_error\n",
    "rmse=math.sqrt(mean_squared_error(test,pred_results))\n",
    "print(rmse)"
   ]
  },
  {
   "cell_type": "code",
   "execution_count": 37,
   "id": "3d8c2dcb",
   "metadata": {},
   "outputs": [
    {
     "name": "stdout",
     "output_type": "stream",
     "text": [
      "1.838784804181701\n"
     ]
    }
   ],
   "source": [
    "from sklearn.metrics import mean_absolute_error\n",
    "error=mean_absolute_error(test,pred_results)\n",
    "print(error)"
   ]
  },
  {
   "cell_type": "code",
   "execution_count": 38,
   "id": "a8ce32cc",
   "metadata": {},
   "outputs": [
    {
     "data": {
      "text/plain": [
       "-0.00018769302548315991"
      ]
     },
     "execution_count": 38,
     "metadata": {},
     "output_type": "execute_result"
    }
   ],
   "source": [
    "from sklearn.metrics import r2_score\n",
    "r2_score(test,pred_results)"
   ]
  },
  {
   "cell_type": "code",
   "execution_count": null,
   "id": "bbf96146",
   "metadata": {},
   "outputs": [],
   "source": []
  },
  {
   "cell_type": "code",
   "execution_count": null,
   "id": "e1fa25f4",
   "metadata": {},
   "outputs": [],
   "source": []
  },
  {
   "cell_type": "code",
   "execution_count": null,
   "id": "196540ef",
   "metadata": {},
   "outputs": [],
   "source": []
  }
 ],
 "metadata": {
  "kernelspec": {
   "display_name": "Python 3 (ipykernel)",
   "language": "python",
   "name": "python3"
  },
  "language_info": {
   "codemirror_mode": {
    "name": "ipython",
    "version": 3
   },
   "file_extension": ".py",
   "mimetype": "text/x-python",
   "name": "python",
   "nbconvert_exporter": "python",
   "pygments_lexer": "ipython3",
   "version": "3.9.7"
  }
 },
 "nbformat": 4,
 "nbformat_minor": 5
}
