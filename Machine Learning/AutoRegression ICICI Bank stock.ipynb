{
 "cells": [
  {
   "cell_type": "code",
   "execution_count": 1,
   "id": "ed84baef",
   "metadata": {},
   "outputs": [],
   "source": [
    "import numpy as np\n",
    "import matplotlib.pyplot as plt\n",
    "import pandas as pd\n"
   ]
  },
  {
   "cell_type": "code",
   "execution_count": 2,
   "id": "1107fb1c",
   "metadata": {},
   "outputs": [],
   "source": [
    "df=pd.read_csv(\"./dataset/ICICIBANK.csv\",index_col='Date',parse_dates=True)"
   ]
  },
  {
   "cell_type": "code",
   "execution_count": 3,
   "id": "3d91dcb6",
   "metadata": {},
   "outputs": [
    {
     "data": {
      "text/html": [
       "<div>\n",
       "<style scoped>\n",
       "    .dataframe tbody tr th:only-of-type {\n",
       "        vertical-align: middle;\n",
       "    }\n",
       "\n",
       "    .dataframe tbody tr th {\n",
       "        vertical-align: top;\n",
       "    }\n",
       "\n",
       "    .dataframe thead th {\n",
       "        text-align: right;\n",
       "    }\n",
       "</style>\n",
       "<table border=\"1\" class=\"dataframe\">\n",
       "  <thead>\n",
       "    <tr style=\"text-align: right;\">\n",
       "      <th></th>\n",
       "      <th>Symbol</th>\n",
       "      <th>Series</th>\n",
       "      <th>Prev Close</th>\n",
       "      <th>Open</th>\n",
       "      <th>High</th>\n",
       "      <th>Low</th>\n",
       "      <th>Last</th>\n",
       "      <th>Close</th>\n",
       "      <th>VWAP</th>\n",
       "      <th>Volume</th>\n",
       "      <th>Turnover</th>\n",
       "      <th>Trades</th>\n",
       "      <th>Deliverable Volume</th>\n",
       "      <th>%Deliverble</th>\n",
       "    </tr>\n",
       "    <tr>\n",
       "      <th>Date</th>\n",
       "      <th></th>\n",
       "      <th></th>\n",
       "      <th></th>\n",
       "      <th></th>\n",
       "      <th></th>\n",
       "      <th></th>\n",
       "      <th></th>\n",
       "      <th></th>\n",
       "      <th></th>\n",
       "      <th></th>\n",
       "      <th></th>\n",
       "      <th></th>\n",
       "      <th></th>\n",
       "      <th></th>\n",
       "    </tr>\n",
       "  </thead>\n",
       "  <tbody>\n",
       "    <tr>\n",
       "      <th>2000-01-03</th>\n",
       "      <td>ICICIBANK</td>\n",
       "      <td>EQ</td>\n",
       "      <td>69.20</td>\n",
       "      <td>74.35</td>\n",
       "      <td>74.75</td>\n",
       "      <td>71.40</td>\n",
       "      <td>74.75</td>\n",
       "      <td>74.75</td>\n",
       "      <td>73.20</td>\n",
       "      <td>286260</td>\n",
       "      <td>2.095439e+12</td>\n",
       "      <td>NaN</td>\n",
       "      <td>NaN</td>\n",
       "      <td>NaN</td>\n",
       "    </tr>\n",
       "    <tr>\n",
       "      <th>2000-01-04</th>\n",
       "      <td>ICICIBANK</td>\n",
       "      <td>EQ</td>\n",
       "      <td>74.75</td>\n",
       "      <td>73.05</td>\n",
       "      <td>78.50</td>\n",
       "      <td>71.00</td>\n",
       "      <td>73.25</td>\n",
       "      <td>73.05</td>\n",
       "      <td>73.38</td>\n",
       "      <td>296264</td>\n",
       "      <td>2.173893e+12</td>\n",
       "      <td>NaN</td>\n",
       "      <td>NaN</td>\n",
       "      <td>NaN</td>\n",
       "    </tr>\n",
       "    <tr>\n",
       "      <th>2000-01-05</th>\n",
       "      <td>ICICIBANK</td>\n",
       "      <td>EQ</td>\n",
       "      <td>73.05</td>\n",
       "      <td>70.00</td>\n",
       "      <td>73.50</td>\n",
       "      <td>67.50</td>\n",
       "      <td>70.00</td>\n",
       "      <td>69.50</td>\n",
       "      <td>70.85</td>\n",
       "      <td>227624</td>\n",
       "      <td>1.612794e+12</td>\n",
       "      <td>NaN</td>\n",
       "      <td>NaN</td>\n",
       "      <td>NaN</td>\n",
       "    </tr>\n",
       "    <tr>\n",
       "      <th>2000-01-06</th>\n",
       "      <td>ICICIBANK</td>\n",
       "      <td>EQ</td>\n",
       "      <td>69.50</td>\n",
       "      <td>71.00</td>\n",
       "      <td>74.00</td>\n",
       "      <td>69.55</td>\n",
       "      <td>69.75</td>\n",
       "      <td>70.05</td>\n",
       "      <td>72.04</td>\n",
       "      <td>275149</td>\n",
       "      <td>1.982121e+12</td>\n",
       "      <td>NaN</td>\n",
       "      <td>NaN</td>\n",
       "      <td>NaN</td>\n",
       "    </tr>\n",
       "    <tr>\n",
       "      <th>2000-01-07</th>\n",
       "      <td>ICICIBANK</td>\n",
       "      <td>EQ</td>\n",
       "      <td>70.05</td>\n",
       "      <td>69.00</td>\n",
       "      <td>72.50</td>\n",
       "      <td>66.00</td>\n",
       "      <td>67.00</td>\n",
       "      <td>67.40</td>\n",
       "      <td>68.72</td>\n",
       "      <td>138809</td>\n",
       "      <td>9.538882e+11</td>\n",
       "      <td>NaN</td>\n",
       "      <td>NaN</td>\n",
       "      <td>NaN</td>\n",
       "    </tr>\n",
       "    <tr>\n",
       "      <th>...</th>\n",
       "      <td>...</td>\n",
       "      <td>...</td>\n",
       "      <td>...</td>\n",
       "      <td>...</td>\n",
       "      <td>...</td>\n",
       "      <td>...</td>\n",
       "      <td>...</td>\n",
       "      <td>...</td>\n",
       "      <td>...</td>\n",
       "      <td>...</td>\n",
       "      <td>...</td>\n",
       "      <td>...</td>\n",
       "      <td>...</td>\n",
       "      <td>...</td>\n",
       "    </tr>\n",
       "    <tr>\n",
       "      <th>2021-04-26</th>\n",
       "      <td>ICICIBANK</td>\n",
       "      <td>EQ</td>\n",
       "      <td>569.95</td>\n",
       "      <td>602.00</td>\n",
       "      <td>605.50</td>\n",
       "      <td>588.00</td>\n",
       "      <td>588.70</td>\n",
       "      <td>591.10</td>\n",
       "      <td>596.22</td>\n",
       "      <td>62584522</td>\n",
       "      <td>3.731429e+15</td>\n",
       "      <td>546696.0</td>\n",
       "      <td>16913351.0</td>\n",
       "      <td>0.2702</td>\n",
       "    </tr>\n",
       "    <tr>\n",
       "      <th>2021-04-27</th>\n",
       "      <td>ICICIBANK</td>\n",
       "      <td>EQ</td>\n",
       "      <td>591.10</td>\n",
       "      <td>593.25</td>\n",
       "      <td>601.95</td>\n",
       "      <td>591.10</td>\n",
       "      <td>599.00</td>\n",
       "      <td>598.75</td>\n",
       "      <td>597.63</td>\n",
       "      <td>24239685</td>\n",
       "      <td>1.448630e+15</td>\n",
       "      <td>233412.0</td>\n",
       "      <td>9056247.0</td>\n",
       "      <td>0.3736</td>\n",
       "    </tr>\n",
       "    <tr>\n",
       "      <th>2021-04-28</th>\n",
       "      <td>ICICIBANK</td>\n",
       "      <td>EQ</td>\n",
       "      <td>598.75</td>\n",
       "      <td>598.00</td>\n",
       "      <td>622.80</td>\n",
       "      <td>598.00</td>\n",
       "      <td>619.70</td>\n",
       "      <td>621.35</td>\n",
       "      <td>612.57</td>\n",
       "      <td>33292864</td>\n",
       "      <td>2.039422e+15</td>\n",
       "      <td>295406.0</td>\n",
       "      <td>14011476.0</td>\n",
       "      <td>0.4209</td>\n",
       "    </tr>\n",
       "    <tr>\n",
       "      <th>2021-04-29</th>\n",
       "      <td>ICICIBANK</td>\n",
       "      <td>EQ</td>\n",
       "      <td>621.35</td>\n",
       "      <td>622.55</td>\n",
       "      <td>628.45</td>\n",
       "      <td>609.00</td>\n",
       "      <td>621.00</td>\n",
       "      <td>621.45</td>\n",
       "      <td>619.55</td>\n",
       "      <td>34537860</td>\n",
       "      <td>2.139792e+15</td>\n",
       "      <td>304029.0</td>\n",
       "      <td>10324897.0</td>\n",
       "      <td>0.2989</td>\n",
       "    </tr>\n",
       "    <tr>\n",
       "      <th>2021-04-30</th>\n",
       "      <td>ICICIBANK</td>\n",
       "      <td>EQ</td>\n",
       "      <td>621.45</td>\n",
       "      <td>610.10</td>\n",
       "      <td>616.35</td>\n",
       "      <td>598.10</td>\n",
       "      <td>599.70</td>\n",
       "      <td>600.50</td>\n",
       "      <td>607.02</td>\n",
       "      <td>23653258</td>\n",
       "      <td>1.435801e+15</td>\n",
       "      <td>247055.0</td>\n",
       "      <td>7292392.0</td>\n",
       "      <td>0.3083</td>\n",
       "    </tr>\n",
       "  </tbody>\n",
       "</table>\n",
       "<p>5306 rows × 14 columns</p>\n",
       "</div>"
      ],
      "text/plain": [
       "               Symbol Series  Prev Close    Open    High     Low    Last  \\\n",
       "Date                                                                       \n",
       "2000-01-03  ICICIBANK     EQ       69.20   74.35   74.75   71.40   74.75   \n",
       "2000-01-04  ICICIBANK     EQ       74.75   73.05   78.50   71.00   73.25   \n",
       "2000-01-05  ICICIBANK     EQ       73.05   70.00   73.50   67.50   70.00   \n",
       "2000-01-06  ICICIBANK     EQ       69.50   71.00   74.00   69.55   69.75   \n",
       "2000-01-07  ICICIBANK     EQ       70.05   69.00   72.50   66.00   67.00   \n",
       "...               ...    ...         ...     ...     ...     ...     ...   \n",
       "2021-04-26  ICICIBANK     EQ      569.95  602.00  605.50  588.00  588.70   \n",
       "2021-04-27  ICICIBANK     EQ      591.10  593.25  601.95  591.10  599.00   \n",
       "2021-04-28  ICICIBANK     EQ      598.75  598.00  622.80  598.00  619.70   \n",
       "2021-04-29  ICICIBANK     EQ      621.35  622.55  628.45  609.00  621.00   \n",
       "2021-04-30  ICICIBANK     EQ      621.45  610.10  616.35  598.10  599.70   \n",
       "\n",
       "             Close    VWAP    Volume      Turnover    Trades  \\\n",
       "Date                                                           \n",
       "2000-01-03   74.75   73.20    286260  2.095439e+12       NaN   \n",
       "2000-01-04   73.05   73.38    296264  2.173893e+12       NaN   \n",
       "2000-01-05   69.50   70.85    227624  1.612794e+12       NaN   \n",
       "2000-01-06   70.05   72.04    275149  1.982121e+12       NaN   \n",
       "2000-01-07   67.40   68.72    138809  9.538882e+11       NaN   \n",
       "...            ...     ...       ...           ...       ...   \n",
       "2021-04-26  591.10  596.22  62584522  3.731429e+15  546696.0   \n",
       "2021-04-27  598.75  597.63  24239685  1.448630e+15  233412.0   \n",
       "2021-04-28  621.35  612.57  33292864  2.039422e+15  295406.0   \n",
       "2021-04-29  621.45  619.55  34537860  2.139792e+15  304029.0   \n",
       "2021-04-30  600.50  607.02  23653258  1.435801e+15  247055.0   \n",
       "\n",
       "            Deliverable Volume  %Deliverble  \n",
       "Date                                         \n",
       "2000-01-03                 NaN          NaN  \n",
       "2000-01-04                 NaN          NaN  \n",
       "2000-01-05                 NaN          NaN  \n",
       "2000-01-06                 NaN          NaN  \n",
       "2000-01-07                 NaN          NaN  \n",
       "...                        ...          ...  \n",
       "2021-04-26          16913351.0       0.2702  \n",
       "2021-04-27           9056247.0       0.3736  \n",
       "2021-04-28          14011476.0       0.4209  \n",
       "2021-04-29          10324897.0       0.2989  \n",
       "2021-04-30           7292392.0       0.3083  \n",
       "\n",
       "[5306 rows x 14 columns]"
      ]
     },
     "execution_count": 3,
     "metadata": {},
     "output_type": "execute_result"
    }
   ],
   "source": [
    "df"
   ]
  },
  {
   "cell_type": "code",
   "execution_count": 4,
   "id": "ce81dda9",
   "metadata": {},
   "outputs": [
    {
     "data": {
      "text/plain": [
       "Symbol                 object\n",
       "Series                 object\n",
       "Prev Close            float64\n",
       "Open                  float64\n",
       "High                  float64\n",
       "Low                   float64\n",
       "Last                  float64\n",
       "Close                 float64\n",
       "VWAP                  float64\n",
       "Volume                  int64\n",
       "Turnover              float64\n",
       "Trades                float64\n",
       "Deliverable Volume    float64\n",
       "%Deliverble           float64\n",
       "dtype: object"
      ]
     },
     "execution_count": 4,
     "metadata": {},
     "output_type": "execute_result"
    }
   ],
   "source": [
    "df.dtypes"
   ]
  },
  {
   "cell_type": "code",
   "execution_count": 5,
   "id": "1e8e143b",
   "metadata": {},
   "outputs": [],
   "source": [
    "numerical_data=df.select_dtypes(include=['float64','int64']).columns"
   ]
  },
  {
   "cell_type": "code",
   "execution_count": 6,
   "id": "bd678fb4",
   "metadata": {},
   "outputs": [],
   "source": [
    "categorical_data=df.select_dtypes(include=['object']).columns"
   ]
  },
  {
   "cell_type": "code",
   "execution_count": 7,
   "id": "7813f04a",
   "metadata": {},
   "outputs": [],
   "source": [
    "df['Date']=df.index"
   ]
  },
  {
   "cell_type": "code",
   "execution_count": 8,
   "id": "312f0f8e",
   "metadata": {},
   "outputs": [],
   "source": [
    "start_date='2011-01-01'\n",
    "end_date='2020-12-31'\n",
    "mask=(df['Date']>=start_date)&(df['Date']<=end_date)"
   ]
  },
  {
   "cell_type": "markdown",
   "id": "8d15f1ec",
   "metadata": {},
   "source": [
    "rate of return is defined as the closing value subtracted from the previos close value divided by previous close value multiplied by 100\n",
    "\n",
    "Return=[(Close-Prev Close)/Prev Close]x100"
   ]
  },
  {
   "cell_type": "code",
   "execution_count": 9,
   "id": "03b0488f",
   "metadata": {},
   "outputs": [],
   "source": [
    "df['return']=((df['Close']-df['Prev Close'])/df['Prev Close'])*100"
   ]
  },
  {
   "cell_type": "code",
   "execution_count": 10,
   "id": "b72f9ecc",
   "metadata": {},
   "outputs": [],
   "source": [
    "df=df.loc[mask]"
   ]
  },
  {
   "cell_type": "code",
   "execution_count": 11,
   "id": "19d43c01",
   "metadata": {},
   "outputs": [
    {
     "data": {
      "text/html": [
       "<div>\n",
       "<style scoped>\n",
       "    .dataframe tbody tr th:only-of-type {\n",
       "        vertical-align: middle;\n",
       "    }\n",
       "\n",
       "    .dataframe tbody tr th {\n",
       "        vertical-align: top;\n",
       "    }\n",
       "\n",
       "    .dataframe thead th {\n",
       "        text-align: right;\n",
       "    }\n",
       "</style>\n",
       "<table border=\"1\" class=\"dataframe\">\n",
       "  <thead>\n",
       "    <tr style=\"text-align: right;\">\n",
       "      <th></th>\n",
       "      <th>Symbol</th>\n",
       "      <th>Series</th>\n",
       "      <th>Prev Close</th>\n",
       "      <th>Open</th>\n",
       "      <th>High</th>\n",
       "      <th>Low</th>\n",
       "      <th>Last</th>\n",
       "      <th>Close</th>\n",
       "      <th>VWAP</th>\n",
       "      <th>Volume</th>\n",
       "      <th>Turnover</th>\n",
       "      <th>Trades</th>\n",
       "      <th>Deliverable Volume</th>\n",
       "      <th>%Deliverble</th>\n",
       "      <th>Date</th>\n",
       "      <th>return</th>\n",
       "    </tr>\n",
       "    <tr>\n",
       "      <th>Date</th>\n",
       "      <th></th>\n",
       "      <th></th>\n",
       "      <th></th>\n",
       "      <th></th>\n",
       "      <th></th>\n",
       "      <th></th>\n",
       "      <th></th>\n",
       "      <th></th>\n",
       "      <th></th>\n",
       "      <th></th>\n",
       "      <th></th>\n",
       "      <th></th>\n",
       "      <th></th>\n",
       "      <th></th>\n",
       "      <th></th>\n",
       "      <th></th>\n",
       "    </tr>\n",
       "  </thead>\n",
       "  <tbody>\n",
       "    <tr>\n",
       "      <th>2011-01-03</th>\n",
       "      <td>ICICIBANK</td>\n",
       "      <td>EQ</td>\n",
       "      <td>1145.10</td>\n",
       "      <td>1154.00</td>\n",
       "      <td>1158.40</td>\n",
       "      <td>1138.95</td>\n",
       "      <td>1140.35</td>\n",
       "      <td>1144.85</td>\n",
       "      <td>1148.52</td>\n",
       "      <td>1379646</td>\n",
       "      <td>1.584558e+14</td>\n",
       "      <td>NaN</td>\n",
       "      <td>532787.0</td>\n",
       "      <td>0.3862</td>\n",
       "      <td>2011-01-03</td>\n",
       "      <td>-0.021832</td>\n",
       "    </tr>\n",
       "    <tr>\n",
       "      <th>2011-01-04</th>\n",
       "      <td>ICICIBANK</td>\n",
       "      <td>EQ</td>\n",
       "      <td>1144.85</td>\n",
       "      <td>1145.70</td>\n",
       "      <td>1149.20</td>\n",
       "      <td>1098.10</td>\n",
       "      <td>1107.25</td>\n",
       "      <td>1104.05</td>\n",
       "      <td>1114.11</td>\n",
       "      <td>4175490</td>\n",
       "      <td>4.651973e+14</td>\n",
       "      <td>NaN</td>\n",
       "      <td>1957747.0</td>\n",
       "      <td>0.4689</td>\n",
       "      <td>2011-01-04</td>\n",
       "      <td>-3.563786</td>\n",
       "    </tr>\n",
       "    <tr>\n",
       "      <th>2011-01-05</th>\n",
       "      <td>ICICIBANK</td>\n",
       "      <td>EQ</td>\n",
       "      <td>1104.05</td>\n",
       "      <td>1097.20</td>\n",
       "      <td>1099.00</td>\n",
       "      <td>1065.00</td>\n",
       "      <td>1068.80</td>\n",
       "      <td>1069.35</td>\n",
       "      <td>1075.35</td>\n",
       "      <td>5307600</td>\n",
       "      <td>5.707528e+14</td>\n",
       "      <td>NaN</td>\n",
       "      <td>3091192.0</td>\n",
       "      <td>0.5824</td>\n",
       "      <td>2011-01-05</td>\n",
       "      <td>-3.142974</td>\n",
       "    </tr>\n",
       "    <tr>\n",
       "      <th>2011-01-06</th>\n",
       "      <td>ICICIBANK</td>\n",
       "      <td>EQ</td>\n",
       "      <td>1069.35</td>\n",
       "      <td>1074.25</td>\n",
       "      <td>1078.45</td>\n",
       "      <td>1047.25</td>\n",
       "      <td>1050.00</td>\n",
       "      <td>1053.45</td>\n",
       "      <td>1057.66</td>\n",
       "      <td>4769781</td>\n",
       "      <td>5.044794e+14</td>\n",
       "      <td>NaN</td>\n",
       "      <td>2590552.0</td>\n",
       "      <td>0.5431</td>\n",
       "      <td>2011-01-06</td>\n",
       "      <td>-1.486885</td>\n",
       "    </tr>\n",
       "    <tr>\n",
       "      <th>2011-01-07</th>\n",
       "      <td>ICICIBANK</td>\n",
       "      <td>EQ</td>\n",
       "      <td>1053.45</td>\n",
       "      <td>1045.00</td>\n",
       "      <td>1077.90</td>\n",
       "      <td>1041.00</td>\n",
       "      <td>1042.00</td>\n",
       "      <td>1049.20</td>\n",
       "      <td>1063.31</td>\n",
       "      <td>6178882</td>\n",
       "      <td>6.570046e+14</td>\n",
       "      <td>NaN</td>\n",
       "      <td>2948967.0</td>\n",
       "      <td>0.4773</td>\n",
       "      <td>2011-01-07</td>\n",
       "      <td>-0.403436</td>\n",
       "    </tr>\n",
       "    <tr>\n",
       "      <th>...</th>\n",
       "      <td>...</td>\n",
       "      <td>...</td>\n",
       "      <td>...</td>\n",
       "      <td>...</td>\n",
       "      <td>...</td>\n",
       "      <td>...</td>\n",
       "      <td>...</td>\n",
       "      <td>...</td>\n",
       "      <td>...</td>\n",
       "      <td>...</td>\n",
       "      <td>...</td>\n",
       "      <td>...</td>\n",
       "      <td>...</td>\n",
       "      <td>...</td>\n",
       "      <td>...</td>\n",
       "      <td>...</td>\n",
       "    </tr>\n",
       "    <tr>\n",
       "      <th>2020-12-24</th>\n",
       "      <td>ICICIBANK</td>\n",
       "      <td>EQ</td>\n",
       "      <td>503.60</td>\n",
       "      <td>506.75</td>\n",
       "      <td>515.95</td>\n",
       "      <td>505.10</td>\n",
       "      <td>513.05</td>\n",
       "      <td>513.55</td>\n",
       "      <td>512.50</td>\n",
       "      <td>17576807</td>\n",
       "      <td>9.008152e+14</td>\n",
       "      <td>161245.0</td>\n",
       "      <td>6829704.0</td>\n",
       "      <td>0.3886</td>\n",
       "      <td>2020-12-24</td>\n",
       "      <td>1.975774</td>\n",
       "    </tr>\n",
       "    <tr>\n",
       "      <th>2020-12-28</th>\n",
       "      <td>ICICIBANK</td>\n",
       "      <td>EQ</td>\n",
       "      <td>513.55</td>\n",
       "      <td>515.90</td>\n",
       "      <td>521.20</td>\n",
       "      <td>513.60</td>\n",
       "      <td>520.50</td>\n",
       "      <td>520.10</td>\n",
       "      <td>518.24</td>\n",
       "      <td>14470472</td>\n",
       "      <td>7.499174e+14</td>\n",
       "      <td>135145.0</td>\n",
       "      <td>5948817.0</td>\n",
       "      <td>0.4111</td>\n",
       "      <td>2020-12-28</td>\n",
       "      <td>1.275436</td>\n",
       "    </tr>\n",
       "    <tr>\n",
       "      <th>2020-12-29</th>\n",
       "      <td>ICICIBANK</td>\n",
       "      <td>EQ</td>\n",
       "      <td>520.10</td>\n",
       "      <td>522.55</td>\n",
       "      <td>530.80</td>\n",
       "      <td>517.85</td>\n",
       "      <td>530.10</td>\n",
       "      <td>528.80</td>\n",
       "      <td>524.61</td>\n",
       "      <td>19092649</td>\n",
       "      <td>1.001612e+15</td>\n",
       "      <td>210508.0</td>\n",
       "      <td>7990248.0</td>\n",
       "      <td>0.4185</td>\n",
       "      <td>2020-12-29</td>\n",
       "      <td>1.672755</td>\n",
       "    </tr>\n",
       "    <tr>\n",
       "      <th>2020-12-30</th>\n",
       "      <td>ICICIBANK</td>\n",
       "      <td>EQ</td>\n",
       "      <td>528.80</td>\n",
       "      <td>531.65</td>\n",
       "      <td>533.00</td>\n",
       "      <td>524.55</td>\n",
       "      <td>527.60</td>\n",
       "      <td>528.75</td>\n",
       "      <td>527.72</td>\n",
       "      <td>21365141</td>\n",
       "      <td>1.127486e+15</td>\n",
       "      <td>174183.0</td>\n",
       "      <td>9162752.0</td>\n",
       "      <td>0.4289</td>\n",
       "      <td>2020-12-30</td>\n",
       "      <td>-0.009455</td>\n",
       "    </tr>\n",
       "    <tr>\n",
       "      <th>2020-12-31</th>\n",
       "      <td>ICICIBANK</td>\n",
       "      <td>EQ</td>\n",
       "      <td>528.75</td>\n",
       "      <td>530.10</td>\n",
       "      <td>538.50</td>\n",
       "      <td>526.50</td>\n",
       "      <td>534.00</td>\n",
       "      <td>535.05</td>\n",
       "      <td>534.42</td>\n",
       "      <td>27817770</td>\n",
       "      <td>1.486648e+15</td>\n",
       "      <td>213687.0</td>\n",
       "      <td>12000741.0</td>\n",
       "      <td>0.4314</td>\n",
       "      <td>2020-12-31</td>\n",
       "      <td>1.191489</td>\n",
       "    </tr>\n",
       "  </tbody>\n",
       "</table>\n",
       "<p>2478 rows × 16 columns</p>\n",
       "</div>"
      ],
      "text/plain": [
       "               Symbol Series  Prev Close     Open     High      Low     Last  \\\n",
       "Date                                                                           \n",
       "2011-01-03  ICICIBANK     EQ     1145.10  1154.00  1158.40  1138.95  1140.35   \n",
       "2011-01-04  ICICIBANK     EQ     1144.85  1145.70  1149.20  1098.10  1107.25   \n",
       "2011-01-05  ICICIBANK     EQ     1104.05  1097.20  1099.00  1065.00  1068.80   \n",
       "2011-01-06  ICICIBANK     EQ     1069.35  1074.25  1078.45  1047.25  1050.00   \n",
       "2011-01-07  ICICIBANK     EQ     1053.45  1045.00  1077.90  1041.00  1042.00   \n",
       "...               ...    ...         ...      ...      ...      ...      ...   \n",
       "2020-12-24  ICICIBANK     EQ      503.60   506.75   515.95   505.10   513.05   \n",
       "2020-12-28  ICICIBANK     EQ      513.55   515.90   521.20   513.60   520.50   \n",
       "2020-12-29  ICICIBANK     EQ      520.10   522.55   530.80   517.85   530.10   \n",
       "2020-12-30  ICICIBANK     EQ      528.80   531.65   533.00   524.55   527.60   \n",
       "2020-12-31  ICICIBANK     EQ      528.75   530.10   538.50   526.50   534.00   \n",
       "\n",
       "              Close     VWAP    Volume      Turnover    Trades  \\\n",
       "Date                                                             \n",
       "2011-01-03  1144.85  1148.52   1379646  1.584558e+14       NaN   \n",
       "2011-01-04  1104.05  1114.11   4175490  4.651973e+14       NaN   \n",
       "2011-01-05  1069.35  1075.35   5307600  5.707528e+14       NaN   \n",
       "2011-01-06  1053.45  1057.66   4769781  5.044794e+14       NaN   \n",
       "2011-01-07  1049.20  1063.31   6178882  6.570046e+14       NaN   \n",
       "...             ...      ...       ...           ...       ...   \n",
       "2020-12-24   513.55   512.50  17576807  9.008152e+14  161245.0   \n",
       "2020-12-28   520.10   518.24  14470472  7.499174e+14  135145.0   \n",
       "2020-12-29   528.80   524.61  19092649  1.001612e+15  210508.0   \n",
       "2020-12-30   528.75   527.72  21365141  1.127486e+15  174183.0   \n",
       "2020-12-31   535.05   534.42  27817770  1.486648e+15  213687.0   \n",
       "\n",
       "            Deliverable Volume  %Deliverble       Date    return  \n",
       "Date                                                              \n",
       "2011-01-03            532787.0       0.3862 2011-01-03 -0.021832  \n",
       "2011-01-04           1957747.0       0.4689 2011-01-04 -3.563786  \n",
       "2011-01-05           3091192.0       0.5824 2011-01-05 -3.142974  \n",
       "2011-01-06           2590552.0       0.5431 2011-01-06 -1.486885  \n",
       "2011-01-07           2948967.0       0.4773 2011-01-07 -0.403436  \n",
       "...                        ...          ...        ...       ...  \n",
       "2020-12-24           6829704.0       0.3886 2020-12-24  1.975774  \n",
       "2020-12-28           5948817.0       0.4111 2020-12-28  1.275436  \n",
       "2020-12-29           7990248.0       0.4185 2020-12-29  1.672755  \n",
       "2020-12-30           9162752.0       0.4289 2020-12-30 -0.009455  \n",
       "2020-12-31          12000741.0       0.4314 2020-12-31  1.191489  \n",
       "\n",
       "[2478 rows x 16 columns]"
      ]
     },
     "execution_count": 11,
     "metadata": {},
     "output_type": "execute_result"
    }
   ],
   "source": [
    "df"
   ]
  },
  {
   "cell_type": "code",
   "execution_count": 12,
   "id": "1ce9690c",
   "metadata": {},
   "outputs": [],
   "source": [
    "df=df.drop(columns=['Series','Symbol','Open','High','Low','Last','Close','VWAP','Volume','Turnover','Trades','Deliverable Volume','%Deliverble','Date','Prev Close'])"
   ]
  },
  {
   "cell_type": "code",
   "execution_count": 13,
   "id": "cc7f7fc9",
   "metadata": {},
   "outputs": [],
   "source": [
    "df.dropna(inplace=True)"
   ]
  },
  {
   "cell_type": "code",
   "execution_count": 14,
   "id": "89e4b0a7",
   "metadata": {},
   "outputs": [],
   "source": [
    "df=pd.DataFrame(df['return'])"
   ]
  },
  {
   "cell_type": "code",
   "execution_count": 15,
   "id": "5c31abe2",
   "metadata": {},
   "outputs": [
    {
     "data": {
      "text/plain": [
       "<AxesSubplot:xlabel='Date'>"
      ]
     },
     "execution_count": 15,
     "metadata": {},
     "output_type": "execute_result"
    },
    {
     "data": {
      "image/png": "[encoded data removed]",
      "text/plain": [
       "<Figure size 432x288 with 1 Axes>"
      ]
     },
     "metadata": {
      "needs_background": "light"
     },
     "output_type": "display_data"
    }
   ],
   "source": [
    "df.plot()"
   ]
  },
  {
   "cell_type": "code",
   "execution_count": 16,
   "id": "a74fb074",
   "metadata": {},
   "outputs": [
    {
     "data": {
      "text/plain": [
       "<bound method DataFrame.info of               return\n",
       "Date                \n",
       "2011-01-03 -0.021832\n",
       "2011-01-04 -3.563786\n",
       "2011-01-05 -3.142974\n",
       "2011-01-06 -1.486885\n",
       "2011-01-07 -0.403436\n",
       "...              ...\n",
       "2020-12-24  1.975774\n",
       "2020-12-28  1.275436\n",
       "2020-12-29  1.672755\n",
       "2020-12-30 -0.009455\n",
       "2020-12-31  1.191489\n",
       "\n",
       "[2478 rows x 1 columns]>"
      ]
     },
     "execution_count": 16,
     "metadata": {},
     "output_type": "execute_result"
    }
   ],
   "source": [
    "df.index=pd.to_datetime(df.index)\n",
    "df.info"
   ]
  },
  {
   "cell_type": "code",
   "execution_count": 17,
   "id": "77edee09",
   "metadata": {},
   "outputs": [
    {
     "data": {
      "text/plain": [
       "DatetimeIndex(['2011-01-03', '2011-01-04', '2011-01-05', '2011-01-06',\n",
       "               '2011-01-07', '2011-01-10', '2011-01-11', '2011-01-12',\n",
       "               '2011-01-13', '2011-01-14',\n",
       "               ...\n",
       "               '2020-12-18', '2020-12-21', '2020-12-22', '2020-12-23',\n",
       "               '2020-12-24', '2020-12-25', '2020-12-28', '2020-12-29',\n",
       "               '2020-12-30', '2020-12-31'],\n",
       "              dtype='datetime64[ns]', name='Date', length=2609, freq='B')"
      ]
     },
     "execution_count": 17,
     "metadata": {},
     "output_type": "execute_result"
    }
   ],
   "source": [
    "df=df.asfreq('B')\n",
    "df.index"
   ]
  },
  {
   "cell_type": "code",
   "execution_count": 18,
   "id": "188baad0",
   "metadata": {},
   "outputs": [],
   "source": [
    "df=df.ffill(axis=0)"
   ]
  },
  {
   "cell_type": "code",
   "execution_count": 19,
   "id": "e4000ea3",
   "metadata": {},
   "outputs": [
    {
     "data": {
      "text/plain": [
       "False"
      ]
     },
     "execution_count": 19,
     "metadata": {},
     "output_type": "execute_result"
    }
   ],
   "source": [
    "df.isnull().values.any()"
   ]
  },
  {
   "cell_type": "code",
   "execution_count": 20,
   "id": "19a40166",
   "metadata": {},
   "outputs": [
    {
     "data": {
      "text/html": [
       "<div>\n",
       "<style scoped>\n",
       "    .dataframe tbody tr th:only-of-type {\n",
       "        vertical-align: middle;\n",
       "    }\n",
       "\n",
       "    .dataframe tbody tr th {\n",
       "        vertical-align: top;\n",
       "    }\n",
       "\n",
       "    .dataframe thead th {\n",
       "        text-align: right;\n",
       "    }\n",
       "</style>\n",
       "<table border=\"1\" class=\"dataframe\">\n",
       "  <thead>\n",
       "    <tr style=\"text-align: right;\">\n",
       "      <th></th>\n",
       "      <th>return</th>\n",
       "    </tr>\n",
       "    <tr>\n",
       "      <th>Date</th>\n",
       "      <th></th>\n",
       "    </tr>\n",
       "  </thead>\n",
       "  <tbody>\n",
       "    <tr>\n",
       "      <th>2011-01-03</th>\n",
       "      <td>-0.021832</td>\n",
       "    </tr>\n",
       "    <tr>\n",
       "      <th>2011-01-04</th>\n",
       "      <td>-3.563786</td>\n",
       "    </tr>\n",
       "    <tr>\n",
       "      <th>2011-01-05</th>\n",
       "      <td>-3.142974</td>\n",
       "    </tr>\n",
       "    <tr>\n",
       "      <th>2011-01-06</th>\n",
       "      <td>-1.486885</td>\n",
       "    </tr>\n",
       "    <tr>\n",
       "      <th>2011-01-07</th>\n",
       "      <td>-0.403436</td>\n",
       "    </tr>\n",
       "    <tr>\n",
       "      <th>...</th>\n",
       "      <td>...</td>\n",
       "    </tr>\n",
       "    <tr>\n",
       "      <th>2020-12-25</th>\n",
       "      <td>1.975774</td>\n",
       "    </tr>\n",
       "    <tr>\n",
       "      <th>2020-12-28</th>\n",
       "      <td>1.275436</td>\n",
       "    </tr>\n",
       "    <tr>\n",
       "      <th>2020-12-29</th>\n",
       "      <td>1.672755</td>\n",
       "    </tr>\n",
       "    <tr>\n",
       "      <th>2020-12-30</th>\n",
       "      <td>-0.009455</td>\n",
       "    </tr>\n",
       "    <tr>\n",
       "      <th>2020-12-31</th>\n",
       "      <td>1.191489</td>\n",
       "    </tr>\n",
       "  </tbody>\n",
       "</table>\n",
       "<p>2609 rows × 1 columns</p>\n",
       "</div>"
      ],
      "text/plain": [
       "              return\n",
       "Date                \n",
       "2011-01-03 -0.021832\n",
       "2011-01-04 -3.563786\n",
       "2011-01-05 -3.142974\n",
       "2011-01-06 -1.486885\n",
       "2011-01-07 -0.403436\n",
       "...              ...\n",
       "2020-12-25  1.975774\n",
       "2020-12-28  1.275436\n",
       "2020-12-29  1.672755\n",
       "2020-12-30 -0.009455\n",
       "2020-12-31  1.191489\n",
       "\n",
       "[2609 rows x 1 columns]"
      ]
     },
     "execution_count": 20,
     "metadata": {},
     "output_type": "execute_result"
    }
   ],
   "source": [
    "df"
   ]
  },
  {
   "cell_type": "code",
   "execution_count": 21,
   "id": "7aede0cd",
   "metadata": {},
   "outputs": [],
   "source": [
    "train=df.iloc[:2250,0]\n",
    "test=df.iloc[2250:,0]"
   ]
  },
  {
   "cell_type": "code",
   "execution_count": 22,
   "id": "14a0cc92",
   "metadata": {},
   "outputs": [],
   "source": [
    "from statsmodels.tsa.seasonal import seasonal_decompose"
   ]
  },
  {
   "cell_type": "code",
   "execution_count": 23,
   "id": "839db007",
   "metadata": {},
   "outputs": [],
   "source": [
    "Decomp_results=seasonal_decompose(df)"
   ]
  },
  {
   "cell_type": "code",
   "execution_count": 24,
   "id": "00fff1bb",
   "metadata": {},
   "outputs": [
    {
     "data": {
      "image/png": "[encoded data removed]",
      "text/plain": [
       "<Figure size 432x288 with 4 Axes>"
      ]
     },
     "execution_count": 24,
     "metadata": {},
     "output_type": "execute_result"
    },
    {
     "data": {
      "image/png": "[encoded data removed]",
      "text/plain": [
       "<Figure size 432x288 with 4 Axes>"
      ]
     },
     "metadata": {
      "needs_background": "light"
     },
     "output_type": "display_data"
    }
   ],
   "source": [
    "Decomp_results.plot()"
   ]
  },
  {
   "cell_type": "code",
   "execution_count": 25,
   "id": "7a7c2133",
   "metadata": {},
   "outputs": [],
   "source": [
    "from statsmodels.graphics.tsaplots import plot_acf,plot_pacf"
   ]
  },
  {
   "cell_type": "code",
   "execution_count": 26,
   "id": "811a2cab",
   "metadata": {},
   "outputs": [
    {
     "data": {
      "image/png": "[encoded data removed]",
      "text/plain": [
       "<Figure size 432x288 with 1 Axes>"
      ]
     },
     "execution_count": 26,
     "metadata": {},
     "output_type": "execute_result"
    },
    {
     "data": {
      "image/png": "[encoded data removed]",
      "text/plain": [
       "<Figure size 432x288 with 1 Axes>"
      ]
     },
     "metadata": {
      "needs_background": "light"
     },
     "output_type": "display_data"
    }
   ],
   "source": [
    "plot_acf(train,lags=50)"
   ]
  },
  {
   "cell_type": "code",
   "execution_count": 27,
   "id": "86a4e114",
   "metadata": {},
   "outputs": [
    {
     "data": {
      "image/png": "[encoded data removed]",
      "text/plain": [
       "<Figure size 432x288 with 1 Axes>"
      ]
     },
     "execution_count": 27,
     "metadata": {},
     "output_type": "execute_result"
    },
    {
     "data": {
      "image/png": "[encoded data removed]",
      "text/plain": [
       "<Figure size 432x288 with 1 Axes>"
      ]
     },
     "metadata": {
      "needs_background": "light"
     },
     "output_type": "display_data"
    }
   ],
   "source": [
    "plot_pacf(train,lags=50)"
   ]
  },
  {
   "cell_type": "code",
   "execution_count": 28,
   "id": "95684be7",
   "metadata": {},
   "outputs": [],
   "source": [
    "from statsmodels.tsa.ar_model import AutoReg"
   ]
  },
  {
   "cell_type": "code",
   "execution_count": 29,
   "id": "cda585f7",
   "metadata": {},
   "outputs": [],
   "source": [
    "from statsmodels.tsa.ar_model import ar_select_order"
   ]
  },
  {
   "cell_type": "code",
   "execution_count": 30,
   "id": "6c618654",
   "metadata": {},
   "outputs": [
    {
     "name": "stderr",
     "output_type": "stream",
     "text": [
      "C:\\ProgramData\\Anaconda3\\lib\\site-packages\\statsmodels\\tsa\\ar_model.py:248: FutureWarning: The parameter names will change after 0.12 is released. Set old_names to False to use the new names now. Set old_names to True to use the old names. \n",
      "  warnings.warn(\n"
     ]
    },
    {
     "data": {
      "text/plain": [
       "array([], dtype=int32)"
      ]
     },
     "execution_count": 30,
     "metadata": {},
     "output_type": "execute_result"
    }
   ],
   "source": [
    "mod=ar_select_order(df,maxlag=100)\n",
    "mod.ar_lags"
   ]
  },
  {
   "cell_type": "code",
   "execution_count": 31,
   "id": "d59e6b58",
   "metadata": {},
   "outputs": [
    {
     "name": "stderr",
     "output_type": "stream",
     "text": [
      "C:\\ProgramData\\Anaconda3\\lib\\site-packages\\statsmodels\\tsa\\base\\tsa_model.py:132: FutureWarning: The 'freq' argument in Timestamp is deprecated and will be removed in a future version.\n",
      "  date_key = Timestamp(key, freq=base_index.freq)\n"
     ]
    },
    {
     "data": {
      "text/html": [
       "<table class=\"simpletable\">\n",
       "<caption>AutoReg Model Results</caption>\n",
       "<tr>\n",
       "  <th>Dep. Variable:</th>      <td>return</td>      <th>  No. Observations:  </th>   <td>2250</td>   \n",
       "</tr>\n",
       "<tr>\n",
       "  <th>Model:</th>            <td>AutoReg(3)</td>    <th>  Log Likelihood     </th> <td>-5352.017</td>\n",
       "</tr>\n",
       "<tr>\n",
       "  <th>Method:</th>         <td>Conditional MLE</td> <th>  S.D. of innovations</th>   <td>2.619</td>  \n",
       "</tr>\n",
       "<tr>\n",
       "  <th>Date:</th>          <td>Sat, 04 Jun 2022</td> <th>  AIC                </th>   <td>1.930</td>  \n",
       "</tr>\n",
       "<tr>\n",
       "  <th>Time:</th>              <td>13:45:05</td>     <th>  BIC                </th>   <td>1.943</td>  \n",
       "</tr>\n",
       "<tr>\n",
       "  <th>Sample:</th>           <td>01-06-2011</td>    <th>  HQIC               </th>   <td>1.935</td>  \n",
       "</tr>\n",
       "<tr>\n",
       "  <th></th>                 <td>- 08-16-2019</td>   <th>                     </th>     <td> </td>    \n",
       "</tr>\n",
       "</table>\n",
       "<table class=\"simpletable\">\n",
       "<tr>\n",
       "      <td></td>         <th>coef</th>     <th>std err</th>      <th>z</th>      <th>P>|z|</th>  <th>[0.025</th>    <th>0.975]</th>  \n",
       "</tr>\n",
       "<tr>\n",
       "  <th>const</th>     <td>    0.0274</td> <td>    0.055</td> <td>    0.495</td> <td> 0.620</td> <td>   -0.081</td> <td>    0.136</td>\n",
       "</tr>\n",
       "<tr>\n",
       "  <th>return.L1</th> <td>    0.0492</td> <td>    0.021</td> <td>    2.333</td> <td> 0.020</td> <td>    0.008</td> <td>    0.091</td>\n",
       "</tr>\n",
       "<tr>\n",
       "  <th>return.L2</th> <td>    0.0098</td> <td>    0.021</td> <td>    0.464</td> <td> 0.643</td> <td>   -0.032</td> <td>    0.051</td>\n",
       "</tr>\n",
       "<tr>\n",
       "  <th>return.L3</th> <td>   -0.0045</td> <td>    0.021</td> <td>   -0.216</td> <td> 0.829</td> <td>   -0.046</td> <td>    0.037</td>\n",
       "</tr>\n",
       "</table>\n",
       "<table class=\"simpletable\">\n",
       "<caption>Roots</caption>\n",
       "<tr>\n",
       "    <td></td>   <th>            Real</th>  <th>         Imaginary</th> <th>         Modulus</th>  <th>        Frequency</th>\n",
       "</tr>\n",
       "<tr>\n",
       "  <th>AR.1</th> <td>          -5.9276</td> <td>          -0.0000j</td> <td>           5.9276</td> <td>          -0.5000</td>\n",
       "</tr>\n",
       "<tr>\n",
       "  <th>AR.2</th> <td>           4.0397</td> <td>          -4.5562j</td> <td>           6.0892</td> <td>          -0.1346</td>\n",
       "</tr>\n",
       "<tr>\n",
       "  <th>AR.3</th> <td>           4.0397</td> <td>          +4.5562j</td> <td>           6.0892</td> <td>           0.1346</td>\n",
       "</tr>\n",
       "</table>"
      ],
      "text/plain": [
       "<class 'statsmodels.iolib.summary.Summary'>\n",
       "\"\"\"\n",
       "                            AutoReg Model Results                             \n",
       "==============================================================================\n",
       "Dep. Variable:                 return   No. Observations:                 2250\n",
       "Model:                     AutoReg(3)   Log Likelihood               -5352.017\n",
       "Method:               Conditional MLE   S.D. of innovations              2.619\n",
       "Date:                Sat, 04 Jun 2022   AIC                              1.930\n",
       "Time:                        13:45:05   BIC                              1.943\n",
       "Sample:                    01-06-2011   HQIC                             1.935\n",
       "                         - 08-16-2019                                         \n",
       "==============================================================================\n",
       "                 coef    std err          z      P>|z|      [0.025      0.975]\n",
       "------------------------------------------------------------------------------\n",
       "const          0.0274      0.055      0.495      0.620      -0.081       0.136\n",
       "return.L1      0.0492      0.021      2.333      0.020       0.008       0.091\n",
       "return.L2      0.0098      0.021      0.464      0.643      -0.032       0.051\n",
       "return.L3     -0.0045      0.021     -0.216      0.829      -0.046       0.037\n",
       "                                    Roots                                    \n",
       "=============================================================================\n",
       "                  Real          Imaginary           Modulus         Frequency\n",
       "-----------------------------------------------------------------------------\n",
       "AR.1           -5.9276           -0.0000j            5.9276           -0.5000\n",
       "AR.2            4.0397           -4.5562j            6.0892           -0.1346\n",
       "AR.3            4.0397           +4.5562j            6.0892            0.1346\n",
       "-----------------------------------------------------------------------------\n",
       "\"\"\""
      ]
     },
     "execution_count": 31,
     "metadata": {},
     "output_type": "execute_result"
    }
   ],
   "source": [
    "model=AutoReg(train,lags=3,old_names=False)\n",
    "\n",
    "pred=model.fit()\n",
    "\n",
    "pred.summary()"
   ]
  },
  {
   "cell_type": "code",
   "execution_count": 32,
   "id": "f322f187",
   "metadata": {},
   "outputs": [
    {
     "name": "stdout",
     "output_type": "stream",
     "text": [
      "2019-08-19    0.055832\n",
      "2019-08-20    0.026172\n",
      "2019-08-21    0.027408\n",
      "2019-08-22    0.028724\n",
      "2019-08-23    0.028935\n",
      "                ...   \n",
      "2020-12-25    0.028949\n",
      "2020-12-28    0.028949\n",
      "2020-12-29    0.028949\n",
      "2020-12-30    0.028949\n",
      "2020-12-31    0.028949\n",
      "Freq: B, Length: 359, dtype: float64\n"
     ]
    }
   ],
   "source": [
    "start_len=len(train)\n",
    "end_len=len(train)+len(test)-1\n",
    "\n",
    "pred_results=pred.predict(start=start_len,end=end_len,dynamic=False)\n",
    "print(pred_results)"
   ]
  },
  {
   "cell_type": "code",
   "execution_count": 33,
   "id": "953fd68f",
   "metadata": {},
   "outputs": [
    {
     "data": {
      "image/png": "[encoded data removed]",
      "text/plain": [
       "<Figure size 720x720 with 1 Axes>"
      ]
     },
     "metadata": {
      "needs_background": "light"
     },
     "output_type": "display_data"
    }
   ],
   "source": [
    "plt.figure(figsize=(10,10))\n",
    "plt.plot(pred_results,label='Prediction',marker='.',linestyle='dashed',color='red')\n",
    "plt.plot(pred_results.index,test,label='Actual')\n",
    "plt.title('AutoRegression')\n",
    "plt.xlabel('Date')\n",
    "plt.ylabel('return value')\n",
    "plt.grid(linestyle='dashed',color='green')\n",
    "plt.legend()\n",
    "plt.show()"
   ]
  },
  {
   "cell_type": "code",
   "execution_count": 34,
   "id": "b2ebc900",
   "metadata": {},
   "outputs": [
    {
     "name": "stdout",
     "output_type": "stream",
     "text": [
      "test mean\n"
     ]
    },
    {
     "data": {
      "text/plain": [
       "0.11600064017663121"
      ]
     },
     "execution_count": 34,
     "metadata": {},
     "output_type": "execute_result"
    }
   ],
   "source": [
    "print('test mean')\n",
    "test.mean()\n"
   ]
  },
  {
   "cell_type": "code",
   "execution_count": 35,
   "id": "fd66b263",
   "metadata": {},
   "outputs": [
    {
     "name": "stdout",
     "output_type": "stream",
     "text": [
      "prediction mean\n"
     ]
    },
    {
     "data": {
      "text/plain": [
       "0.029011088504058327"
      ]
     },
     "execution_count": 35,
     "metadata": {},
     "output_type": "execute_result"
    }
   ],
   "source": [
    "print('prediction mean')\n",
    "pred_results.mean()"
   ]
  },
  {
   "cell_type": "code",
   "execution_count": 36,
   "id": "77b735e4",
   "metadata": {},
   "outputs": [
    {
     "name": "stdout",
     "output_type": "stream",
     "text": [
      "3.1046674053005137\n"
     ]
    }
   ],
   "source": [
    "import math\n",
    "from sklearn.metrics import mean_squared_error\n",
    "rmse=math.sqrt(mean_squared_error(test,pred_results))\n",
    "print(rmse)"
   ]
  },
  {
   "cell_type": "code",
   "execution_count": 37,
   "id": "3d8c2dcb",
   "metadata": {},
   "outputs": [
    {
     "name": "stdout",
     "output_type": "stream",
     "text": [
      "2.1700850385070947\n"
     ]
    }
   ],
   "source": [
    "from sklearn.metrics import mean_absolute_error\n",
    "error=mean_absolute_error(test,pred_results)\n",
    "print(error)"
   ]
  },
  {
   "cell_type": "code",
   "execution_count": 38,
   "id": "a8ce32cc",
   "metadata": {},
   "outputs": [
    {
     "data": {
      "text/plain": [
       "-0.00076692770843656"
      ]
     },
     "execution_count": 38,
     "metadata": {},
     "output_type": "execute_result"
    }
   ],
   "source": [
    "from sklearn.metrics import r2_score\n",
    "r2_score(test,pred_results)"
   ]
  },
  {
   "cell_type": "code",
   "execution_count": null,
   "id": "bbf96146",
   "metadata": {},
   "outputs": [],
   "source": []
  },
  {
   "cell_type": "code",
   "execution_count": null,
   "id": "14609861",
   "metadata": {},
   "outputs": [],
   "source": []
  }
 ],
 "metadata": {
  "kernelspec": {
   "display_name": "Python 3 (ipykernel)",
   "language": "python",
   "name": "python3"
  },
  "language_info": {
   "codemirror_mode": {
    "name": "ipython",
    "version": 3
   },
   "file_extension": ".py",
   "mimetype": "text/x-python",
   "name": "python",
   "nbconvert_exporter": "python",
   "pygments_lexer": "ipython3",
   "version": "3.9.7"
  }
 },
 "nbformat": 4,
 "nbformat_minor": 5
}
