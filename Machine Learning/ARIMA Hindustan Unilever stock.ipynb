{
 "cells": [
  {
   "cell_type": "code",
   "execution_count": 1,
   "id": "ed84baef",
   "metadata": {},
   "outputs": [],
   "source": [
    "import numpy as np\n",
    "import matplotlib.pyplot as plt\n",
    "import pandas as pd\n"
   ]
  },
  {
   "cell_type": "code",
   "execution_count": 2,
   "id": "1107fb1c",
   "metadata": {},
   "outputs": [],
   "source": [
    "df=pd.read_csv(\"./dataset/HINDUNILVR.csv\",index_col='Date',parse_dates=True)"
   ]
  },
  {
   "cell_type": "code",
   "execution_count": 3,
   "id": "3d91dcb6",
   "metadata": {},
   "outputs": [
    {
     "data": {
      "text/html": [
       "<div>\n",
       "<style scoped>\n",
       "    .dataframe tbody tr th:only-of-type {\n",
       "        vertical-align: middle;\n",
       "    }\n",
       "\n",
       "    .dataframe tbody tr th {\n",
       "        vertical-align: top;\n",
       "    }\n",
       "\n",
       "    .dataframe thead th {\n",
       "        text-align: right;\n",
       "    }\n",
       "</style>\n",
       "<table border=\"1\" class=\"dataframe\">\n",
       "  <thead>\n",
       "    <tr style=\"text-align: right;\">\n",
       "      <th></th>\n",
       "      <th>Symbol</th>\n",
       "      <th>Series</th>\n",
       "      <th>Prev Close</th>\n",
       "      <th>Open</th>\n",
       "      <th>High</th>\n",
       "      <th>Low</th>\n",
       "      <th>Last</th>\n",
       "      <th>Close</th>\n",
       "      <th>VWAP</th>\n",
       "      <th>Volume</th>\n",
       "      <th>Turnover</th>\n",
       "      <th>Trades</th>\n",
       "      <th>Deliverable Volume</th>\n",
       "      <th>%Deliverble</th>\n",
       "    </tr>\n",
       "    <tr>\n",
       "      <th>Date</th>\n",
       "      <th></th>\n",
       "      <th></th>\n",
       "      <th></th>\n",
       "      <th></th>\n",
       "      <th></th>\n",
       "      <th></th>\n",
       "      <th></th>\n",
       "      <th></th>\n",
       "      <th></th>\n",
       "      <th></th>\n",
       "      <th></th>\n",
       "      <th></th>\n",
       "      <th></th>\n",
       "      <th></th>\n",
       "    </tr>\n",
       "  </thead>\n",
       "  <tbody>\n",
       "    <tr>\n",
       "      <th>2000-01-03</th>\n",
       "      <td>HINDLEVER</td>\n",
       "      <td>EQ</td>\n",
       "      <td>2136.60</td>\n",
       "      <td>2300.0</td>\n",
       "      <td>2307.55</td>\n",
       "      <td>2300.00</td>\n",
       "      <td>2307.55</td>\n",
       "      <td>2307.55</td>\n",
       "      <td>2307.08</td>\n",
       "      <td>24903</td>\n",
       "      <td>5.745330e+12</td>\n",
       "      <td>NaN</td>\n",
       "      <td>NaN</td>\n",
       "      <td>NaN</td>\n",
       "    </tr>\n",
       "    <tr>\n",
       "      <th>2000-01-04</th>\n",
       "      <td>HINDLEVER</td>\n",
       "      <td>EQ</td>\n",
       "      <td>2307.55</td>\n",
       "      <td>2381.0</td>\n",
       "      <td>2381.00</td>\n",
       "      <td>2250.00</td>\n",
       "      <td>2270.00</td>\n",
       "      <td>2281.05</td>\n",
       "      <td>2298.15</td>\n",
       "      <td>58514</td>\n",
       "      <td>1.344740e+13</td>\n",
       "      <td>NaN</td>\n",
       "      <td>NaN</td>\n",
       "      <td>NaN</td>\n",
       "    </tr>\n",
       "    <tr>\n",
       "      <th>2000-01-05</th>\n",
       "      <td>HINDLEVER</td>\n",
       "      <td>EQ</td>\n",
       "      <td>2281.05</td>\n",
       "      <td>2200.0</td>\n",
       "      <td>2250.00</td>\n",
       "      <td>2105.00</td>\n",
       "      <td>2183.50</td>\n",
       "      <td>2199.90</td>\n",
       "      <td>2211.17</td>\n",
       "      <td>80296</td>\n",
       "      <td>1.775482e+13</td>\n",
       "      <td>NaN</td>\n",
       "      <td>NaN</td>\n",
       "      <td>NaN</td>\n",
       "    </tr>\n",
       "    <tr>\n",
       "      <th>2000-01-06</th>\n",
       "      <td>HINDLEVER</td>\n",
       "      <td>EQ</td>\n",
       "      <td>2199.90</td>\n",
       "      <td>2224.9</td>\n",
       "      <td>2360.00</td>\n",
       "      <td>2210.00</td>\n",
       "      <td>2300.00</td>\n",
       "      <td>2288.20</td>\n",
       "      <td>2301.80</td>\n",
       "      <td>190032</td>\n",
       "      <td>4.374157e+13</td>\n",
       "      <td>NaN</td>\n",
       "      <td>NaN</td>\n",
       "      <td>NaN</td>\n",
       "    </tr>\n",
       "    <tr>\n",
       "      <th>2000-01-07</th>\n",
       "      <td>HINDLEVER</td>\n",
       "      <td>EQ</td>\n",
       "      <td>2288.20</td>\n",
       "      <td>2300.0</td>\n",
       "      <td>2452.00</td>\n",
       "      <td>2282.25</td>\n",
       "      <td>2395.00</td>\n",
       "      <td>2412.95</td>\n",
       "      <td>2380.24</td>\n",
       "      <td>192582</td>\n",
       "      <td>4.583919e+13</td>\n",
       "      <td>NaN</td>\n",
       "      <td>NaN</td>\n",
       "      <td>NaN</td>\n",
       "    </tr>\n",
       "    <tr>\n",
       "      <th>...</th>\n",
       "      <td>...</td>\n",
       "      <td>...</td>\n",
       "      <td>...</td>\n",
       "      <td>...</td>\n",
       "      <td>...</td>\n",
       "      <td>...</td>\n",
       "      <td>...</td>\n",
       "      <td>...</td>\n",
       "      <td>...</td>\n",
       "      <td>...</td>\n",
       "      <td>...</td>\n",
       "      <td>...</td>\n",
       "      <td>...</td>\n",
       "      <td>...</td>\n",
       "    </tr>\n",
       "    <tr>\n",
       "      <th>2021-04-26</th>\n",
       "      <td>HINDUNILVR</td>\n",
       "      <td>EQ</td>\n",
       "      <td>2307.75</td>\n",
       "      <td>2324.0</td>\n",
       "      <td>2369.80</td>\n",
       "      <td>2311.00</td>\n",
       "      <td>2367.70</td>\n",
       "      <td>2360.65</td>\n",
       "      <td>2340.89</td>\n",
       "      <td>1946867</td>\n",
       "      <td>4.557405e+14</td>\n",
       "      <td>85684.0</td>\n",
       "      <td>1289103.0</td>\n",
       "      <td>0.6621</td>\n",
       "    </tr>\n",
       "    <tr>\n",
       "      <th>2021-04-27</th>\n",
       "      <td>HINDUNILVR</td>\n",
       "      <td>EQ</td>\n",
       "      <td>2360.65</td>\n",
       "      <td>2363.0</td>\n",
       "      <td>2386.45</td>\n",
       "      <td>2352.95</td>\n",
       "      <td>2378.00</td>\n",
       "      <td>2379.85</td>\n",
       "      <td>2374.40</td>\n",
       "      <td>1668456</td>\n",
       "      <td>3.961583e+14</td>\n",
       "      <td>84641.0</td>\n",
       "      <td>1089882.0</td>\n",
       "      <td>0.6532</td>\n",
       "    </tr>\n",
       "    <tr>\n",
       "      <th>2021-04-28</th>\n",
       "      <td>HINDUNILVR</td>\n",
       "      <td>EQ</td>\n",
       "      <td>2379.85</td>\n",
       "      <td>2380.0</td>\n",
       "      <td>2445.00</td>\n",
       "      <td>2366.30</td>\n",
       "      <td>2404.00</td>\n",
       "      <td>2406.55</td>\n",
       "      <td>2414.15</td>\n",
       "      <td>1951215</td>\n",
       "      <td>4.710522e+14</td>\n",
       "      <td>84910.0</td>\n",
       "      <td>1024216.0</td>\n",
       "      <td>0.5249</td>\n",
       "    </tr>\n",
       "    <tr>\n",
       "      <th>2021-04-29</th>\n",
       "      <td>HINDUNILVR</td>\n",
       "      <td>EQ</td>\n",
       "      <td>2406.55</td>\n",
       "      <td>2433.0</td>\n",
       "      <td>2448.95</td>\n",
       "      <td>2384.15</td>\n",
       "      <td>2422.15</td>\n",
       "      <td>2407.60</td>\n",
       "      <td>2419.82</td>\n",
       "      <td>3151150</td>\n",
       "      <td>7.625230e+14</td>\n",
       "      <td>141048.0</td>\n",
       "      <td>946648.0</td>\n",
       "      <td>0.3004</td>\n",
       "    </tr>\n",
       "    <tr>\n",
       "      <th>2021-04-30</th>\n",
       "      <td>HINDUNILVR</td>\n",
       "      <td>EQ</td>\n",
       "      <td>2407.60</td>\n",
       "      <td>2410.0</td>\n",
       "      <td>2442.90</td>\n",
       "      <td>2330.25</td>\n",
       "      <td>2350.00</td>\n",
       "      <td>2353.75</td>\n",
       "      <td>2363.99</td>\n",
       "      <td>4010778</td>\n",
       "      <td>9.481448e+14</td>\n",
       "      <td>170223.0</td>\n",
       "      <td>2038288.0</td>\n",
       "      <td>0.5082</td>\n",
       "    </tr>\n",
       "  </tbody>\n",
       "</table>\n",
       "<p>5306 rows × 14 columns</p>\n",
       "</div>"
      ],
      "text/plain": [
       "                Symbol Series  Prev Close    Open     High      Low     Last  \\\n",
       "Date                                                                           \n",
       "2000-01-03   HINDLEVER     EQ     2136.60  2300.0  2307.55  2300.00  2307.55   \n",
       "2000-01-04   HINDLEVER     EQ     2307.55  2381.0  2381.00  2250.00  2270.00   \n",
       "2000-01-05   HINDLEVER     EQ     2281.05  2200.0  2250.00  2105.00  2183.50   \n",
       "2000-01-06   HINDLEVER     EQ     2199.90  2224.9  2360.00  2210.00  2300.00   \n",
       "2000-01-07   HINDLEVER     EQ     2288.20  2300.0  2452.00  2282.25  2395.00   \n",
       "...                ...    ...         ...     ...      ...      ...      ...   \n",
       "2021-04-26  HINDUNILVR     EQ     2307.75  2324.0  2369.80  2311.00  2367.70   \n",
       "2021-04-27  HINDUNILVR     EQ     2360.65  2363.0  2386.45  2352.95  2378.00   \n",
       "2021-04-28  HINDUNILVR     EQ     2379.85  2380.0  2445.00  2366.30  2404.00   \n",
       "2021-04-29  HINDUNILVR     EQ     2406.55  2433.0  2448.95  2384.15  2422.15   \n",
       "2021-04-30  HINDUNILVR     EQ     2407.60  2410.0  2442.90  2330.25  2350.00   \n",
       "\n",
       "              Close     VWAP   Volume      Turnover    Trades  \\\n",
       "Date                                                            \n",
       "2000-01-03  2307.55  2307.08    24903  5.745330e+12       NaN   \n",
       "2000-01-04  2281.05  2298.15    58514  1.344740e+13       NaN   \n",
       "2000-01-05  2199.90  2211.17    80296  1.775482e+13       NaN   \n",
       "2000-01-06  2288.20  2301.80   190032  4.374157e+13       NaN   \n",
       "2000-01-07  2412.95  2380.24   192582  4.583919e+13       NaN   \n",
       "...             ...      ...      ...           ...       ...   \n",
       "2021-04-26  2360.65  2340.89  1946867  4.557405e+14   85684.0   \n",
       "2021-04-27  2379.85  2374.40  1668456  3.961583e+14   84641.0   \n",
       "2021-04-28  2406.55  2414.15  1951215  4.710522e+14   84910.0   \n",
       "2021-04-29  2407.60  2419.82  3151150  7.625230e+14  141048.0   \n",
       "2021-04-30  2353.75  2363.99  4010778  9.481448e+14  170223.0   \n",
       "\n",
       "            Deliverable Volume  %Deliverble  \n",
       "Date                                         \n",
       "2000-01-03                 NaN          NaN  \n",
       "2000-01-04                 NaN          NaN  \n",
       "2000-01-05                 NaN          NaN  \n",
       "2000-01-06                 NaN          NaN  \n",
       "2000-01-07                 NaN          NaN  \n",
       "...                        ...          ...  \n",
       "2021-04-26           1289103.0       0.6621  \n",
       "2021-04-27           1089882.0       0.6532  \n",
       "2021-04-28           1024216.0       0.5249  \n",
       "2021-04-29            946648.0       0.3004  \n",
       "2021-04-30           2038288.0       0.5082  \n",
       "\n",
       "[5306 rows x 14 columns]"
      ]
     },
     "execution_count": 3,
     "metadata": {},
     "output_type": "execute_result"
    }
   ],
   "source": [
    "df"
   ]
  },
  {
   "cell_type": "code",
   "execution_count": 4,
   "id": "ce81dda9",
   "metadata": {},
   "outputs": [
    {
     "data": {
      "text/plain": [
       "Symbol                 object\n",
       "Series                 object\n",
       "Prev Close            float64\n",
       "Open                  float64\n",
       "High                  float64\n",
       "Low                   float64\n",
       "Last                  float64\n",
       "Close                 float64\n",
       "VWAP                  float64\n",
       "Volume                  int64\n",
       "Turnover              float64\n",
       "Trades                float64\n",
       "Deliverable Volume    float64\n",
       "%Deliverble           float64\n",
       "dtype: object"
      ]
     },
     "execution_count": 4,
     "metadata": {},
     "output_type": "execute_result"
    }
   ],
   "source": [
    "df.dtypes"
   ]
  },
  {
   "cell_type": "code",
   "execution_count": 5,
   "id": "1e8e143b",
   "metadata": {},
   "outputs": [],
   "source": [
    "numerical_data=df.select_dtypes(include=['float64','int64']).columns"
   ]
  },
  {
   "cell_type": "code",
   "execution_count": 6,
   "id": "bd678fb4",
   "metadata": {},
   "outputs": [],
   "source": [
    "categorical_data=df.select_dtypes(include=['object']).columns"
   ]
  },
  {
   "cell_type": "code",
   "execution_count": 7,
   "id": "7813f04a",
   "metadata": {},
   "outputs": [],
   "source": [
    "df['Date']=df.index"
   ]
  },
  {
   "cell_type": "code",
   "execution_count": 8,
   "id": "312f0f8e",
   "metadata": {},
   "outputs": [],
   "source": [
    "start_date='2011-01-01'\n",
    "end_date='2020-12-31'\n",
    "mask=(df['Date']>=start_date)&(df['Date']<=end_date)"
   ]
  },
  {
   "cell_type": "markdown",
   "id": "2f52d248",
   "metadata": {},
   "source": [
    "rate of return is defined as the closing value subtracted from the previos close value divided by previous close value multiplied by 100\n",
    "\n",
    "Return=[(Close-Prev Close)/Prev Close]x100"
   ]
  },
  {
   "cell_type": "code",
   "execution_count": 9,
   "id": "f8a3ff58",
   "metadata": {},
   "outputs": [],
   "source": [
    "df['return']=((df['Close']-df['Prev Close'])/df['Prev Close'])*100"
   ]
  },
  {
   "cell_type": "code",
   "execution_count": 10,
   "id": "b72f9ecc",
   "metadata": {},
   "outputs": [],
   "source": [
    "df=df.loc[mask]"
   ]
  },
  {
   "cell_type": "code",
   "execution_count": 11,
   "id": "19d43c01",
   "metadata": {},
   "outputs": [
    {
     "data": {
      "text/html": [
       "<div>\n",
       "<style scoped>\n",
       "    .dataframe tbody tr th:only-of-type {\n",
       "        vertical-align: middle;\n",
       "    }\n",
       "\n",
       "    .dataframe tbody tr th {\n",
       "        vertical-align: top;\n",
       "    }\n",
       "\n",
       "    .dataframe thead th {\n",
       "        text-align: right;\n",
       "    }\n",
       "</style>\n",
       "<table border=\"1\" class=\"dataframe\">\n",
       "  <thead>\n",
       "    <tr style=\"text-align: right;\">\n",
       "      <th></th>\n",
       "      <th>Symbol</th>\n",
       "      <th>Series</th>\n",
       "      <th>Prev Close</th>\n",
       "      <th>Open</th>\n",
       "      <th>High</th>\n",
       "      <th>Low</th>\n",
       "      <th>Last</th>\n",
       "      <th>Close</th>\n",
       "      <th>VWAP</th>\n",
       "      <th>Volume</th>\n",
       "      <th>Turnover</th>\n",
       "      <th>Trades</th>\n",
       "      <th>Deliverable Volume</th>\n",
       "      <th>%Deliverble</th>\n",
       "      <th>Date</th>\n",
       "      <th>return</th>\n",
       "    </tr>\n",
       "    <tr>\n",
       "      <th>Date</th>\n",
       "      <th></th>\n",
       "      <th></th>\n",
       "      <th></th>\n",
       "      <th></th>\n",
       "      <th></th>\n",
       "      <th></th>\n",
       "      <th></th>\n",
       "      <th></th>\n",
       "      <th></th>\n",
       "      <th></th>\n",
       "      <th></th>\n",
       "      <th></th>\n",
       "      <th></th>\n",
       "      <th></th>\n",
       "      <th></th>\n",
       "      <th></th>\n",
       "    </tr>\n",
       "  </thead>\n",
       "  <tbody>\n",
       "    <tr>\n",
       "      <th>2011-01-03</th>\n",
       "      <td>HINDUNILVR</td>\n",
       "      <td>EQ</td>\n",
       "      <td>312.90</td>\n",
       "      <td>310.05</td>\n",
       "      <td>315.90</td>\n",
       "      <td>310.00</td>\n",
       "      <td>312.00</td>\n",
       "      <td>313.15</td>\n",
       "      <td>313.16</td>\n",
       "      <td>799917</td>\n",
       "      <td>2.505009e+13</td>\n",
       "      <td>NaN</td>\n",
       "      <td>422119.0</td>\n",
       "      <td>0.5277</td>\n",
       "      <td>2011-01-03</td>\n",
       "      <td>0.079898</td>\n",
       "    </tr>\n",
       "    <tr>\n",
       "      <th>2011-01-04</th>\n",
       "      <td>HINDUNILVR</td>\n",
       "      <td>EQ</td>\n",
       "      <td>313.15</td>\n",
       "      <td>314.00</td>\n",
       "      <td>329.90</td>\n",
       "      <td>313.50</td>\n",
       "      <td>319.45</td>\n",
       "      <td>320.90</td>\n",
       "      <td>321.18</td>\n",
       "      <td>5397799</td>\n",
       "      <td>1.733685e+14</td>\n",
       "      <td>NaN</td>\n",
       "      <td>3166942.0</td>\n",
       "      <td>0.5867</td>\n",
       "      <td>2011-01-04</td>\n",
       "      <td>2.474852</td>\n",
       "    </tr>\n",
       "    <tr>\n",
       "      <th>2011-01-05</th>\n",
       "      <td>HINDUNILVR</td>\n",
       "      <td>EQ</td>\n",
       "      <td>320.90</td>\n",
       "      <td>320.70</td>\n",
       "      <td>327.35</td>\n",
       "      <td>317.25</td>\n",
       "      <td>326.00</td>\n",
       "      <td>325.70</td>\n",
       "      <td>322.17</td>\n",
       "      <td>2728170</td>\n",
       "      <td>8.789338e+13</td>\n",
       "      <td>NaN</td>\n",
       "      <td>1489059.0</td>\n",
       "      <td>0.5458</td>\n",
       "      <td>2011-01-05</td>\n",
       "      <td>1.495793</td>\n",
       "    </tr>\n",
       "    <tr>\n",
       "      <th>2011-01-06</th>\n",
       "      <td>HINDUNILVR</td>\n",
       "      <td>EQ</td>\n",
       "      <td>325.70</td>\n",
       "      <td>327.55</td>\n",
       "      <td>328.80</td>\n",
       "      <td>312.40</td>\n",
       "      <td>320.60</td>\n",
       "      <td>320.75</td>\n",
       "      <td>320.46</td>\n",
       "      <td>3041466</td>\n",
       "      <td>9.746690e+13</td>\n",
       "      <td>NaN</td>\n",
       "      <td>1583288.0</td>\n",
       "      <td>0.5206</td>\n",
       "      <td>2011-01-06</td>\n",
       "      <td>-1.519804</td>\n",
       "    </tr>\n",
       "    <tr>\n",
       "      <th>2011-01-07</th>\n",
       "      <td>HINDUNILVR</td>\n",
       "      <td>EQ</td>\n",
       "      <td>320.75</td>\n",
       "      <td>321.90</td>\n",
       "      <td>322.90</td>\n",
       "      <td>310.60</td>\n",
       "      <td>311.15</td>\n",
       "      <td>313.05</td>\n",
       "      <td>316.45</td>\n",
       "      <td>1724192</td>\n",
       "      <td>5.456137e+13</td>\n",
       "      <td>NaN</td>\n",
       "      <td>1004672.0</td>\n",
       "      <td>0.5827</td>\n",
       "      <td>2011-01-07</td>\n",
       "      <td>-2.400624</td>\n",
       "    </tr>\n",
       "    <tr>\n",
       "      <th>...</th>\n",
       "      <td>...</td>\n",
       "      <td>...</td>\n",
       "      <td>...</td>\n",
       "      <td>...</td>\n",
       "      <td>...</td>\n",
       "      <td>...</td>\n",
       "      <td>...</td>\n",
       "      <td>...</td>\n",
       "      <td>...</td>\n",
       "      <td>...</td>\n",
       "      <td>...</td>\n",
       "      <td>...</td>\n",
       "      <td>...</td>\n",
       "      <td>...</td>\n",
       "      <td>...</td>\n",
       "      <td>...</td>\n",
       "    </tr>\n",
       "    <tr>\n",
       "      <th>2020-12-24</th>\n",
       "      <td>HINDUNILVR</td>\n",
       "      <td>EQ</td>\n",
       "      <td>2370.35</td>\n",
       "      <td>2382.50</td>\n",
       "      <td>2410.00</td>\n",
       "      <td>2360.05</td>\n",
       "      <td>2391.95</td>\n",
       "      <td>2402.25</td>\n",
       "      <td>2388.68</td>\n",
       "      <td>2489444</td>\n",
       "      <td>5.946477e+14</td>\n",
       "      <td>112249.0</td>\n",
       "      <td>1115413.0</td>\n",
       "      <td>0.4481</td>\n",
       "      <td>2020-12-24</td>\n",
       "      <td>1.345793</td>\n",
       "    </tr>\n",
       "    <tr>\n",
       "      <th>2020-12-28</th>\n",
       "      <td>HINDUNILVR</td>\n",
       "      <td>EQ</td>\n",
       "      <td>2402.25</td>\n",
       "      <td>2405.00</td>\n",
       "      <td>2417.40</td>\n",
       "      <td>2376.05</td>\n",
       "      <td>2391.95</td>\n",
       "      <td>2388.90</td>\n",
       "      <td>2391.48</td>\n",
       "      <td>1532477</td>\n",
       "      <td>3.664887e+14</td>\n",
       "      <td>78260.0</td>\n",
       "      <td>561294.0</td>\n",
       "      <td>0.3663</td>\n",
       "      <td>2020-12-28</td>\n",
       "      <td>-0.555729</td>\n",
       "    </tr>\n",
       "    <tr>\n",
       "      <th>2020-12-29</th>\n",
       "      <td>HINDUNILVR</td>\n",
       "      <td>EQ</td>\n",
       "      <td>2388.90</td>\n",
       "      <td>2395.00</td>\n",
       "      <td>2403.00</td>\n",
       "      <td>2354.20</td>\n",
       "      <td>2379.00</td>\n",
       "      <td>2384.30</td>\n",
       "      <td>2375.67</td>\n",
       "      <td>1749013</td>\n",
       "      <td>4.155070e+14</td>\n",
       "      <td>89298.0</td>\n",
       "      <td>798376.0</td>\n",
       "      <td>0.4565</td>\n",
       "      <td>2020-12-29</td>\n",
       "      <td>-0.192557</td>\n",
       "    </tr>\n",
       "    <tr>\n",
       "      <th>2020-12-30</th>\n",
       "      <td>HINDUNILVR</td>\n",
       "      <td>EQ</td>\n",
       "      <td>2384.30</td>\n",
       "      <td>2390.00</td>\n",
       "      <td>2414.65</td>\n",
       "      <td>2376.00</td>\n",
       "      <td>2403.00</td>\n",
       "      <td>2406.60</td>\n",
       "      <td>2397.80</td>\n",
       "      <td>1924886</td>\n",
       "      <td>4.615483e+14</td>\n",
       "      <td>86753.0</td>\n",
       "      <td>692444.0</td>\n",
       "      <td>0.3597</td>\n",
       "      <td>2020-12-30</td>\n",
       "      <td>0.935285</td>\n",
       "    </tr>\n",
       "    <tr>\n",
       "      <th>2020-12-31</th>\n",
       "      <td>HINDUNILVR</td>\n",
       "      <td>EQ</td>\n",
       "      <td>2406.60</td>\n",
       "      <td>2396.00</td>\n",
       "      <td>2417.00</td>\n",
       "      <td>2387.00</td>\n",
       "      <td>2394.00</td>\n",
       "      <td>2395.40</td>\n",
       "      <td>2401.57</td>\n",
       "      <td>1709836</td>\n",
       "      <td>4.106283e+14</td>\n",
       "      <td>78843.0</td>\n",
       "      <td>923575.0</td>\n",
       "      <td>0.5402</td>\n",
       "      <td>2020-12-31</td>\n",
       "      <td>-0.465387</td>\n",
       "    </tr>\n",
       "  </tbody>\n",
       "</table>\n",
       "<p>2478 rows × 16 columns</p>\n",
       "</div>"
      ],
      "text/plain": [
       "                Symbol Series  Prev Close     Open     High      Low     Last  \\\n",
       "Date                                                                            \n",
       "2011-01-03  HINDUNILVR     EQ      312.90   310.05   315.90   310.00   312.00   \n",
       "2011-01-04  HINDUNILVR     EQ      313.15   314.00   329.90   313.50   319.45   \n",
       "2011-01-05  HINDUNILVR     EQ      320.90   320.70   327.35   317.25   326.00   \n",
       "2011-01-06  HINDUNILVR     EQ      325.70   327.55   328.80   312.40   320.60   \n",
       "2011-01-07  HINDUNILVR     EQ      320.75   321.90   322.90   310.60   311.15   \n",
       "...                ...    ...         ...      ...      ...      ...      ...   \n",
       "2020-12-24  HINDUNILVR     EQ     2370.35  2382.50  2410.00  2360.05  2391.95   \n",
       "2020-12-28  HINDUNILVR     EQ     2402.25  2405.00  2417.40  2376.05  2391.95   \n",
       "2020-12-29  HINDUNILVR     EQ     2388.90  2395.00  2403.00  2354.20  2379.00   \n",
       "2020-12-30  HINDUNILVR     EQ     2384.30  2390.00  2414.65  2376.00  2403.00   \n",
       "2020-12-31  HINDUNILVR     EQ     2406.60  2396.00  2417.00  2387.00  2394.00   \n",
       "\n",
       "              Close     VWAP   Volume      Turnover    Trades  \\\n",
       "Date                                                            \n",
       "2011-01-03   313.15   313.16   799917  2.505009e+13       NaN   \n",
       "2011-01-04   320.90   321.18  5397799  1.733685e+14       NaN   \n",
       "2011-01-05   325.70   322.17  2728170  8.789338e+13       NaN   \n",
       "2011-01-06   320.75   320.46  3041466  9.746690e+13       NaN   \n",
       "2011-01-07   313.05   316.45  1724192  5.456137e+13       NaN   \n",
       "...             ...      ...      ...           ...       ...   \n",
       "2020-12-24  2402.25  2388.68  2489444  5.946477e+14  112249.0   \n",
       "2020-12-28  2388.90  2391.48  1532477  3.664887e+14   78260.0   \n",
       "2020-12-29  2384.30  2375.67  1749013  4.155070e+14   89298.0   \n",
       "2020-12-30  2406.60  2397.80  1924886  4.615483e+14   86753.0   \n",
       "2020-12-31  2395.40  2401.57  1709836  4.106283e+14   78843.0   \n",
       "\n",
       "            Deliverable Volume  %Deliverble       Date    return  \n",
       "Date                                                              \n",
       "2011-01-03            422119.0       0.5277 2011-01-03  0.079898  \n",
       "2011-01-04           3166942.0       0.5867 2011-01-04  2.474852  \n",
       "2011-01-05           1489059.0       0.5458 2011-01-05  1.495793  \n",
       "2011-01-06           1583288.0       0.5206 2011-01-06 -1.519804  \n",
       "2011-01-07           1004672.0       0.5827 2011-01-07 -2.400624  \n",
       "...                        ...          ...        ...       ...  \n",
       "2020-12-24           1115413.0       0.4481 2020-12-24  1.345793  \n",
       "2020-12-28            561294.0       0.3663 2020-12-28 -0.555729  \n",
       "2020-12-29            798376.0       0.4565 2020-12-29 -0.192557  \n",
       "2020-12-30            692444.0       0.3597 2020-12-30  0.935285  \n",
       "2020-12-31            923575.0       0.5402 2020-12-31 -0.465387  \n",
       "\n",
       "[2478 rows x 16 columns]"
      ]
     },
     "execution_count": 11,
     "metadata": {},
     "output_type": "execute_result"
    }
   ],
   "source": [
    "df"
   ]
  },
  {
   "cell_type": "code",
   "execution_count": 12,
   "id": "1ce9690c",
   "metadata": {},
   "outputs": [],
   "source": [
    "df=df.drop(columns=['Series','Symbol','Open','High','Low','Last','Close','VWAP','Volume','Turnover','Trades','Deliverable Volume','%Deliverble','Date','Prev Close'])"
   ]
  },
  {
   "cell_type": "code",
   "execution_count": 13,
   "id": "cc7f7fc9",
   "metadata": {},
   "outputs": [],
   "source": [
    "df.dropna(inplace=True)"
   ]
  },
  {
   "cell_type": "code",
   "execution_count": 14,
   "id": "89e4b0a7",
   "metadata": {},
   "outputs": [],
   "source": [
    "df=pd.DataFrame(df['return'])"
   ]
  },
  {
   "cell_type": "code",
   "execution_count": 15,
   "id": "5c31abe2",
   "metadata": {},
   "outputs": [
    {
     "data": {
      "image/png": "[encoded data removed]",
      "text/plain": [
       "<Figure size 720x720 with 1 Axes>"
      ]
     },
     "metadata": {
      "needs_background": "light"
     },
     "output_type": "display_data"
    }
   ],
   "source": [
    "plt.figure(figsize=(10,10))\n",
    "plt.plot(df,label=\"rate of return\")\n",
    "plt.xlabel('Date')\n",
    "plt.ylabel('rate of return')\n",
    "plt.legend()\n",
    "plt.show()"
   ]
  },
  {
   "cell_type": "code",
   "execution_count": 16,
   "id": "a74fb074",
   "metadata": {},
   "outputs": [
    {
     "data": {
      "text/plain": [
       "<bound method DataFrame.info of               return\n",
       "Date                \n",
       "2011-01-03  0.079898\n",
       "2011-01-04  2.474852\n",
       "2011-01-05  1.495793\n",
       "2011-01-06 -1.519804\n",
       "2011-01-07 -2.400624\n",
       "...              ...\n",
       "2020-12-24  1.345793\n",
       "2020-12-28 -0.555729\n",
       "2020-12-29 -0.192557\n",
       "2020-12-30  0.935285\n",
       "2020-12-31 -0.465387\n",
       "\n",
       "[2478 rows x 1 columns]>"
      ]
     },
     "execution_count": 16,
     "metadata": {},
     "output_type": "execute_result"
    }
   ],
   "source": [
    "df.index=pd.to_datetime(df.index)\n",
    "df.info"
   ]
  },
  {
   "cell_type": "code",
   "execution_count": 17,
   "id": "77edee09",
   "metadata": {},
   "outputs": [
    {
     "data": {
      "text/plain": [
       "DatetimeIndex(['2011-01-03', '2011-01-04', '2011-01-05', '2011-01-06',\n",
       "               '2011-01-07', '2011-01-10', '2011-01-11', '2011-01-12',\n",
       "               '2011-01-13', '2011-01-14',\n",
       "               ...\n",
       "               '2020-12-18', '2020-12-21', '2020-12-22', '2020-12-23',\n",
       "               '2020-12-24', '2020-12-25', '2020-12-28', '2020-12-29',\n",
       "               '2020-12-30', '2020-12-31'],\n",
       "              dtype='datetime64[ns]', name='Date', length=2609, freq='B')"
      ]
     },
     "execution_count": 17,
     "metadata": {},
     "output_type": "execute_result"
    }
   ],
   "source": [
    "df=df.asfreq('B')\n",
    "df.index"
   ]
  },
  {
   "cell_type": "code",
   "execution_count": 18,
   "id": "188baad0",
   "metadata": {},
   "outputs": [],
   "source": [
    "df=df.ffill(axis=0)"
   ]
  },
  {
   "cell_type": "code",
   "execution_count": 19,
   "id": "e4000ea3",
   "metadata": {},
   "outputs": [
    {
     "data": {
      "text/plain": [
       "False"
      ]
     },
     "execution_count": 19,
     "metadata": {},
     "output_type": "execute_result"
    }
   ],
   "source": [
    "df.isnull().values.any()"
   ]
  },
  {
   "cell_type": "code",
   "execution_count": 20,
   "id": "19a40166",
   "metadata": {},
   "outputs": [
    {
     "data": {
      "text/html": [
       "<div>\n",
       "<style scoped>\n",
       "    .dataframe tbody tr th:only-of-type {\n",
       "        vertical-align: middle;\n",
       "    }\n",
       "\n",
       "    .dataframe tbody tr th {\n",
       "        vertical-align: top;\n",
       "    }\n",
       "\n",
       "    .dataframe thead th {\n",
       "        text-align: right;\n",
       "    }\n",
       "</style>\n",
       "<table border=\"1\" class=\"dataframe\">\n",
       "  <thead>\n",
       "    <tr style=\"text-align: right;\">\n",
       "      <th></th>\n",
       "      <th>return</th>\n",
       "    </tr>\n",
       "    <tr>\n",
       "      <th>Date</th>\n",
       "      <th></th>\n",
       "    </tr>\n",
       "  </thead>\n",
       "  <tbody>\n",
       "    <tr>\n",
       "      <th>2011-01-03</th>\n",
       "      <td>0.079898</td>\n",
       "    </tr>\n",
       "    <tr>\n",
       "      <th>2011-01-04</th>\n",
       "      <td>2.474852</td>\n",
       "    </tr>\n",
       "    <tr>\n",
       "      <th>2011-01-05</th>\n",
       "      <td>1.495793</td>\n",
       "    </tr>\n",
       "    <tr>\n",
       "      <th>2011-01-06</th>\n",
       "      <td>-1.519804</td>\n",
       "    </tr>\n",
       "    <tr>\n",
       "      <th>2011-01-07</th>\n",
       "      <td>-2.400624</td>\n",
       "    </tr>\n",
       "    <tr>\n",
       "      <th>...</th>\n",
       "      <td>...</td>\n",
       "    </tr>\n",
       "    <tr>\n",
       "      <th>2020-12-25</th>\n",
       "      <td>1.345793</td>\n",
       "    </tr>\n",
       "    <tr>\n",
       "      <th>2020-12-28</th>\n",
       "      <td>-0.555729</td>\n",
       "    </tr>\n",
       "    <tr>\n",
       "      <th>2020-12-29</th>\n",
       "      <td>-0.192557</td>\n",
       "    </tr>\n",
       "    <tr>\n",
       "      <th>2020-12-30</th>\n",
       "      <td>0.935285</td>\n",
       "    </tr>\n",
       "    <tr>\n",
       "      <th>2020-12-31</th>\n",
       "      <td>-0.465387</td>\n",
       "    </tr>\n",
       "  </tbody>\n",
       "</table>\n",
       "<p>2609 rows × 1 columns</p>\n",
       "</div>"
      ],
      "text/plain": [
       "              return\n",
       "Date                \n",
       "2011-01-03  0.079898\n",
       "2011-01-04  2.474852\n",
       "2011-01-05  1.495793\n",
       "2011-01-06 -1.519804\n",
       "2011-01-07 -2.400624\n",
       "...              ...\n",
       "2020-12-25  1.345793\n",
       "2020-12-28 -0.555729\n",
       "2020-12-29 -0.192557\n",
       "2020-12-30  0.935285\n",
       "2020-12-31 -0.465387\n",
       "\n",
       "[2609 rows x 1 columns]"
      ]
     },
     "execution_count": 20,
     "metadata": {},
     "output_type": "execute_result"
    }
   ],
   "source": [
    "df"
   ]
  },
  {
   "cell_type": "code",
   "execution_count": 21,
   "id": "7aede0cd",
   "metadata": {},
   "outputs": [],
   "source": [
    "train=df.iloc[:2250,0]\n",
    "test=df.iloc[2250:,0]"
   ]
  },
  {
   "cell_type": "code",
   "execution_count": 22,
   "id": "14a0cc92",
   "metadata": {},
   "outputs": [],
   "source": [
    "from statsmodels.tsa.seasonal import seasonal_decompose"
   ]
  },
  {
   "cell_type": "code",
   "execution_count": 23,
   "id": "839db007",
   "metadata": {},
   "outputs": [],
   "source": [
    "Decomp_results=seasonal_decompose(df)"
   ]
  },
  {
   "cell_type": "code",
   "execution_count": 24,
   "id": "00fff1bb",
   "metadata": {},
   "outputs": [
    {
     "data": {
      "image/png": "[encoded data removed]",
      "text/plain": [
       "<Figure size 432x288 with 4 Axes>"
      ]
     },
     "execution_count": 24,
     "metadata": {},
     "output_type": "execute_result"
    },
    {
     "data": {
      "image/png": "[encoded data removed]",
      "text/plain": [
       "<Figure size 432x288 with 4 Axes>"
      ]
     },
     "metadata": {
      "needs_background": "light"
     },
     "output_type": "display_data"
    }
   ],
   "source": [
    "Decomp_results.plot()"
   ]
  },
  {
   "cell_type": "code",
   "execution_count": 25,
   "id": "7a7c2133",
   "metadata": {},
   "outputs": [],
   "source": [
    "from statsmodels.graphics.tsaplots import plot_acf,plot_pacf"
   ]
  },
  {
   "cell_type": "code",
   "execution_count": 26,
   "id": "811a2cab",
   "metadata": {},
   "outputs": [
    {
     "data": {
      "image/png": "[encoded data removed]",
      "text/plain": [
       "<Figure size 432x288 with 1 Axes>"
      ]
     },
     "execution_count": 26,
     "metadata": {},
     "output_type": "execute_result"
    },
    {
     "data": {
      "image/png": "[encoded data removed]",
      "text/plain": [
       "<Figure size 432x288 with 1 Axes>"
      ]
     },
     "metadata": {
      "needs_background": "light"
     },
     "output_type": "display_data"
    }
   ],
   "source": [
    "plot_acf(train,lags=50)"
   ]
  },
  {
   "cell_type": "code",
   "execution_count": 27,
   "id": "86a4e114",
   "metadata": {},
   "outputs": [
    {
     "data": {
      "image/png": "[encoded data removed]",
      "text/plain": [
       "<Figure size 432x288 with 1 Axes>"
      ]
     },
     "execution_count": 27,
     "metadata": {},
     "output_type": "execute_result"
    },
    {
     "data": {
      "image/png": "[encoded data removed]",
      "text/plain": [
       "<Figure size 432x288 with 1 Axes>"
      ]
     },
     "metadata": {
      "needs_background": "light"
     },
     "output_type": "display_data"
    }
   ],
   "source": [
    "plot_pacf(train,lags=50)"
   ]
  },
  {
   "cell_type": "code",
   "execution_count": 28,
   "id": "a77b233e",
   "metadata": {},
   "outputs": [],
   "source": [
    "from pmdarima import auto_arima"
   ]
  },
  {
   "cell_type": "code",
   "execution_count": 29,
   "id": "89f9893b",
   "metadata": {},
   "outputs": [
    {
     "name": "stdout",
     "output_type": "stream",
     "text": [
      "Performing stepwise search to minimize aic\n",
      " ARIMA(2,0,2)(0,0,0)[0] intercept   : AIC=9733.121, Time=1.72 sec\n",
      " ARIMA(0,0,0)(0,0,0)[0] intercept   : AIC=9740.455, Time=0.06 sec\n",
      " ARIMA(1,0,0)(0,0,0)[0] intercept   : AIC=9734.390, Time=0.17 sec\n",
      " ARIMA(0,0,1)(0,0,0)[0] intercept   : AIC=9734.454, Time=0.23 sec\n",
      " ARIMA(0,0,0)(0,0,0)[0]             : AIC=9749.024, Time=0.04 sec\n",
      " ARIMA(1,0,2)(0,0,0)[0] intercept   : AIC=9737.971, Time=0.78 sec\n",
      " ARIMA(2,0,1)(0,0,0)[0] intercept   : AIC=9738.381, Time=0.41 sec\n",
      " ARIMA(3,0,2)(0,0,0)[0] intercept   : AIC=9733.074, Time=3.50 sec\n",
      " ARIMA(3,0,1)(0,0,0)[0] intercept   : AIC=9739.062, Time=0.97 sec\n",
      " ARIMA(4,0,2)(0,0,0)[0] intercept   : AIC=9734.238, Time=4.39 sec\n",
      " ARIMA(3,0,3)(0,0,0)[0] intercept   : AIC=9737.118, Time=2.32 sec\n",
      " ARIMA(2,0,3)(0,0,0)[0] intercept   : AIC=9732.878, Time=4.80 sec\n",
      " ARIMA(1,0,3)(0,0,0)[0] intercept   : AIC=9739.933, Time=0.81 sec\n",
      " ARIMA(2,0,4)(0,0,0)[0] intercept   : AIC=9734.071, Time=5.27 sec\n",
      " ARIMA(1,0,4)(0,0,0)[0] intercept   : AIC=9738.795, Time=2.75 sec\n",
      " ARIMA(3,0,4)(0,0,0)[0] intercept   : AIC=9735.295, Time=6.75 sec\n",
      " ARIMA(2,0,3)(0,0,0)[0]             : AIC=9740.246, Time=3.50 sec\n",
      "\n",
      "Best model:  ARIMA(2,0,3)(0,0,0)[0] intercept\n",
      "Total fit time: 38.496 seconds\n"
     ]
    },
    {
     "data": {
      "text/plain": [
       "ARIMA(order=(2, 0, 3), scoring_args={}, suppress_warnings=True)"
      ]
     },
     "execution_count": 29,
     "metadata": {},
     "output_type": "execute_result"
    }
   ],
   "source": [
    "auto_arima(df,trace=True)"
   ]
  },
  {
   "cell_type": "code",
   "execution_count": 30,
   "id": "95684be7",
   "metadata": {},
   "outputs": [],
   "source": [
    "import statsmodels.api as sm"
   ]
  },
  {
   "cell_type": "code",
   "execution_count": 31,
   "id": "d59e6b58",
   "metadata": {},
   "outputs": [
    {
     "name": "stderr",
     "output_type": "stream",
     "text": [
      "C:\\ProgramData\\Anaconda3\\lib\\site-packages\\statsmodels\\base\\model.py:566: ConvergenceWarning: Maximum Likelihood optimization failed to converge. Check mle_retvals\n",
      "  warnings.warn(\"Maximum Likelihood optimization failed to \"\n"
     ]
    },
    {
     "data": {
      "text/html": [
       "<table class=\"simpletable\">\n",
       "<caption>SARIMAX Results</caption>\n",
       "<tr>\n",
       "  <th>Dep. Variable:</th>        <td>return</td>      <th>  No. Observations:  </th>   <td>2250</td>   \n",
       "</tr>\n",
       "<tr>\n",
       "  <th>Model:</th>            <td>ARIMA(2, 0, 3)</td>  <th>  Log Likelihood     </th> <td>-4067.239</td>\n",
       "</tr>\n",
       "<tr>\n",
       "  <th>Date:</th>            <td>Sat, 04 Jun 2022</td> <th>  AIC                </th> <td>8148.477</td> \n",
       "</tr>\n",
       "<tr>\n",
       "  <th>Time:</th>                <td>13:12:29</td>     <th>  BIC                </th> <td>8188.508</td> \n",
       "</tr>\n",
       "<tr>\n",
       "  <th>Sample:</th>             <td>01-03-2011</td>    <th>  HQIC               </th> <td>8163.088</td> \n",
       "</tr>\n",
       "<tr>\n",
       "  <th></th>                   <td>- 08-16-2019</td>   <th>                     </th>     <td> </td>    \n",
       "</tr>\n",
       "<tr>\n",
       "  <th>Covariance Type:</th>        <td>opg</td>       <th>                     </th>     <td> </td>    \n",
       "</tr>\n",
       "</table>\n",
       "<table class=\"simpletable\">\n",
       "<tr>\n",
       "     <td></td>       <th>coef</th>     <th>std err</th>      <th>z</th>      <th>P>|z|</th>  <th>[0.025</th>    <th>0.975]</th>  \n",
       "</tr>\n",
       "<tr>\n",
       "  <th>const</th>  <td>    0.1066</td> <td>    0.037</td> <td>    2.894</td> <td> 0.004</td> <td>    0.034</td> <td>    0.179</td>\n",
       "</tr>\n",
       "<tr>\n",
       "  <th>ar.L1</th>  <td>   -0.4704</td> <td>    0.009</td> <td>  -51.873</td> <td> 0.000</td> <td>   -0.488</td> <td>   -0.453</td>\n",
       "</tr>\n",
       "<tr>\n",
       "  <th>ar.L2</th>  <td>   -0.9879</td> <td>    0.009</td> <td> -107.194</td> <td> 0.000</td> <td>   -1.006</td> <td>   -0.970</td>\n",
       "</tr>\n",
       "<tr>\n",
       "  <th>ma.L1</th>  <td>    0.5702</td> <td>    0.013</td> <td>   44.751</td> <td> 0.000</td> <td>    0.545</td> <td>    0.595</td>\n",
       "</tr>\n",
       "<tr>\n",
       "  <th>ma.L2</th>  <td>    1.0279</td> <td>    0.012</td> <td>   86.671</td> <td> 0.000</td> <td>    1.005</td> <td>    1.051</td>\n",
       "</tr>\n",
       "<tr>\n",
       "  <th>ma.L3</th>  <td>    0.0868</td> <td>    0.012</td> <td>    7.476</td> <td> 0.000</td> <td>    0.064</td> <td>    0.110</td>\n",
       "</tr>\n",
       "<tr>\n",
       "  <th>sigma2</th> <td>    2.1755</td> <td>    0.035</td> <td>   62.909</td> <td> 0.000</td> <td>    2.108</td> <td>    2.243</td>\n",
       "</tr>\n",
       "</table>\n",
       "<table class=\"simpletable\">\n",
       "<tr>\n",
       "  <th>Ljung-Box (L1) (Q):</th>     <td>0.00</td> <th>  Jarque-Bera (JB):  </th> <td>20230.66</td>\n",
       "</tr>\n",
       "<tr>\n",
       "  <th>Prob(Q):</th>                <td>0.96</td> <th>  Prob(JB):          </th>   <td>0.00</td>  \n",
       "</tr>\n",
       "<tr>\n",
       "  <th>Heteroskedasticity (H):</th> <td>0.46</td> <th>  Skew:              </th>   <td>1.55</td>  \n",
       "</tr>\n",
       "<tr>\n",
       "  <th>Prob(H) (two-sided):</th>    <td>0.00</td> <th>  Kurtosis:          </th>   <td>17.36</td> \n",
       "</tr>\n",
       "</table><br/><br/>Warnings:<br/>[1] Covariance matrix calculated using the outer product of gradients (complex-step)."
      ],
      "text/plain": [
       "<class 'statsmodels.iolib.summary.Summary'>\n",
       "\"\"\"\n",
       "                               SARIMAX Results                                \n",
       "==============================================================================\n",
       "Dep. Variable:                 return   No. Observations:                 2250\n",
       "Model:                 ARIMA(2, 0, 3)   Log Likelihood               -4067.239\n",
       "Date:                Sat, 04 Jun 2022   AIC                           8148.477\n",
       "Time:                        13:12:29   BIC                           8188.508\n",
       "Sample:                    01-03-2011   HQIC                          8163.088\n",
       "                         - 08-16-2019                                         \n",
       "Covariance Type:                  opg                                         \n",
       "==============================================================================\n",
       "                 coef    std err          z      P>|z|      [0.025      0.975]\n",
       "------------------------------------------------------------------------------\n",
       "const          0.1066      0.037      2.894      0.004       0.034       0.179\n",
       "ar.L1         -0.4704      0.009    -51.873      0.000      -0.488      -0.453\n",
       "ar.L2         -0.9879      0.009   -107.194      0.000      -1.006      -0.970\n",
       "ma.L1          0.5702      0.013     44.751      0.000       0.545       0.595\n",
       "ma.L2          1.0279      0.012     86.671      0.000       1.005       1.051\n",
       "ma.L3          0.0868      0.012      7.476      0.000       0.064       0.110\n",
       "sigma2         2.1755      0.035     62.909      0.000       2.108       2.243\n",
       "===================================================================================\n",
       "Ljung-Box (L1) (Q):                   0.00   Jarque-Bera (JB):             20230.66\n",
       "Prob(Q):                              0.96   Prob(JB):                         0.00\n",
       "Heteroskedasticity (H):               0.46   Skew:                             1.55\n",
       "Prob(H) (two-sided):                  0.00   Kurtosis:                        17.36\n",
       "===================================================================================\n",
       "\n",
       "Warnings:\n",
       "[1] Covariance matrix calculated using the outer product of gradients (complex-step).\n",
       "\"\"\""
      ]
     },
     "execution_count": 31,
     "metadata": {},
     "output_type": "execute_result"
    }
   ],
   "source": [
    "model=sm.tsa.arima.ARIMA(train,order=(2,0,3))\n",
    "\n",
    "pred=model.fit()\n",
    "\n",
    "pred.summary()"
   ]
  },
  {
   "cell_type": "code",
   "execution_count": 32,
   "id": "f322f187",
   "metadata": {},
   "outputs": [
    {
     "name": "stdout",
     "output_type": "stream",
     "text": [
      "2019-08-19    0.081173\n",
      "2019-08-20    0.086617\n",
      "2019-08-21    0.077617\n",
      "2019-08-22    0.140080\n",
      "2019-08-23    0.119588\n",
      "                ...   \n",
      "2020-12-25    0.111311\n",
      "2020-12-28    0.105409\n",
      "2020-12-29    0.102612\n",
      "2020-12-30    0.109758\n",
      "2020-12-31    0.109160\n",
      "Freq: B, Name: predicted_mean, Length: 359, dtype: float64\n"
     ]
    }
   ],
   "source": [
    "start_len=len(train)\n",
    "end_len=len(train)+len(test)-1\n",
    "\n",
    "pred_results=pred.predict(start=start_len,end=end_len,typ='levels',dynamic=False)\n",
    "\n",
    "print(pred_results)"
   ]
  },
  {
   "cell_type": "code",
   "execution_count": 40,
   "id": "953fd68f",
   "metadata": {},
   "outputs": [
    {
     "data": {
      "image/png": "[encoded data removed]",
      "text/plain": [
       "<Figure size 720x720 with 1 Axes>"
      ]
     },
     "metadata": {
      "needs_background": "light"
     },
     "output_type": "display_data"
    }
   ],
   "source": [
    "plt.figure(figsize=(10,10))\n",
    "plt.plot(pred_results.index,test,label='Actual')\n",
    "plt.plot(pred_results,label='Prediction',marker='.',linestyle='dashed',color='red')\n",
    "plt.title('ARIMA')\n",
    "plt.xlabel('Date')\n",
    "plt.ylabel('return value')\n",
    "plt.grid(linestyle='dashed',color='green')\n",
    "plt.legend()\n",
    "plt.show()"
   ]
  },
  {
   "cell_type": "code",
   "execution_count": 34,
   "id": "b2ebc900",
   "metadata": {},
   "outputs": [
    {
     "name": "stdout",
     "output_type": "stream",
     "text": [
      "test mean\n"
     ]
    },
    {
     "data": {
      "text/plain": [
       "0.05685244803742112"
      ]
     },
     "execution_count": 34,
     "metadata": {},
     "output_type": "execute_result"
    }
   ],
   "source": [
    "print('test mean')\n",
    "test.mean()\n"
   ]
  },
  {
   "cell_type": "code",
   "execution_count": 35,
   "id": "fd66b263",
   "metadata": {},
   "outputs": [
    {
     "name": "stdout",
     "output_type": "stream",
     "text": [
      "prediction mean\n"
     ]
    },
    {
     "data": {
      "text/plain": [
       "0.10651345190681225"
      ]
     },
     "execution_count": 35,
     "metadata": {},
     "output_type": "execute_result"
    }
   ],
   "source": [
    "print('prediction mean')\n",
    "pred_results.mean()"
   ]
  },
  {
   "cell_type": "code",
   "execution_count": 36,
   "id": "77b735e4",
   "metadata": {},
   "outputs": [
    {
     "name": "stdout",
     "output_type": "stream",
     "text": [
      "1.9786677483953026\n"
     ]
    }
   ],
   "source": [
    "import math\n",
    "from sklearn.metrics import mean_squared_error\n",
    "rmse=math.sqrt(mean_squared_error(test,pred_results))\n",
    "print(rmse)"
   ]
  },
  {
   "cell_type": "code",
   "execution_count": 37,
   "id": "3d8c2dcb",
   "metadata": {},
   "outputs": [
    {
     "name": "stdout",
     "output_type": "stream",
     "text": [
      "1.264079606493997\n"
     ]
    }
   ],
   "source": [
    "from sklearn.metrics import mean_absolute_error\n",
    "error=mean_absolute_error(test,pred_results)\n",
    "print(error)"
   ]
  },
  {
   "cell_type": "code",
   "execution_count": 38,
   "id": "b8131034",
   "metadata": {},
   "outputs": [
    {
     "data": {
      "text/plain": [
       "-0.0008062153711736464"
      ]
     },
     "execution_count": 38,
     "metadata": {},
     "output_type": "execute_result"
    }
   ],
   "source": [
    "from sklearn.metrics import r2_score\n",
    "r2_score(test,pred_results)\n"
   ]
  },
  {
   "cell_type": "code",
   "execution_count": null,
   "id": "922f2c49",
   "metadata": {},
   "outputs": [],
   "source": []
  },
  {
   "cell_type": "code",
   "execution_count": null,
   "id": "503b1c45",
   "metadata": {},
   "outputs": [],
   "source": []
  }
 ],
 "metadata": {
  "kernelspec": {
   "display_name": "Python 3 (ipykernel)",
   "language": "python",
   "name": "python3"
  },
  "language_info": {
   "codemirror_mode": {
    "name": "ipython",
    "version": 3
   },
   "file_extension": ".py",
   "mimetype": "text/x-python",
   "name": "python",
   "nbconvert_exporter": "python",
   "pygments_lexer": "ipython3",
   "version": "3.9.7"
  }
 },
 "nbformat": 4,
 "nbformat_minor": 5
}
