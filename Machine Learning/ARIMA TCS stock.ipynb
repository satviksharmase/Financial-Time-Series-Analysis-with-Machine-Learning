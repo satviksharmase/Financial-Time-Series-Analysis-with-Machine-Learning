{
 "cells": [
  {
   "cell_type": "code",
   "execution_count": 1,
   "id": "ed84baef",
   "metadata": {},
   "outputs": [],
   "source": [
    "import numpy as np\n",
    "import matplotlib.pyplot as plt\n",
    "import pandas as pd\n"
   ]
  },
  {
   "cell_type": "code",
   "execution_count": 2,
   "id": "1107fb1c",
   "metadata": {},
   "outputs": [],
   "source": [
    "df=pd.read_csv(\"./dataset/TCS.csv\",index_col='Date',parse_dates=True)"
   ]
  },
  {
   "cell_type": "code",
   "execution_count": 3,
   "id": "3d91dcb6",
   "metadata": {},
   "outputs": [
    {
     "data": {
      "text/html": [
       "<div>\n",
       "<style scoped>\n",
       "    .dataframe tbody tr th:only-of-type {\n",
       "        vertical-align: middle;\n",
       "    }\n",
       "\n",
       "    .dataframe tbody tr th {\n",
       "        vertical-align: top;\n",
       "    }\n",
       "\n",
       "    .dataframe thead th {\n",
       "        text-align: right;\n",
       "    }\n",
       "</style>\n",
       "<table border=\"1\" class=\"dataframe\">\n",
       "  <thead>\n",
       "    <tr style=\"text-align: right;\">\n",
       "      <th></th>\n",
       "      <th>Symbol</th>\n",
       "      <th>Series</th>\n",
       "      <th>Prev Close</th>\n",
       "      <th>Open</th>\n",
       "      <th>High</th>\n",
       "      <th>Low</th>\n",
       "      <th>Last</th>\n",
       "      <th>Close</th>\n",
       "      <th>VWAP</th>\n",
       "      <th>Volume</th>\n",
       "      <th>Turnover</th>\n",
       "      <th>Trades</th>\n",
       "      <th>Deliverable Volume</th>\n",
       "      <th>%Deliverble</th>\n",
       "    </tr>\n",
       "    <tr>\n",
       "      <th>Date</th>\n",
       "      <th></th>\n",
       "      <th></th>\n",
       "      <th></th>\n",
       "      <th></th>\n",
       "      <th></th>\n",
       "      <th></th>\n",
       "      <th></th>\n",
       "      <th></th>\n",
       "      <th></th>\n",
       "      <th></th>\n",
       "      <th></th>\n",
       "      <th></th>\n",
       "      <th></th>\n",
       "      <th></th>\n",
       "    </tr>\n",
       "  </thead>\n",
       "  <tbody>\n",
       "    <tr>\n",
       "      <th>2004-08-25</th>\n",
       "      <td>TCS</td>\n",
       "      <td>EQ</td>\n",
       "      <td>850.00</td>\n",
       "      <td>1198.70</td>\n",
       "      <td>1198.70</td>\n",
       "      <td>979.00</td>\n",
       "      <td>985.00</td>\n",
       "      <td>987.95</td>\n",
       "      <td>1008.32</td>\n",
       "      <td>17116372</td>\n",
       "      <td>1.725876e+15</td>\n",
       "      <td>NaN</td>\n",
       "      <td>5206360</td>\n",
       "      <td>0.3042</td>\n",
       "    </tr>\n",
       "    <tr>\n",
       "      <th>2004-08-26</th>\n",
       "      <td>TCS</td>\n",
       "      <td>EQ</td>\n",
       "      <td>987.95</td>\n",
       "      <td>992.00</td>\n",
       "      <td>997.00</td>\n",
       "      <td>975.30</td>\n",
       "      <td>976.85</td>\n",
       "      <td>979.00</td>\n",
       "      <td>985.65</td>\n",
       "      <td>5055400</td>\n",
       "      <td>4.982865e+14</td>\n",
       "      <td>NaN</td>\n",
       "      <td>1294899</td>\n",
       "      <td>0.2561</td>\n",
       "    </tr>\n",
       "    <tr>\n",
       "      <th>2004-08-27</th>\n",
       "      <td>TCS</td>\n",
       "      <td>EQ</td>\n",
       "      <td>979.00</td>\n",
       "      <td>982.40</td>\n",
       "      <td>982.40</td>\n",
       "      <td>958.55</td>\n",
       "      <td>961.20</td>\n",
       "      <td>962.65</td>\n",
       "      <td>969.94</td>\n",
       "      <td>3830750</td>\n",
       "      <td>3.715586e+14</td>\n",
       "      <td>NaN</td>\n",
       "      <td>976527</td>\n",
       "      <td>0.2549</td>\n",
       "    </tr>\n",
       "    <tr>\n",
       "      <th>2004-08-30</th>\n",
       "      <td>TCS</td>\n",
       "      <td>EQ</td>\n",
       "      <td>962.65</td>\n",
       "      <td>969.90</td>\n",
       "      <td>990.00</td>\n",
       "      <td>965.00</td>\n",
       "      <td>986.40</td>\n",
       "      <td>986.75</td>\n",
       "      <td>982.65</td>\n",
       "      <td>3058151</td>\n",
       "      <td>3.005106e+14</td>\n",
       "      <td>NaN</td>\n",
       "      <td>701664</td>\n",
       "      <td>0.2294</td>\n",
       "    </tr>\n",
       "    <tr>\n",
       "      <th>2004-08-31</th>\n",
       "      <td>TCS</td>\n",
       "      <td>EQ</td>\n",
       "      <td>986.75</td>\n",
       "      <td>986.50</td>\n",
       "      <td>990.00</td>\n",
       "      <td>976.00</td>\n",
       "      <td>987.80</td>\n",
       "      <td>988.10</td>\n",
       "      <td>982.18</td>\n",
       "      <td>2649332</td>\n",
       "      <td>2.602133e+14</td>\n",
       "      <td>NaN</td>\n",
       "      <td>695234</td>\n",
       "      <td>0.2624</td>\n",
       "    </tr>\n",
       "    <tr>\n",
       "      <th>...</th>\n",
       "      <td>...</td>\n",
       "      <td>...</td>\n",
       "      <td>...</td>\n",
       "      <td>...</td>\n",
       "      <td>...</td>\n",
       "      <td>...</td>\n",
       "      <td>...</td>\n",
       "      <td>...</td>\n",
       "      <td>...</td>\n",
       "      <td>...</td>\n",
       "      <td>...</td>\n",
       "      <td>...</td>\n",
       "      <td>...</td>\n",
       "      <td>...</td>\n",
       "    </tr>\n",
       "    <tr>\n",
       "      <th>2021-04-26</th>\n",
       "      <td>TCS</td>\n",
       "      <td>EQ</td>\n",
       "      <td>3109.50</td>\n",
       "      <td>3102.05</td>\n",
       "      <td>3153.00</td>\n",
       "      <td>3088.05</td>\n",
       "      <td>3100.05</td>\n",
       "      <td>3100.80</td>\n",
       "      <td>3122.35</td>\n",
       "      <td>2490260</td>\n",
       "      <td>7.775465e+14</td>\n",
       "      <td>87012.0</td>\n",
       "      <td>1345353</td>\n",
       "      <td>0.5402</td>\n",
       "    </tr>\n",
       "    <tr>\n",
       "      <th>2021-04-27</th>\n",
       "      <td>TCS</td>\n",
       "      <td>EQ</td>\n",
       "      <td>3100.80</td>\n",
       "      <td>3106.00</td>\n",
       "      <td>3136.10</td>\n",
       "      <td>3103.00</td>\n",
       "      <td>3132.75</td>\n",
       "      <td>3132.00</td>\n",
       "      <td>3122.18</td>\n",
       "      <td>1471417</td>\n",
       "      <td>4.594036e+14</td>\n",
       "      <td>97077.0</td>\n",
       "      <td>849767</td>\n",
       "      <td>0.5775</td>\n",
       "    </tr>\n",
       "    <tr>\n",
       "      <th>2021-04-28</th>\n",
       "      <td>TCS</td>\n",
       "      <td>EQ</td>\n",
       "      <td>3132.00</td>\n",
       "      <td>3149.95</td>\n",
       "      <td>3151.00</td>\n",
       "      <td>3112.00</td>\n",
       "      <td>3123.00</td>\n",
       "      <td>3124.10</td>\n",
       "      <td>3125.72</td>\n",
       "      <td>1639037</td>\n",
       "      <td>5.123176e+14</td>\n",
       "      <td>76017.0</td>\n",
       "      <td>847762</td>\n",
       "      <td>0.5172</td>\n",
       "    </tr>\n",
       "    <tr>\n",
       "      <th>2021-04-29</th>\n",
       "      <td>TCS</td>\n",
       "      <td>EQ</td>\n",
       "      <td>3124.10</td>\n",
       "      <td>3145.60</td>\n",
       "      <td>3157.35</td>\n",
       "      <td>3105.50</td>\n",
       "      <td>3114.45</td>\n",
       "      <td>3115.25</td>\n",
       "      <td>3130.83</td>\n",
       "      <td>1621395</td>\n",
       "      <td>5.076306e+14</td>\n",
       "      <td>98275.0</td>\n",
       "      <td>837567</td>\n",
       "      <td>0.5166</td>\n",
       "    </tr>\n",
       "    <tr>\n",
       "      <th>2021-04-30</th>\n",
       "      <td>TCS</td>\n",
       "      <td>EQ</td>\n",
       "      <td>3115.25</td>\n",
       "      <td>3099.00</td>\n",
       "      <td>3132.05</td>\n",
       "      <td>3020.00</td>\n",
       "      <td>3040.00</td>\n",
       "      <td>3035.65</td>\n",
       "      <td>3063.19</td>\n",
       "      <td>3072305</td>\n",
       "      <td>9.411057e+14</td>\n",
       "      <td>157829.0</td>\n",
       "      <td>1942473</td>\n",
       "      <td>0.6323</td>\n",
       "    </tr>\n",
       "  </tbody>\n",
       "</table>\n",
       "<p>4139 rows × 14 columns</p>\n",
       "</div>"
      ],
      "text/plain": [
       "           Symbol Series  Prev Close     Open     High      Low     Last  \\\n",
       "Date                                                                       \n",
       "2004-08-25    TCS     EQ      850.00  1198.70  1198.70   979.00   985.00   \n",
       "2004-08-26    TCS     EQ      987.95   992.00   997.00   975.30   976.85   \n",
       "2004-08-27    TCS     EQ      979.00   982.40   982.40   958.55   961.20   \n",
       "2004-08-30    TCS     EQ      962.65   969.90   990.00   965.00   986.40   \n",
       "2004-08-31    TCS     EQ      986.75   986.50   990.00   976.00   987.80   \n",
       "...           ...    ...         ...      ...      ...      ...      ...   \n",
       "2021-04-26    TCS     EQ     3109.50  3102.05  3153.00  3088.05  3100.05   \n",
       "2021-04-27    TCS     EQ     3100.80  3106.00  3136.10  3103.00  3132.75   \n",
       "2021-04-28    TCS     EQ     3132.00  3149.95  3151.00  3112.00  3123.00   \n",
       "2021-04-29    TCS     EQ     3124.10  3145.60  3157.35  3105.50  3114.45   \n",
       "2021-04-30    TCS     EQ     3115.25  3099.00  3132.05  3020.00  3040.00   \n",
       "\n",
       "              Close     VWAP    Volume      Turnover    Trades  \\\n",
       "Date                                                             \n",
       "2004-08-25   987.95  1008.32  17116372  1.725876e+15       NaN   \n",
       "2004-08-26   979.00   985.65   5055400  4.982865e+14       NaN   \n",
       "2004-08-27   962.65   969.94   3830750  3.715586e+14       NaN   \n",
       "2004-08-30   986.75   982.65   3058151  3.005106e+14       NaN   \n",
       "2004-08-31   988.10   982.18   2649332  2.602133e+14       NaN   \n",
       "...             ...      ...       ...           ...       ...   \n",
       "2021-04-26  3100.80  3122.35   2490260  7.775465e+14   87012.0   \n",
       "2021-04-27  3132.00  3122.18   1471417  4.594036e+14   97077.0   \n",
       "2021-04-28  3124.10  3125.72   1639037  5.123176e+14   76017.0   \n",
       "2021-04-29  3115.25  3130.83   1621395  5.076306e+14   98275.0   \n",
       "2021-04-30  3035.65  3063.19   3072305  9.411057e+14  157829.0   \n",
       "\n",
       "            Deliverable Volume  %Deliverble  \n",
       "Date                                         \n",
       "2004-08-25             5206360       0.3042  \n",
       "2004-08-26             1294899       0.2561  \n",
       "2004-08-27              976527       0.2549  \n",
       "2004-08-30              701664       0.2294  \n",
       "2004-08-31              695234       0.2624  \n",
       "...                        ...          ...  \n",
       "2021-04-26             1345353       0.5402  \n",
       "2021-04-27              849767       0.5775  \n",
       "2021-04-28              847762       0.5172  \n",
       "2021-04-29              837567       0.5166  \n",
       "2021-04-30             1942473       0.6323  \n",
       "\n",
       "[4139 rows x 14 columns]"
      ]
     },
     "execution_count": 3,
     "metadata": {},
     "output_type": "execute_result"
    }
   ],
   "source": [
    "df"
   ]
  },
  {
   "cell_type": "code",
   "execution_count": 4,
   "id": "ce81dda9",
   "metadata": {},
   "outputs": [
    {
     "data": {
      "text/plain": [
       "Symbol                 object\n",
       "Series                 object\n",
       "Prev Close            float64\n",
       "Open                  float64\n",
       "High                  float64\n",
       "Low                   float64\n",
       "Last                  float64\n",
       "Close                 float64\n",
       "VWAP                  float64\n",
       "Volume                  int64\n",
       "Turnover              float64\n",
       "Trades                float64\n",
       "Deliverable Volume      int64\n",
       "%Deliverble           float64\n",
       "dtype: object"
      ]
     },
     "execution_count": 4,
     "metadata": {},
     "output_type": "execute_result"
    }
   ],
   "source": [
    "df.dtypes"
   ]
  },
  {
   "cell_type": "code",
   "execution_count": 5,
   "id": "1e8e143b",
   "metadata": {},
   "outputs": [],
   "source": [
    "numerical_data=df.select_dtypes(include=['float64','int64']).columns"
   ]
  },
  {
   "cell_type": "code",
   "execution_count": 6,
   "id": "bd678fb4",
   "metadata": {},
   "outputs": [],
   "source": [
    "categorical_data=df.select_dtypes(include=['object']).columns"
   ]
  },
  {
   "cell_type": "code",
   "execution_count": 7,
   "id": "7813f04a",
   "metadata": {},
   "outputs": [],
   "source": [
    "df['Date']=df.index"
   ]
  },
  {
   "cell_type": "code",
   "execution_count": 8,
   "id": "312f0f8e",
   "metadata": {},
   "outputs": [],
   "source": [
    "start_date='2011-01-01'\n",
    "end_date='2020-12-31'\n",
    "mask=(df['Date']>=start_date)&(df['Date']<=end_date)"
   ]
  },
  {
   "cell_type": "markdown",
   "id": "2f52d248",
   "metadata": {},
   "source": [
    "rate of return is defined as the closing value subtracted from the previos close value divided by previous close value multiplied by 100\n",
    "\n",
    "Return=[(Close-Prev Close)/Prev Close]x100"
   ]
  },
  {
   "cell_type": "code",
   "execution_count": 9,
   "id": "f8a3ff58",
   "metadata": {},
   "outputs": [],
   "source": [
    "df['return']=((df['Close']-df['Prev Close'])/df['Prev Close'])*100"
   ]
  },
  {
   "cell_type": "code",
   "execution_count": 10,
   "id": "b72f9ecc",
   "metadata": {},
   "outputs": [],
   "source": [
    "df=df.loc[mask]"
   ]
  },
  {
   "cell_type": "code",
   "execution_count": 11,
   "id": "19d43c01",
   "metadata": {},
   "outputs": [
    {
     "data": {
      "text/html": [
       "<div>\n",
       "<style scoped>\n",
       "    .dataframe tbody tr th:only-of-type {\n",
       "        vertical-align: middle;\n",
       "    }\n",
       "\n",
       "    .dataframe tbody tr th {\n",
       "        vertical-align: top;\n",
       "    }\n",
       "\n",
       "    .dataframe thead th {\n",
       "        text-align: right;\n",
       "    }\n",
       "</style>\n",
       "<table border=\"1\" class=\"dataframe\">\n",
       "  <thead>\n",
       "    <tr style=\"text-align: right;\">\n",
       "      <th></th>\n",
       "      <th>Symbol</th>\n",
       "      <th>Series</th>\n",
       "      <th>Prev Close</th>\n",
       "      <th>Open</th>\n",
       "      <th>High</th>\n",
       "      <th>Low</th>\n",
       "      <th>Last</th>\n",
       "      <th>Close</th>\n",
       "      <th>VWAP</th>\n",
       "      <th>Volume</th>\n",
       "      <th>Turnover</th>\n",
       "      <th>Trades</th>\n",
       "      <th>Deliverable Volume</th>\n",
       "      <th>%Deliverble</th>\n",
       "      <th>Date</th>\n",
       "      <th>return</th>\n",
       "    </tr>\n",
       "    <tr>\n",
       "      <th>Date</th>\n",
       "      <th></th>\n",
       "      <th></th>\n",
       "      <th></th>\n",
       "      <th></th>\n",
       "      <th></th>\n",
       "      <th></th>\n",
       "      <th></th>\n",
       "      <th></th>\n",
       "      <th></th>\n",
       "      <th></th>\n",
       "      <th></th>\n",
       "      <th></th>\n",
       "      <th></th>\n",
       "      <th></th>\n",
       "      <th></th>\n",
       "      <th></th>\n",
       "    </tr>\n",
       "  </thead>\n",
       "  <tbody>\n",
       "    <tr>\n",
       "      <th>2011-01-03</th>\n",
       "      <td>TCS</td>\n",
       "      <td>EQ</td>\n",
       "      <td>1165.65</td>\n",
       "      <td>1167.00</td>\n",
       "      <td>1176.95</td>\n",
       "      <td>1154.55</td>\n",
       "      <td>1158.00</td>\n",
       "      <td>1158.05</td>\n",
       "      <td>1162.96</td>\n",
       "      <td>702521</td>\n",
       "      <td>8.170044e+13</td>\n",
       "      <td>NaN</td>\n",
       "      <td>424604</td>\n",
       "      <td>0.6044</td>\n",
       "      <td>2011-01-03</td>\n",
       "      <td>-0.651997</td>\n",
       "    </tr>\n",
       "    <tr>\n",
       "      <th>2011-01-04</th>\n",
       "      <td>TCS</td>\n",
       "      <td>EQ</td>\n",
       "      <td>1158.05</td>\n",
       "      <td>1163.90</td>\n",
       "      <td>1166.15</td>\n",
       "      <td>1138.10</td>\n",
       "      <td>1142.10</td>\n",
       "      <td>1144.75</td>\n",
       "      <td>1154.16</td>\n",
       "      <td>1251434</td>\n",
       "      <td>1.444351e+14</td>\n",
       "      <td>NaN</td>\n",
       "      <td>704124</td>\n",
       "      <td>0.5627</td>\n",
       "      <td>2011-01-04</td>\n",
       "      <td>-1.148482</td>\n",
       "    </tr>\n",
       "    <tr>\n",
       "      <th>2011-01-05</th>\n",
       "      <td>TCS</td>\n",
       "      <td>EQ</td>\n",
       "      <td>1144.75</td>\n",
       "      <td>1145.25</td>\n",
       "      <td>1165.90</td>\n",
       "      <td>1141.75</td>\n",
       "      <td>1160.00</td>\n",
       "      <td>1158.95</td>\n",
       "      <td>1154.89</td>\n",
       "      <td>1534837</td>\n",
       "      <td>1.772569e+14</td>\n",
       "      <td>NaN</td>\n",
       "      <td>917295</td>\n",
       "      <td>0.5976</td>\n",
       "      <td>2011-01-05</td>\n",
       "      <td>1.240446</td>\n",
       "    </tr>\n",
       "    <tr>\n",
       "      <th>2011-01-06</th>\n",
       "      <td>TCS</td>\n",
       "      <td>EQ</td>\n",
       "      <td>1158.95</td>\n",
       "      <td>1168.00</td>\n",
       "      <td>1182.00</td>\n",
       "      <td>1153.10</td>\n",
       "      <td>1181.00</td>\n",
       "      <td>1171.70</td>\n",
       "      <td>1164.40</td>\n",
       "      <td>1423360</td>\n",
       "      <td>1.657362e+14</td>\n",
       "      <td>NaN</td>\n",
       "      <td>885495</td>\n",
       "      <td>0.6221</td>\n",
       "      <td>2011-01-06</td>\n",
       "      <td>1.100134</td>\n",
       "    </tr>\n",
       "    <tr>\n",
       "      <th>2011-01-07</th>\n",
       "      <td>TCS</td>\n",
       "      <td>EQ</td>\n",
       "      <td>1171.70</td>\n",
       "      <td>1176.00</td>\n",
       "      <td>1186.85</td>\n",
       "      <td>1138.15</td>\n",
       "      <td>1139.50</td>\n",
       "      <td>1142.65</td>\n",
       "      <td>1159.82</td>\n",
       "      <td>1266362</td>\n",
       "      <td>1.468753e+14</td>\n",
       "      <td>NaN</td>\n",
       "      <td>661873</td>\n",
       "      <td>0.5227</td>\n",
       "      <td>2011-01-07</td>\n",
       "      <td>-2.479304</td>\n",
       "    </tr>\n",
       "    <tr>\n",
       "      <th>...</th>\n",
       "      <td>...</td>\n",
       "      <td>...</td>\n",
       "      <td>...</td>\n",
       "      <td>...</td>\n",
       "      <td>...</td>\n",
       "      <td>...</td>\n",
       "      <td>...</td>\n",
       "      <td>...</td>\n",
       "      <td>...</td>\n",
       "      <td>...</td>\n",
       "      <td>...</td>\n",
       "      <td>...</td>\n",
       "      <td>...</td>\n",
       "      <td>...</td>\n",
       "      <td>...</td>\n",
       "      <td>...</td>\n",
       "    </tr>\n",
       "    <tr>\n",
       "      <th>2020-12-24</th>\n",
       "      <td>TCS</td>\n",
       "      <td>EQ</td>\n",
       "      <td>2908.75</td>\n",
       "      <td>2909.00</td>\n",
       "      <td>2921.35</td>\n",
       "      <td>2883.20</td>\n",
       "      <td>2908.95</td>\n",
       "      <td>2909.35</td>\n",
       "      <td>2902.86</td>\n",
       "      <td>1807144</td>\n",
       "      <td>5.245887e+14</td>\n",
       "      <td>76405.0</td>\n",
       "      <td>569310</td>\n",
       "      <td>0.3150</td>\n",
       "      <td>2020-12-24</td>\n",
       "      <td>0.020627</td>\n",
       "    </tr>\n",
       "    <tr>\n",
       "      <th>2020-12-28</th>\n",
       "      <td>TCS</td>\n",
       "      <td>EQ</td>\n",
       "      <td>2909.35</td>\n",
       "      <td>2910.00</td>\n",
       "      <td>2949.70</td>\n",
       "      <td>2902.00</td>\n",
       "      <td>2932.10</td>\n",
       "      <td>2929.40</td>\n",
       "      <td>2929.11</td>\n",
       "      <td>2108994</td>\n",
       "      <td>6.177467e+14</td>\n",
       "      <td>106481.0</td>\n",
       "      <td>717415</td>\n",
       "      <td>0.3402</td>\n",
       "      <td>2020-12-28</td>\n",
       "      <td>0.689157</td>\n",
       "    </tr>\n",
       "    <tr>\n",
       "      <th>2020-12-29</th>\n",
       "      <td>TCS</td>\n",
       "      <td>EQ</td>\n",
       "      <td>2929.40</td>\n",
       "      <td>2920.00</td>\n",
       "      <td>2952.00</td>\n",
       "      <td>2920.00</td>\n",
       "      <td>2935.00</td>\n",
       "      <td>2930.50</td>\n",
       "      <td>2937.59</td>\n",
       "      <td>1994151</td>\n",
       "      <td>5.857996e+14</td>\n",
       "      <td>99597.0</td>\n",
       "      <td>926286</td>\n",
       "      <td>0.4645</td>\n",
       "      <td>2020-12-29</td>\n",
       "      <td>0.037550</td>\n",
       "    </tr>\n",
       "    <tr>\n",
       "      <th>2020-12-30</th>\n",
       "      <td>TCS</td>\n",
       "      <td>EQ</td>\n",
       "      <td>2930.50</td>\n",
       "      <td>2934.40</td>\n",
       "      <td>2947.70</td>\n",
       "      <td>2902.00</td>\n",
       "      <td>2910.00</td>\n",
       "      <td>2909.30</td>\n",
       "      <td>2918.00</td>\n",
       "      <td>2637968</td>\n",
       "      <td>7.697596e+14</td>\n",
       "      <td>87612.0</td>\n",
       "      <td>1441442</td>\n",
       "      <td>0.5464</td>\n",
       "      <td>2020-12-30</td>\n",
       "      <td>-0.723426</td>\n",
       "    </tr>\n",
       "    <tr>\n",
       "      <th>2020-12-31</th>\n",
       "      <td>TCS</td>\n",
       "      <td>EQ</td>\n",
       "      <td>2909.30</td>\n",
       "      <td>2900.00</td>\n",
       "      <td>2905.00</td>\n",
       "      <td>2845.00</td>\n",
       "      <td>2864.95</td>\n",
       "      <td>2862.75</td>\n",
       "      <td>2874.36</td>\n",
       "      <td>4040956</td>\n",
       "      <td>1.161517e+15</td>\n",
       "      <td>130170.0</td>\n",
       "      <td>2350220</td>\n",
       "      <td>0.5816</td>\n",
       "      <td>2020-12-31</td>\n",
       "      <td>-1.600041</td>\n",
       "    </tr>\n",
       "  </tbody>\n",
       "</table>\n",
       "<p>2478 rows × 16 columns</p>\n",
       "</div>"
      ],
      "text/plain": [
       "           Symbol Series  Prev Close     Open     High      Low     Last  \\\n",
       "Date                                                                       \n",
       "2011-01-03    TCS     EQ     1165.65  1167.00  1176.95  1154.55  1158.00   \n",
       "2011-01-04    TCS     EQ     1158.05  1163.90  1166.15  1138.10  1142.10   \n",
       "2011-01-05    TCS     EQ     1144.75  1145.25  1165.90  1141.75  1160.00   \n",
       "2011-01-06    TCS     EQ     1158.95  1168.00  1182.00  1153.10  1181.00   \n",
       "2011-01-07    TCS     EQ     1171.70  1176.00  1186.85  1138.15  1139.50   \n",
       "...           ...    ...         ...      ...      ...      ...      ...   \n",
       "2020-12-24    TCS     EQ     2908.75  2909.00  2921.35  2883.20  2908.95   \n",
       "2020-12-28    TCS     EQ     2909.35  2910.00  2949.70  2902.00  2932.10   \n",
       "2020-12-29    TCS     EQ     2929.40  2920.00  2952.00  2920.00  2935.00   \n",
       "2020-12-30    TCS     EQ     2930.50  2934.40  2947.70  2902.00  2910.00   \n",
       "2020-12-31    TCS     EQ     2909.30  2900.00  2905.00  2845.00  2864.95   \n",
       "\n",
       "              Close     VWAP   Volume      Turnover    Trades  \\\n",
       "Date                                                            \n",
       "2011-01-03  1158.05  1162.96   702521  8.170044e+13       NaN   \n",
       "2011-01-04  1144.75  1154.16  1251434  1.444351e+14       NaN   \n",
       "2011-01-05  1158.95  1154.89  1534837  1.772569e+14       NaN   \n",
       "2011-01-06  1171.70  1164.40  1423360  1.657362e+14       NaN   \n",
       "2011-01-07  1142.65  1159.82  1266362  1.468753e+14       NaN   \n",
       "...             ...      ...      ...           ...       ...   \n",
       "2020-12-24  2909.35  2902.86  1807144  5.245887e+14   76405.0   \n",
       "2020-12-28  2929.40  2929.11  2108994  6.177467e+14  106481.0   \n",
       "2020-12-29  2930.50  2937.59  1994151  5.857996e+14   99597.0   \n",
       "2020-12-30  2909.30  2918.00  2637968  7.697596e+14   87612.0   \n",
       "2020-12-31  2862.75  2874.36  4040956  1.161517e+15  130170.0   \n",
       "\n",
       "            Deliverable Volume  %Deliverble       Date    return  \n",
       "Date                                                              \n",
       "2011-01-03              424604       0.6044 2011-01-03 -0.651997  \n",
       "2011-01-04              704124       0.5627 2011-01-04 -1.148482  \n",
       "2011-01-05              917295       0.5976 2011-01-05  1.240446  \n",
       "2011-01-06              885495       0.6221 2011-01-06  1.100134  \n",
       "2011-01-07              661873       0.5227 2011-01-07 -2.479304  \n",
       "...                        ...          ...        ...       ...  \n",
       "2020-12-24              569310       0.3150 2020-12-24  0.020627  \n",
       "2020-12-28              717415       0.3402 2020-12-28  0.689157  \n",
       "2020-12-29              926286       0.4645 2020-12-29  0.037550  \n",
       "2020-12-30             1441442       0.5464 2020-12-30 -0.723426  \n",
       "2020-12-31             2350220       0.5816 2020-12-31 -1.600041  \n",
       "\n",
       "[2478 rows x 16 columns]"
      ]
     },
     "execution_count": 11,
     "metadata": {},
     "output_type": "execute_result"
    }
   ],
   "source": [
    "df"
   ]
  },
  {
   "cell_type": "code",
   "execution_count": 12,
   "id": "1ce9690c",
   "metadata": {},
   "outputs": [],
   "source": [
    "df=df.drop(columns=['Series','Symbol','Open','High','Low','Last','Close','VWAP','Volume','Turnover','Trades','Deliverable Volume','%Deliverble','Date','Prev Close'])"
   ]
  },
  {
   "cell_type": "code",
   "execution_count": 13,
   "id": "cc7f7fc9",
   "metadata": {},
   "outputs": [],
   "source": [
    "df.dropna(inplace=True)"
   ]
  },
  {
   "cell_type": "code",
   "execution_count": 14,
   "id": "89e4b0a7",
   "metadata": {},
   "outputs": [],
   "source": [
    "df=pd.DataFrame(df['return'])"
   ]
  },
  {
   "cell_type": "code",
   "execution_count": 15,
   "id": "5c31abe2",
   "metadata": {},
   "outputs": [
    {
     "data": {
      "image/png": "[encoded data removed]",
      "text/plain": [
       "<Figure size 720x720 with 1 Axes>"
      ]
     },
     "metadata": {
      "needs_background": "light"
     },
     "output_type": "display_data"
    }
   ],
   "source": [
    "plt.figure(figsize=(10,10))\n",
    "plt.plot(df,label=\"rate of return\")\n",
    "plt.xlabel('Date')\n",
    "plt.ylabel('rate of return')\n",
    "plt.legend()\n",
    "plt.show()"
   ]
  },
  {
   "cell_type": "code",
   "execution_count": 16,
   "id": "a74fb074",
   "metadata": {},
   "outputs": [
    {
     "data": {
      "text/plain": [
       "<bound method DataFrame.info of               return\n",
       "Date                \n",
       "2011-01-03 -0.651997\n",
       "2011-01-04 -1.148482\n",
       "2011-01-05  1.240446\n",
       "2011-01-06  1.100134\n",
       "2011-01-07 -2.479304\n",
       "...              ...\n",
       "2020-12-24  0.020627\n",
       "2020-12-28  0.689157\n",
       "2020-12-29  0.037550\n",
       "2020-12-30 -0.723426\n",
       "2020-12-31 -1.600041\n",
       "\n",
       "[2478 rows x 1 columns]>"
      ]
     },
     "execution_count": 16,
     "metadata": {},
     "output_type": "execute_result"
    }
   ],
   "source": [
    "df.index=pd.to_datetime(df.index)\n",
    "df.info"
   ]
  },
  {
   "cell_type": "code",
   "execution_count": 17,
   "id": "77edee09",
   "metadata": {},
   "outputs": [
    {
     "data": {
      "text/plain": [
       "DatetimeIndex(['2011-01-03', '2011-01-04', '2011-01-05', '2011-01-06',\n",
       "               '2011-01-07', '2011-01-10', '2011-01-11', '2011-01-12',\n",
       "               '2011-01-13', '2011-01-14',\n",
       "               ...\n",
       "               '2020-12-18', '2020-12-21', '2020-12-22', '2020-12-23',\n",
       "               '2020-12-24', '2020-12-25', '2020-12-28', '2020-12-29',\n",
       "               '2020-12-30', '2020-12-31'],\n",
       "              dtype='datetime64[ns]', name='Date', length=2609, freq='B')"
      ]
     },
     "execution_count": 17,
     "metadata": {},
     "output_type": "execute_result"
    }
   ],
   "source": [
    "df=df.asfreq('B')\n",
    "df.index"
   ]
  },
  {
   "cell_type": "code",
   "execution_count": 18,
   "id": "188baad0",
   "metadata": {},
   "outputs": [],
   "source": [
    "df=df.ffill(axis=0)"
   ]
  },
  {
   "cell_type": "code",
   "execution_count": 19,
   "id": "e4000ea3",
   "metadata": {},
   "outputs": [
    {
     "data": {
      "text/plain": [
       "False"
      ]
     },
     "execution_count": 19,
     "metadata": {},
     "output_type": "execute_result"
    }
   ],
   "source": [
    "df.isnull().values.any()"
   ]
  },
  {
   "cell_type": "code",
   "execution_count": 20,
   "id": "19a40166",
   "metadata": {},
   "outputs": [
    {
     "data": {
      "text/html": [
       "<div>\n",
       "<style scoped>\n",
       "    .dataframe tbody tr th:only-of-type {\n",
       "        vertical-align: middle;\n",
       "    }\n",
       "\n",
       "    .dataframe tbody tr th {\n",
       "        vertical-align: top;\n",
       "    }\n",
       "\n",
       "    .dataframe thead th {\n",
       "        text-align: right;\n",
       "    }\n",
       "</style>\n",
       "<table border=\"1\" class=\"dataframe\">\n",
       "  <thead>\n",
       "    <tr style=\"text-align: right;\">\n",
       "      <th></th>\n",
       "      <th>return</th>\n",
       "    </tr>\n",
       "    <tr>\n",
       "      <th>Date</th>\n",
       "      <th></th>\n",
       "    </tr>\n",
       "  </thead>\n",
       "  <tbody>\n",
       "    <tr>\n",
       "      <th>2011-01-03</th>\n",
       "      <td>-0.651997</td>\n",
       "    </tr>\n",
       "    <tr>\n",
       "      <th>2011-01-04</th>\n",
       "      <td>-1.148482</td>\n",
       "    </tr>\n",
       "    <tr>\n",
       "      <th>2011-01-05</th>\n",
       "      <td>1.240446</td>\n",
       "    </tr>\n",
       "    <tr>\n",
       "      <th>2011-01-06</th>\n",
       "      <td>1.100134</td>\n",
       "    </tr>\n",
       "    <tr>\n",
       "      <th>2011-01-07</th>\n",
       "      <td>-2.479304</td>\n",
       "    </tr>\n",
       "    <tr>\n",
       "      <th>...</th>\n",
       "      <td>...</td>\n",
       "    </tr>\n",
       "    <tr>\n",
       "      <th>2020-12-25</th>\n",
       "      <td>0.020627</td>\n",
       "    </tr>\n",
       "    <tr>\n",
       "      <th>2020-12-28</th>\n",
       "      <td>0.689157</td>\n",
       "    </tr>\n",
       "    <tr>\n",
       "      <th>2020-12-29</th>\n",
       "      <td>0.037550</td>\n",
       "    </tr>\n",
       "    <tr>\n",
       "      <th>2020-12-30</th>\n",
       "      <td>-0.723426</td>\n",
       "    </tr>\n",
       "    <tr>\n",
       "      <th>2020-12-31</th>\n",
       "      <td>-1.600041</td>\n",
       "    </tr>\n",
       "  </tbody>\n",
       "</table>\n",
       "<p>2609 rows × 1 columns</p>\n",
       "</div>"
      ],
      "text/plain": [
       "              return\n",
       "Date                \n",
       "2011-01-03 -0.651997\n",
       "2011-01-04 -1.148482\n",
       "2011-01-05  1.240446\n",
       "2011-01-06  1.100134\n",
       "2011-01-07 -2.479304\n",
       "...              ...\n",
       "2020-12-25  0.020627\n",
       "2020-12-28  0.689157\n",
       "2020-12-29  0.037550\n",
       "2020-12-30 -0.723426\n",
       "2020-12-31 -1.600041\n",
       "\n",
       "[2609 rows x 1 columns]"
      ]
     },
     "execution_count": 20,
     "metadata": {},
     "output_type": "execute_result"
    }
   ],
   "source": [
    "df"
   ]
  },
  {
   "cell_type": "code",
   "execution_count": 21,
   "id": "7aede0cd",
   "metadata": {},
   "outputs": [],
   "source": [
    "train=df.iloc[:2250,0]\n",
    "test=df.iloc[2250:,0]"
   ]
  },
  {
   "cell_type": "code",
   "execution_count": 22,
   "id": "14a0cc92",
   "metadata": {},
   "outputs": [],
   "source": [
    "from statsmodels.tsa.seasonal import seasonal_decompose"
   ]
  },
  {
   "cell_type": "code",
   "execution_count": 23,
   "id": "839db007",
   "metadata": {},
   "outputs": [],
   "source": [
    "Decomp_results=seasonal_decompose(df)"
   ]
  },
  {
   "cell_type": "code",
   "execution_count": 24,
   "id": "00fff1bb",
   "metadata": {},
   "outputs": [
    {
     "data": {
      "image/png": "[encoded data removed]",
      "text/plain": [
       "<Figure size 432x288 with 4 Axes>"
      ]
     },
     "execution_count": 24,
     "metadata": {},
     "output_type": "execute_result"
    },
    {
     "data": {
      "image/png": "[encoded data removed]",
      "text/plain": [
       "<Figure size 432x288 with 4 Axes>"
      ]
     },
     "metadata": {
      "needs_background": "light"
     },
     "output_type": "display_data"
    }
   ],
   "source": [
    "Decomp_results.plot()"
   ]
  },
  {
   "cell_type": "code",
   "execution_count": 25,
   "id": "7a7c2133",
   "metadata": {},
   "outputs": [],
   "source": [
    "from statsmodels.graphics.tsaplots import plot_acf,plot_pacf"
   ]
  },
  {
   "cell_type": "code",
   "execution_count": 26,
   "id": "811a2cab",
   "metadata": {},
   "outputs": [
    {
     "data": {
      "image/png": "[encoded data removed]",
      "text/plain": [
       "<Figure size 432x288 with 1 Axes>"
      ]
     },
     "execution_count": 26,
     "metadata": {},
     "output_type": "execute_result"
    },
    {
     "data": {
      "image/png": "[encoded data removed]",
      "text/plain": [
       "<Figure size 432x288 with 1 Axes>"
      ]
     },
     "metadata": {
      "needs_background": "light"
     },
     "output_type": "display_data"
    }
   ],
   "source": [
    "plot_acf(train,lags=50)"
   ]
  },
  {
   "cell_type": "code",
   "execution_count": 27,
   "id": "86a4e114",
   "metadata": {},
   "outputs": [
    {
     "data": {
      "image/png": "[encoded data removed]",
      "text/plain": [
       "<Figure size 432x288 with 1 Axes>"
      ]
     },
     "execution_count": 27,
     "metadata": {},
     "output_type": "execute_result"
    },
    {
     "data": {
      "image/png": "[encoded data removed]",
      "text/plain": [
       "<Figure size 432x288 with 1 Axes>"
      ]
     },
     "metadata": {
      "needs_background": "light"
     },
     "output_type": "display_data"
    }
   ],
   "source": [
    "plot_pacf(train,lags=50)"
   ]
  },
  {
   "cell_type": "code",
   "execution_count": 28,
   "id": "a77b233e",
   "metadata": {},
   "outputs": [],
   "source": [
    "from pmdarima import auto_arima"
   ]
  },
  {
   "cell_type": "code",
   "execution_count": 29,
   "id": "89f9893b",
   "metadata": {},
   "outputs": [
    {
     "name": "stdout",
     "output_type": "stream",
     "text": [
      "Performing stepwise search to minimize aic\n",
      " ARIMA(2,0,2)(0,0,0)[0] intercept   : AIC=10790.750, Time=1.68 sec\n",
      " ARIMA(0,0,0)(0,0,0)[0] intercept   : AIC=10788.150, Time=0.05 sec\n",
      " ARIMA(1,0,0)(0,0,0)[0] intercept   : AIC=10787.538, Time=0.17 sec\n",
      " ARIMA(0,0,1)(0,0,0)[0] intercept   : AIC=10787.487, Time=0.29 sec\n",
      " ARIMA(0,0,0)(0,0,0)[0]             : AIC=10788.367, Time=0.03 sec\n",
      " ARIMA(1,0,1)(0,0,0)[0] intercept   : AIC=10786.847, Time=0.71 sec\n",
      " ARIMA(2,0,1)(0,0,0)[0] intercept   : AIC=10788.808, Time=1.03 sec\n",
      " ARIMA(1,0,2)(0,0,0)[0] intercept   : AIC=10788.810, Time=1.38 sec\n",
      " ARIMA(0,0,2)(0,0,0)[0] intercept   : AIC=10789.234, Time=0.25 sec\n",
      " ARIMA(2,0,0)(0,0,0)[0] intercept   : AIC=10789.305, Time=0.26 sec\n",
      " ARIMA(1,0,1)(0,0,0)[0]             : AIC=10786.990, Time=0.27 sec\n",
      "\n",
      "Best model:  ARIMA(1,0,1)(0,0,0)[0] intercept\n",
      "Total fit time: 6.176 seconds\n"
     ]
    },
    {
     "data": {
      "text/plain": [
       "ARIMA(order=(1, 0, 1), scoring_args={}, suppress_warnings=True)"
      ]
     },
     "execution_count": 29,
     "metadata": {},
     "output_type": "execute_result"
    }
   ],
   "source": [
    "auto_arima(df,trace=True)"
   ]
  },
  {
   "cell_type": "code",
   "execution_count": 30,
   "id": "95684be7",
   "metadata": {},
   "outputs": [],
   "source": [
    "import statsmodels.api as sm"
   ]
  },
  {
   "cell_type": "code",
   "execution_count": 31,
   "id": "d59e6b58",
   "metadata": {},
   "outputs": [
    {
     "data": {
      "text/html": [
       "<table class=\"simpletable\">\n",
       "<caption>SARIMAX Results</caption>\n",
       "<tr>\n",
       "  <th>Dep. Variable:</th>        <td>return</td>      <th>  No. Observations:  </th>   <td>2250</td>   \n",
       "</tr>\n",
       "<tr>\n",
       "  <th>Model:</th>            <td>ARIMA(1, 0, 1)</td>  <th>  Log Likelihood     </th> <td>-4609.537</td>\n",
       "</tr>\n",
       "<tr>\n",
       "  <th>Date:</th>            <td>Fri, 03 Jun 2022</td> <th>  AIC                </th> <td>9227.073</td> \n",
       "</tr>\n",
       "<tr>\n",
       "  <th>Time:</th>                <td>23:46:52</td>     <th>  BIC                </th> <td>9249.948</td> \n",
       "</tr>\n",
       "<tr>\n",
       "  <th>Sample:</th>             <td>01-03-2011</td>    <th>  HQIC               </th> <td>9235.422</td> \n",
       "</tr>\n",
       "<tr>\n",
       "  <th></th>                   <td>- 08-16-2019</td>   <th>                     </th>     <td> </td>    \n",
       "</tr>\n",
       "<tr>\n",
       "  <th>Covariance Type:</th>        <td>opg</td>       <th>                     </th>     <td> </td>    \n",
       "</tr>\n",
       "</table>\n",
       "<table class=\"simpletable\">\n",
       "<tr>\n",
       "     <td></td>       <th>coef</th>     <th>std err</th>      <th>z</th>      <th>P>|z|</th>  <th>[0.025</th>    <th>0.975]</th>  \n",
       "</tr>\n",
       "<tr>\n",
       "  <th>const</th>  <td>    0.0554</td> <td>    0.049</td> <td>    1.122</td> <td> 0.262</td> <td>   -0.041</td> <td>    0.152</td>\n",
       "</tr>\n",
       "<tr>\n",
       "  <th>ar.L1</th>  <td>   -0.6247</td> <td>    0.301</td> <td>   -2.076</td> <td> 0.038</td> <td>   -1.215</td> <td>   -0.035</td>\n",
       "</tr>\n",
       "<tr>\n",
       "  <th>ma.L1</th>  <td>    0.6631</td> <td>    0.291</td> <td>    2.282</td> <td> 0.022</td> <td>    0.094</td> <td>    1.232</td>\n",
       "</tr>\n",
       "<tr>\n",
       "  <th>sigma2</th> <td>    3.5236</td> <td>    0.012</td> <td>  296.317</td> <td> 0.000</td> <td>    3.500</td> <td>    3.547</td>\n",
       "</tr>\n",
       "</table>\n",
       "<table class=\"simpletable\">\n",
       "<tr>\n",
       "  <th>Ljung-Box (L1) (Q):</th>     <td>0.00</td> <th>  Jarque-Bera (JB):  </th> <td>5084026.78</td>\n",
       "</tr>\n",
       "<tr>\n",
       "  <th>Prob(Q):</th>                <td>0.99</td> <th>  Prob(JB):          </th>    <td>0.00</td>   \n",
       "</tr>\n",
       "<tr>\n",
       "  <th>Heteroskedasticity (H):</th> <td>1.81</td> <th>  Skew:              </th>    <td>-8.51</td>  \n",
       "</tr>\n",
       "<tr>\n",
       "  <th>Prob(H) (two-sided):</th>    <td>0.00</td> <th>  Kurtosis:          </th>   <td>235.25</td>  \n",
       "</tr>\n",
       "</table><br/><br/>Warnings:<br/>[1] Covariance matrix calculated using the outer product of gradients (complex-step)."
      ],
      "text/plain": [
       "<class 'statsmodels.iolib.summary.Summary'>\n",
       "\"\"\"\n",
       "                               SARIMAX Results                                \n",
       "==============================================================================\n",
       "Dep. Variable:                 return   No. Observations:                 2250\n",
       "Model:                 ARIMA(1, 0, 1)   Log Likelihood               -4609.537\n",
       "Date:                Fri, 03 Jun 2022   AIC                           9227.073\n",
       "Time:                        23:46:52   BIC                           9249.948\n",
       "Sample:                    01-03-2011   HQIC                          9235.422\n",
       "                         - 08-16-2019                                         \n",
       "Covariance Type:                  opg                                         \n",
       "==============================================================================\n",
       "                 coef    std err          z      P>|z|      [0.025      0.975]\n",
       "------------------------------------------------------------------------------\n",
       "const          0.0554      0.049      1.122      0.262      -0.041       0.152\n",
       "ar.L1         -0.6247      0.301     -2.076      0.038      -1.215      -0.035\n",
       "ma.L1          0.6631      0.291      2.282      0.022       0.094       1.232\n",
       "sigma2         3.5236      0.012    296.317      0.000       3.500       3.547\n",
       "===================================================================================\n",
       "Ljung-Box (L1) (Q):                   0.00   Jarque-Bera (JB):           5084026.78\n",
       "Prob(Q):                              0.99   Prob(JB):                         0.00\n",
       "Heteroskedasticity (H):               1.81   Skew:                            -8.51\n",
       "Prob(H) (two-sided):                  0.00   Kurtosis:                       235.25\n",
       "===================================================================================\n",
       "\n",
       "Warnings:\n",
       "[1] Covariance matrix calculated using the outer product of gradients (complex-step).\n",
       "\"\"\""
      ]
     },
     "execution_count": 31,
     "metadata": {},
     "output_type": "execute_result"
    }
   ],
   "source": [
    "model=sm.tsa.arima.ARIMA(train,order=(1,0,1))\n",
    "\n",
    "pred=model.fit()\n",
    "\n",
    "pred.summary()"
   ]
  },
  {
   "cell_type": "code",
   "execution_count": 32,
   "id": "f322f187",
   "metadata": {},
   "outputs": [
    {
     "name": "stdout",
     "output_type": "stream",
     "text": [
      "2019-08-19    0.009933\n",
      "2019-08-20    0.083847\n",
      "2019-08-21    0.037675\n",
      "2019-08-22    0.066518\n",
      "2019-08-23    0.048501\n",
      "                ...   \n",
      "2020-12-25    0.055428\n",
      "2020-12-28    0.055428\n",
      "2020-12-29    0.055428\n",
      "2020-12-30    0.055428\n",
      "2020-12-31    0.055428\n",
      "Freq: B, Name: predicted_mean, Length: 359, dtype: float64\n"
     ]
    }
   ],
   "source": [
    "start_len=len(train)\n",
    "end_len=len(train)+len(test)-1\n",
    "\n",
    "pred_results=pred.predict(start=start_len,end=end_len,typ='levels',dynamic=False)\n",
    "\n",
    "print(pred_results)"
   ]
  },
  {
   "cell_type": "code",
   "execution_count": 41,
   "id": "953fd68f",
   "metadata": {},
   "outputs": [
    {
     "data": {
      "image/png": "[encoded data removed]",
      "text/plain": [
       "<Figure size 720x720 with 1 Axes>"
      ]
     },
     "metadata": {
      "needs_background": "light"
     },
     "output_type": "display_data"
    }
   ],
   "source": [
    "plt.figure(figsize=(10,10))\n",
    "plt.plot(pred_results.index,test,label='Actual')\n",
    "plt.plot(pred_results,label='Prediction',marker='.',linestyle='dashed',color='red')\n",
    "plt.title('ARIMA')\n",
    "plt.xlabel('Date')\n",
    "plt.ylabel('return value')\n",
    "plt.grid(linestyle='dashed',color='green')\n",
    "plt.legend()\n",
    "plt.show()"
   ]
  },
  {
   "cell_type": "code",
   "execution_count": 34,
   "id": "b2ebc900",
   "metadata": {},
   "outputs": [
    {
     "name": "stdout",
     "output_type": "stream",
     "text": [
      "test mean\n"
     ]
    },
    {
     "data": {
      "text/plain": [
       "0.05745893609722815"
      ]
     },
     "execution_count": 34,
     "metadata": {},
     "output_type": "execute_result"
    }
   ],
   "source": [
    "print('test mean')\n",
    "test.mean()\n"
   ]
  },
  {
   "cell_type": "code",
   "execution_count": 35,
   "id": "fd66b263",
   "metadata": {},
   "outputs": [
    {
     "name": "stdout",
     "output_type": "stream",
     "text": [
      "prediction mean\n"
     ]
    },
    {
     "data": {
      "text/plain": [
       "0.05535002037775023"
      ]
     },
     "execution_count": 35,
     "metadata": {},
     "output_type": "execute_result"
    }
   ],
   "source": [
    "print('prediction mean')\n",
    "pred_results.mean()"
   ]
  },
  {
   "cell_type": "code",
   "execution_count": 36,
   "id": "77b735e4",
   "metadata": {},
   "outputs": [
    {
     "name": "stdout",
     "output_type": "stream",
     "text": [
      "2.100174405266473\n"
     ]
    }
   ],
   "source": [
    "import math\n",
    "from sklearn.metrics import mean_squared_error\n",
    "rmse=math.sqrt(mean_squared_error(test,pred_results))\n",
    "print(rmse)"
   ]
  },
  {
   "cell_type": "code",
   "execution_count": 37,
   "id": "3d8c2dcb",
   "metadata": {},
   "outputs": [
    {
     "name": "stdout",
     "output_type": "stream",
     "text": [
      "1.4587463995005467\n"
     ]
    }
   ],
   "source": [
    "from sklearn.metrics import mean_absolute_error\n",
    "error=mean_absolute_error(test,pred_results)\n",
    "print(error)"
   ]
  },
  {
   "cell_type": "code",
   "execution_count": 38,
   "id": "b8131034",
   "metadata": {},
   "outputs": [
    {
     "data": {
      "text/plain": [
       "6.470404714309375e-05"
      ]
     },
     "execution_count": 38,
     "metadata": {},
     "output_type": "execute_result"
    }
   ],
   "source": [
    "from sklearn.metrics import r2_score\n",
    "r2_score(test,pred_results)\n"
   ]
  },
  {
   "cell_type": "code",
   "execution_count": null,
   "id": "922f2c49",
   "metadata": {},
   "outputs": [],
   "source": []
  },
  {
   "cell_type": "code",
   "execution_count": null,
   "id": "0dfe0733",
   "metadata": {},
   "outputs": [],
   "source": []
  }
 ],
 "metadata": {
  "kernelspec": {
   "display_name": "Python 3 (ipykernel)",
   "language": "python",
   "name": "python3"
  },
  "language_info": {
   "codemirror_mode": {
    "name": "ipython",
    "version": 3
   },
   "file_extension": ".py",
   "mimetype": "text/x-python",
   "name": "python",
   "nbconvert_exporter": "python",
   "pygments_lexer": "ipython3",
   "version": "3.9.7"
  }
 },
 "nbformat": 4,
 "nbformat_minor": 5
}
