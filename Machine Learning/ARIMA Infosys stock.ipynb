{
 "cells": [
  {
   "cell_type": "code",
   "execution_count": 1,
   "id": "ed84baef",
   "metadata": {},
   "outputs": [],
   "source": [
    "import numpy as np\n",
    "import matplotlib.pyplot as plt\n",
    "import pandas as pd\n"
   ]
  },
  {
   "cell_type": "code",
   "execution_count": 2,
   "id": "1107fb1c",
   "metadata": {},
   "outputs": [],
   "source": [
    "df=pd.read_csv(\"./dataset/INFY.csv\",index_col='Date',parse_dates=True)"
   ]
  },
  {
   "cell_type": "code",
   "execution_count": 3,
   "id": "3d91dcb6",
   "metadata": {},
   "outputs": [
    {
     "data": {
      "text/html": [
       "<div>\n",
       "<style scoped>\n",
       "    .dataframe tbody tr th:only-of-type {\n",
       "        vertical-align: middle;\n",
       "    }\n",
       "\n",
       "    .dataframe tbody tr th {\n",
       "        vertical-align: top;\n",
       "    }\n",
       "\n",
       "    .dataframe thead th {\n",
       "        text-align: right;\n",
       "    }\n",
       "</style>\n",
       "<table border=\"1\" class=\"dataframe\">\n",
       "  <thead>\n",
       "    <tr style=\"text-align: right;\">\n",
       "      <th></th>\n",
       "      <th>Symbol</th>\n",
       "      <th>Series</th>\n",
       "      <th>Prev Close</th>\n",
       "      <th>Open</th>\n",
       "      <th>High</th>\n",
       "      <th>Low</th>\n",
       "      <th>Last</th>\n",
       "      <th>Close</th>\n",
       "      <th>VWAP</th>\n",
       "      <th>Volume</th>\n",
       "      <th>Turnover</th>\n",
       "      <th>Trades</th>\n",
       "      <th>Deliverable Volume</th>\n",
       "      <th>%Deliverble</th>\n",
       "    </tr>\n",
       "    <tr>\n",
       "      <th>Date</th>\n",
       "      <th></th>\n",
       "      <th></th>\n",
       "      <th></th>\n",
       "      <th></th>\n",
       "      <th></th>\n",
       "      <th></th>\n",
       "      <th></th>\n",
       "      <th></th>\n",
       "      <th></th>\n",
       "      <th></th>\n",
       "      <th></th>\n",
       "      <th></th>\n",
       "      <th></th>\n",
       "      <th></th>\n",
       "    </tr>\n",
       "  </thead>\n",
       "  <tbody>\n",
       "    <tr>\n",
       "      <th>2000-01-03</th>\n",
       "      <td>INFOSYSTCH</td>\n",
       "      <td>EQ</td>\n",
       "      <td>14467.75</td>\n",
       "      <td>15625.00</td>\n",
       "      <td>15625.20</td>\n",
       "      <td>15625.00</td>\n",
       "      <td>15625.20</td>\n",
       "      <td>15625.20</td>\n",
       "      <td>15625.18</td>\n",
       "      <td>5137</td>\n",
       "      <td>8.026657e+12</td>\n",
       "      <td>NaN</td>\n",
       "      <td>NaN</td>\n",
       "      <td>NaN</td>\n",
       "    </tr>\n",
       "    <tr>\n",
       "      <th>2000-01-04</th>\n",
       "      <td>INFOSYSTCH</td>\n",
       "      <td>EQ</td>\n",
       "      <td>15625.20</td>\n",
       "      <td>16800.00</td>\n",
       "      <td>16875.25</td>\n",
       "      <td>16253.00</td>\n",
       "      <td>16875.25</td>\n",
       "      <td>16855.90</td>\n",
       "      <td>16646.38</td>\n",
       "      <td>56186</td>\n",
       "      <td>9.352937e+13</td>\n",
       "      <td>NaN</td>\n",
       "      <td>NaN</td>\n",
       "      <td>NaN</td>\n",
       "    </tr>\n",
       "    <tr>\n",
       "      <th>2000-01-05</th>\n",
       "      <td>INFOSYSTCH</td>\n",
       "      <td>EQ</td>\n",
       "      <td>16855.90</td>\n",
       "      <td>15701.00</td>\n",
       "      <td>16250.00</td>\n",
       "      <td>15507.45</td>\n",
       "      <td>15507.45</td>\n",
       "      <td>15507.45</td>\n",
       "      <td>15786.38</td>\n",
       "      <td>164605</td>\n",
       "      <td>2.598516e+14</td>\n",
       "      <td>NaN</td>\n",
       "      <td>NaN</td>\n",
       "      <td>NaN</td>\n",
       "    </tr>\n",
       "    <tr>\n",
       "      <th>2000-01-06</th>\n",
       "      <td>INFOSYSTCH</td>\n",
       "      <td>EQ</td>\n",
       "      <td>15507.45</td>\n",
       "      <td>15256.65</td>\n",
       "      <td>15300.00</td>\n",
       "      <td>14266.85</td>\n",
       "      <td>14266.85</td>\n",
       "      <td>14266.85</td>\n",
       "      <td>14462.82</td>\n",
       "      <td>81997</td>\n",
       "      <td>1.185908e+14</td>\n",
       "      <td>NaN</td>\n",
       "      <td>NaN</td>\n",
       "      <td>NaN</td>\n",
       "    </tr>\n",
       "    <tr>\n",
       "      <th>2000-01-07</th>\n",
       "      <td>INFOSYSTCH</td>\n",
       "      <td>EQ</td>\n",
       "      <td>14266.85</td>\n",
       "      <td>13125.50</td>\n",
       "      <td>13125.50</td>\n",
       "      <td>13125.50</td>\n",
       "      <td>13125.50</td>\n",
       "      <td>13125.50</td>\n",
       "      <td>13125.50</td>\n",
       "      <td>7589</td>\n",
       "      <td>9.960942e+12</td>\n",
       "      <td>NaN</td>\n",
       "      <td>NaN</td>\n",
       "      <td>NaN</td>\n",
       "    </tr>\n",
       "    <tr>\n",
       "      <th>...</th>\n",
       "      <td>...</td>\n",
       "      <td>...</td>\n",
       "      <td>...</td>\n",
       "      <td>...</td>\n",
       "      <td>...</td>\n",
       "      <td>...</td>\n",
       "      <td>...</td>\n",
       "      <td>...</td>\n",
       "      <td>...</td>\n",
       "      <td>...</td>\n",
       "      <td>...</td>\n",
       "      <td>...</td>\n",
       "      <td>...</td>\n",
       "      <td>...</td>\n",
       "    </tr>\n",
       "    <tr>\n",
       "      <th>2021-04-26</th>\n",
       "      <td>INFY</td>\n",
       "      <td>EQ</td>\n",
       "      <td>1333.80</td>\n",
       "      <td>1332.25</td>\n",
       "      <td>1351.30</td>\n",
       "      <td>1321.00</td>\n",
       "      <td>1345.00</td>\n",
       "      <td>1343.55</td>\n",
       "      <td>1343.19</td>\n",
       "      <td>7088606</td>\n",
       "      <td>9.521361e+14</td>\n",
       "      <td>130375.0</td>\n",
       "      <td>4218129.0</td>\n",
       "      <td>0.5951</td>\n",
       "    </tr>\n",
       "    <tr>\n",
       "      <th>2021-04-27</th>\n",
       "      <td>INFY</td>\n",
       "      <td>EQ</td>\n",
       "      <td>1343.55</td>\n",
       "      <td>1346.00</td>\n",
       "      <td>1353.00</td>\n",
       "      <td>1340.15</td>\n",
       "      <td>1347.50</td>\n",
       "      <td>1348.50</td>\n",
       "      <td>1346.89</td>\n",
       "      <td>3636115</td>\n",
       "      <td>4.897445e+14</td>\n",
       "      <td>145974.0</td>\n",
       "      <td>1871084.0</td>\n",
       "      <td>0.5146</td>\n",
       "    </tr>\n",
       "    <tr>\n",
       "      <th>2021-04-28</th>\n",
       "      <td>INFY</td>\n",
       "      <td>EQ</td>\n",
       "      <td>1348.50</td>\n",
       "      <td>1358.00</td>\n",
       "      <td>1359.50</td>\n",
       "      <td>1344.60</td>\n",
       "      <td>1355.80</td>\n",
       "      <td>1356.00</td>\n",
       "      <td>1353.45</td>\n",
       "      <td>4879234</td>\n",
       "      <td>6.603778e+14</td>\n",
       "      <td>137376.0</td>\n",
       "      <td>2857134.0</td>\n",
       "      <td>0.5856</td>\n",
       "    </tr>\n",
       "    <tr>\n",
       "      <th>2021-04-29</th>\n",
       "      <td>INFY</td>\n",
       "      <td>EQ</td>\n",
       "      <td>1356.00</td>\n",
       "      <td>1368.00</td>\n",
       "      <td>1369.00</td>\n",
       "      <td>1351.40</td>\n",
       "      <td>1356.00</td>\n",
       "      <td>1356.35</td>\n",
       "      <td>1360.05</td>\n",
       "      <td>5412357</td>\n",
       "      <td>7.361090e+14</td>\n",
       "      <td>119277.0</td>\n",
       "      <td>3130945.0</td>\n",
       "      <td>0.5785</td>\n",
       "    </tr>\n",
       "    <tr>\n",
       "      <th>2021-04-30</th>\n",
       "      <td>INFY</td>\n",
       "      <td>EQ</td>\n",
       "      <td>1356.35</td>\n",
       "      <td>1346.30</td>\n",
       "      <td>1373.90</td>\n",
       "      <td>1345.90</td>\n",
       "      <td>1348.60</td>\n",
       "      <td>1354.35</td>\n",
       "      <td>1361.16</td>\n",
       "      <td>8354677</td>\n",
       "      <td>1.137203e+15</td>\n",
       "      <td>131718.0</td>\n",
       "      <td>5408113.0</td>\n",
       "      <td>0.6473</td>\n",
       "    </tr>\n",
       "  </tbody>\n",
       "</table>\n",
       "<p>5306 rows × 14 columns</p>\n",
       "</div>"
      ],
      "text/plain": [
       "                Symbol Series  Prev Close      Open      High       Low  \\\n",
       "Date                                                                      \n",
       "2000-01-03  INFOSYSTCH     EQ    14467.75  15625.00  15625.20  15625.00   \n",
       "2000-01-04  INFOSYSTCH     EQ    15625.20  16800.00  16875.25  16253.00   \n",
       "2000-01-05  INFOSYSTCH     EQ    16855.90  15701.00  16250.00  15507.45   \n",
       "2000-01-06  INFOSYSTCH     EQ    15507.45  15256.65  15300.00  14266.85   \n",
       "2000-01-07  INFOSYSTCH     EQ    14266.85  13125.50  13125.50  13125.50   \n",
       "...                ...    ...         ...       ...       ...       ...   \n",
       "2021-04-26        INFY     EQ     1333.80   1332.25   1351.30   1321.00   \n",
       "2021-04-27        INFY     EQ     1343.55   1346.00   1353.00   1340.15   \n",
       "2021-04-28        INFY     EQ     1348.50   1358.00   1359.50   1344.60   \n",
       "2021-04-29        INFY     EQ     1356.00   1368.00   1369.00   1351.40   \n",
       "2021-04-30        INFY     EQ     1356.35   1346.30   1373.90   1345.90   \n",
       "\n",
       "                Last     Close      VWAP   Volume      Turnover    Trades  \\\n",
       "Date                                                                        \n",
       "2000-01-03  15625.20  15625.20  15625.18     5137  8.026657e+12       NaN   \n",
       "2000-01-04  16875.25  16855.90  16646.38    56186  9.352937e+13       NaN   \n",
       "2000-01-05  15507.45  15507.45  15786.38   164605  2.598516e+14       NaN   \n",
       "2000-01-06  14266.85  14266.85  14462.82    81997  1.185908e+14       NaN   \n",
       "2000-01-07  13125.50  13125.50  13125.50     7589  9.960942e+12       NaN   \n",
       "...              ...       ...       ...      ...           ...       ...   \n",
       "2021-04-26   1345.00   1343.55   1343.19  7088606  9.521361e+14  130375.0   \n",
       "2021-04-27   1347.50   1348.50   1346.89  3636115  4.897445e+14  145974.0   \n",
       "2021-04-28   1355.80   1356.00   1353.45  4879234  6.603778e+14  137376.0   \n",
       "2021-04-29   1356.00   1356.35   1360.05  5412357  7.361090e+14  119277.0   \n",
       "2021-04-30   1348.60   1354.35   1361.16  8354677  1.137203e+15  131718.0   \n",
       "\n",
       "            Deliverable Volume  %Deliverble  \n",
       "Date                                         \n",
       "2000-01-03                 NaN          NaN  \n",
       "2000-01-04                 NaN          NaN  \n",
       "2000-01-05                 NaN          NaN  \n",
       "2000-01-06                 NaN          NaN  \n",
       "2000-01-07                 NaN          NaN  \n",
       "...                        ...          ...  \n",
       "2021-04-26           4218129.0       0.5951  \n",
       "2021-04-27           1871084.0       0.5146  \n",
       "2021-04-28           2857134.0       0.5856  \n",
       "2021-04-29           3130945.0       0.5785  \n",
       "2021-04-30           5408113.0       0.6473  \n",
       "\n",
       "[5306 rows x 14 columns]"
      ]
     },
     "execution_count": 3,
     "metadata": {},
     "output_type": "execute_result"
    }
   ],
   "source": [
    "df"
   ]
  },
  {
   "cell_type": "code",
   "execution_count": 4,
   "id": "ce81dda9",
   "metadata": {},
   "outputs": [
    {
     "data": {
      "text/plain": [
       "Symbol                 object\n",
       "Series                 object\n",
       "Prev Close            float64\n",
       "Open                  float64\n",
       "High                  float64\n",
       "Low                   float64\n",
       "Last                  float64\n",
       "Close                 float64\n",
       "VWAP                  float64\n",
       "Volume                  int64\n",
       "Turnover              float64\n",
       "Trades                float64\n",
       "Deliverable Volume    float64\n",
       "%Deliverble           float64\n",
       "dtype: object"
      ]
     },
     "execution_count": 4,
     "metadata": {},
     "output_type": "execute_result"
    }
   ],
   "source": [
    "df.dtypes"
   ]
  },
  {
   "cell_type": "code",
   "execution_count": 5,
   "id": "1e8e143b",
   "metadata": {},
   "outputs": [],
   "source": [
    "numerical_data=df.select_dtypes(include=['float64','int64']).columns"
   ]
  },
  {
   "cell_type": "code",
   "execution_count": 6,
   "id": "bd678fb4",
   "metadata": {},
   "outputs": [],
   "source": [
    "categorical_data=df.select_dtypes(include=['object']).columns"
   ]
  },
  {
   "cell_type": "code",
   "execution_count": 7,
   "id": "7813f04a",
   "metadata": {},
   "outputs": [],
   "source": [
    "df['Date']=df.index"
   ]
  },
  {
   "cell_type": "code",
   "execution_count": 8,
   "id": "312f0f8e",
   "metadata": {},
   "outputs": [],
   "source": [
    "start_date='2011-01-01'\n",
    "end_date='2020-12-31'\n",
    "mask=(df['Date']>=start_date)&(df['Date']<=end_date)"
   ]
  },
  {
   "cell_type": "markdown",
   "id": "2f52d248",
   "metadata": {},
   "source": [
    "rate of return is defined as the closing value subtracted from the previos close value divided by previous close value multiplied by 100\n",
    "\n",
    "Return=[(Close-Prev Close)/Prev Close]x100"
   ]
  },
  {
   "cell_type": "code",
   "execution_count": 9,
   "id": "f8a3ff58",
   "metadata": {},
   "outputs": [],
   "source": [
    "df['return']=((df['Close']-df['Prev Close'])/df['Prev Close'])*100"
   ]
  },
  {
   "cell_type": "code",
   "execution_count": 10,
   "id": "b72f9ecc",
   "metadata": {},
   "outputs": [],
   "source": [
    "df=df.loc[mask]"
   ]
  },
  {
   "cell_type": "code",
   "execution_count": 11,
   "id": "19d43c01",
   "metadata": {},
   "outputs": [
    {
     "data": {
      "text/html": [
       "<div>\n",
       "<style scoped>\n",
       "    .dataframe tbody tr th:only-of-type {\n",
       "        vertical-align: middle;\n",
       "    }\n",
       "\n",
       "    .dataframe tbody tr th {\n",
       "        vertical-align: top;\n",
       "    }\n",
       "\n",
       "    .dataframe thead th {\n",
       "        text-align: right;\n",
       "    }\n",
       "</style>\n",
       "<table border=\"1\" class=\"dataframe\">\n",
       "  <thead>\n",
       "    <tr style=\"text-align: right;\">\n",
       "      <th></th>\n",
       "      <th>Symbol</th>\n",
       "      <th>Series</th>\n",
       "      <th>Prev Close</th>\n",
       "      <th>Open</th>\n",
       "      <th>High</th>\n",
       "      <th>Low</th>\n",
       "      <th>Last</th>\n",
       "      <th>Close</th>\n",
       "      <th>VWAP</th>\n",
       "      <th>Volume</th>\n",
       "      <th>Turnover</th>\n",
       "      <th>Trades</th>\n",
       "      <th>Deliverable Volume</th>\n",
       "      <th>%Deliverble</th>\n",
       "      <th>Date</th>\n",
       "      <th>return</th>\n",
       "    </tr>\n",
       "    <tr>\n",
       "      <th>Date</th>\n",
       "      <th></th>\n",
       "      <th></th>\n",
       "      <th></th>\n",
       "      <th></th>\n",
       "      <th></th>\n",
       "      <th></th>\n",
       "      <th></th>\n",
       "      <th></th>\n",
       "      <th></th>\n",
       "      <th></th>\n",
       "      <th></th>\n",
       "      <th></th>\n",
       "      <th></th>\n",
       "      <th></th>\n",
       "      <th></th>\n",
       "      <th></th>\n",
       "    </tr>\n",
       "  </thead>\n",
       "  <tbody>\n",
       "    <tr>\n",
       "      <th>2011-01-03</th>\n",
       "      <td>INFOSYSTCH</td>\n",
       "      <td>EQ</td>\n",
       "      <td>3442.75</td>\n",
       "      <td>3444.00</td>\n",
       "      <td>3469.70</td>\n",
       "      <td>3427.70</td>\n",
       "      <td>3462.45</td>\n",
       "      <td>3458.35</td>\n",
       "      <td>3448.24</td>\n",
       "      <td>631068</td>\n",
       "      <td>2.176074e+14</td>\n",
       "      <td>NaN</td>\n",
       "      <td>405296.0</td>\n",
       "      <td>0.6422</td>\n",
       "      <td>2011-01-03</td>\n",
       "      <td>0.453126</td>\n",
       "    </tr>\n",
       "    <tr>\n",
       "      <th>2011-01-04</th>\n",
       "      <td>INFOSYSTCH</td>\n",
       "      <td>EQ</td>\n",
       "      <td>3458.35</td>\n",
       "      <td>3457.00</td>\n",
       "      <td>3499.00</td>\n",
       "      <td>3457.00</td>\n",
       "      <td>3470.00</td>\n",
       "      <td>3481.45</td>\n",
       "      <td>3481.24</td>\n",
       "      <td>1014911</td>\n",
       "      <td>3.533147e+14</td>\n",
       "      <td>NaN</td>\n",
       "      <td>653567.0</td>\n",
       "      <td>0.6440</td>\n",
       "      <td>2011-01-04</td>\n",
       "      <td>0.667949</td>\n",
       "    </tr>\n",
       "    <tr>\n",
       "      <th>2011-01-05</th>\n",
       "      <td>INFOSYSTCH</td>\n",
       "      <td>EQ</td>\n",
       "      <td>3481.45</td>\n",
       "      <td>3465.00</td>\n",
       "      <td>3477.00</td>\n",
       "      <td>3445.10</td>\n",
       "      <td>3463.50</td>\n",
       "      <td>3459.60</td>\n",
       "      <td>3460.24</td>\n",
       "      <td>440395</td>\n",
       "      <td>1.523872e+14</td>\n",
       "      <td>NaN</td>\n",
       "      <td>249899.0</td>\n",
       "      <td>0.5674</td>\n",
       "      <td>2011-01-05</td>\n",
       "      <td>-0.627612</td>\n",
       "    </tr>\n",
       "    <tr>\n",
       "      <th>2011-01-06</th>\n",
       "      <td>INFOSYSTCH</td>\n",
       "      <td>EQ</td>\n",
       "      <td>3459.60</td>\n",
       "      <td>3480.00</td>\n",
       "      <td>3493.00</td>\n",
       "      <td>3444.10</td>\n",
       "      <td>3476.95</td>\n",
       "      <td>3478.15</td>\n",
       "      <td>3474.28</td>\n",
       "      <td>586480</td>\n",
       "      <td>2.037595e+14</td>\n",
       "      <td>NaN</td>\n",
       "      <td>298773.0</td>\n",
       "      <td>0.5094</td>\n",
       "      <td>2011-01-06</td>\n",
       "      <td>0.536189</td>\n",
       "    </tr>\n",
       "    <tr>\n",
       "      <th>2011-01-07</th>\n",
       "      <td>INFOSYSTCH</td>\n",
       "      <td>EQ</td>\n",
       "      <td>3478.15</td>\n",
       "      <td>3463.35</td>\n",
       "      <td>3495.00</td>\n",
       "      <td>3356.35</td>\n",
       "      <td>3371.10</td>\n",
       "      <td>3370.75</td>\n",
       "      <td>3420.32</td>\n",
       "      <td>1068866</td>\n",
       "      <td>3.655864e+14</td>\n",
       "      <td>NaN</td>\n",
       "      <td>695120.0</td>\n",
       "      <td>0.6503</td>\n",
       "      <td>2011-01-07</td>\n",
       "      <td>-3.087848</td>\n",
       "    </tr>\n",
       "    <tr>\n",
       "      <th>...</th>\n",
       "      <td>...</td>\n",
       "      <td>...</td>\n",
       "      <td>...</td>\n",
       "      <td>...</td>\n",
       "      <td>...</td>\n",
       "      <td>...</td>\n",
       "      <td>...</td>\n",
       "      <td>...</td>\n",
       "      <td>...</td>\n",
       "      <td>...</td>\n",
       "      <td>...</td>\n",
       "      <td>...</td>\n",
       "      <td>...</td>\n",
       "      <td>...</td>\n",
       "      <td>...</td>\n",
       "      <td>...</td>\n",
       "    </tr>\n",
       "    <tr>\n",
       "      <th>2020-12-24</th>\n",
       "      <td>INFY</td>\n",
       "      <td>EQ</td>\n",
       "      <td>1253.05</td>\n",
       "      <td>1249.90</td>\n",
       "      <td>1249.90</td>\n",
       "      <td>1226.00</td>\n",
       "      <td>1237.35</td>\n",
       "      <td>1236.05</td>\n",
       "      <td>1236.34</td>\n",
       "      <td>7313885</td>\n",
       "      <td>9.042416e+14</td>\n",
       "      <td>172066.0</td>\n",
       "      <td>2637421.0</td>\n",
       "      <td>0.3606</td>\n",
       "      <td>2020-12-24</td>\n",
       "      <td>-1.356690</td>\n",
       "    </tr>\n",
       "    <tr>\n",
       "      <th>2020-12-28</th>\n",
       "      <td>INFY</td>\n",
       "      <td>EQ</td>\n",
       "      <td>1236.05</td>\n",
       "      <td>1238.45</td>\n",
       "      <td>1248.00</td>\n",
       "      <td>1236.00</td>\n",
       "      <td>1239.45</td>\n",
       "      <td>1240.30</td>\n",
       "      <td>1240.58</td>\n",
       "      <td>4607051</td>\n",
       "      <td>5.715406e+14</td>\n",
       "      <td>123013.0</td>\n",
       "      <td>2098658.0</td>\n",
       "      <td>0.4555</td>\n",
       "      <td>2020-12-28</td>\n",
       "      <td>0.343837</td>\n",
       "    </tr>\n",
       "    <tr>\n",
       "      <th>2020-12-29</th>\n",
       "      <td>INFY</td>\n",
       "      <td>EQ</td>\n",
       "      <td>1240.30</td>\n",
       "      <td>1235.00</td>\n",
       "      <td>1254.45</td>\n",
       "      <td>1235.00</td>\n",
       "      <td>1249.85</td>\n",
       "      <td>1250.30</td>\n",
       "      <td>1246.33</td>\n",
       "      <td>6878105</td>\n",
       "      <td>8.572420e+14</td>\n",
       "      <td>132402.0</td>\n",
       "      <td>3219736.0</td>\n",
       "      <td>0.4681</td>\n",
       "      <td>2020-12-29</td>\n",
       "      <td>0.806257</td>\n",
       "    </tr>\n",
       "    <tr>\n",
       "      <th>2020-12-30</th>\n",
       "      <td>INFY</td>\n",
       "      <td>EQ</td>\n",
       "      <td>1250.30</td>\n",
       "      <td>1253.00</td>\n",
       "      <td>1253.30</td>\n",
       "      <td>1238.15</td>\n",
       "      <td>1244.00</td>\n",
       "      <td>1246.80</td>\n",
       "      <td>1247.48</td>\n",
       "      <td>5194690</td>\n",
       "      <td>6.480283e+14</td>\n",
       "      <td>107704.0</td>\n",
       "      <td>2378603.0</td>\n",
       "      <td>0.4579</td>\n",
       "      <td>2020-12-30</td>\n",
       "      <td>-0.279933</td>\n",
       "    </tr>\n",
       "    <tr>\n",
       "      <th>2020-12-31</th>\n",
       "      <td>INFY</td>\n",
       "      <td>EQ</td>\n",
       "      <td>1246.80</td>\n",
       "      <td>1243.00</td>\n",
       "      <td>1258.40</td>\n",
       "      <td>1239.00</td>\n",
       "      <td>1253.50</td>\n",
       "      <td>1255.80</td>\n",
       "      <td>1249.41</td>\n",
       "      <td>7430470</td>\n",
       "      <td>9.283732e+14</td>\n",
       "      <td>117406.0</td>\n",
       "      <td>3974062.0</td>\n",
       "      <td>0.5348</td>\n",
       "      <td>2020-12-31</td>\n",
       "      <td>0.721848</td>\n",
       "    </tr>\n",
       "  </tbody>\n",
       "</table>\n",
       "<p>2478 rows × 16 columns</p>\n",
       "</div>"
      ],
      "text/plain": [
       "                Symbol Series  Prev Close     Open     High      Low     Last  \\\n",
       "Date                                                                            \n",
       "2011-01-03  INFOSYSTCH     EQ     3442.75  3444.00  3469.70  3427.70  3462.45   \n",
       "2011-01-04  INFOSYSTCH     EQ     3458.35  3457.00  3499.00  3457.00  3470.00   \n",
       "2011-01-05  INFOSYSTCH     EQ     3481.45  3465.00  3477.00  3445.10  3463.50   \n",
       "2011-01-06  INFOSYSTCH     EQ     3459.60  3480.00  3493.00  3444.10  3476.95   \n",
       "2011-01-07  INFOSYSTCH     EQ     3478.15  3463.35  3495.00  3356.35  3371.10   \n",
       "...                ...    ...         ...      ...      ...      ...      ...   \n",
       "2020-12-24        INFY     EQ     1253.05  1249.90  1249.90  1226.00  1237.35   \n",
       "2020-12-28        INFY     EQ     1236.05  1238.45  1248.00  1236.00  1239.45   \n",
       "2020-12-29        INFY     EQ     1240.30  1235.00  1254.45  1235.00  1249.85   \n",
       "2020-12-30        INFY     EQ     1250.30  1253.00  1253.30  1238.15  1244.00   \n",
       "2020-12-31        INFY     EQ     1246.80  1243.00  1258.40  1239.00  1253.50   \n",
       "\n",
       "              Close     VWAP   Volume      Turnover    Trades  \\\n",
       "Date                                                            \n",
       "2011-01-03  3458.35  3448.24   631068  2.176074e+14       NaN   \n",
       "2011-01-04  3481.45  3481.24  1014911  3.533147e+14       NaN   \n",
       "2011-01-05  3459.60  3460.24   440395  1.523872e+14       NaN   \n",
       "2011-01-06  3478.15  3474.28   586480  2.037595e+14       NaN   \n",
       "2011-01-07  3370.75  3420.32  1068866  3.655864e+14       NaN   \n",
       "...             ...      ...      ...           ...       ...   \n",
       "2020-12-24  1236.05  1236.34  7313885  9.042416e+14  172066.0   \n",
       "2020-12-28  1240.30  1240.58  4607051  5.715406e+14  123013.0   \n",
       "2020-12-29  1250.30  1246.33  6878105  8.572420e+14  132402.0   \n",
       "2020-12-30  1246.80  1247.48  5194690  6.480283e+14  107704.0   \n",
       "2020-12-31  1255.80  1249.41  7430470  9.283732e+14  117406.0   \n",
       "\n",
       "            Deliverable Volume  %Deliverble       Date    return  \n",
       "Date                                                              \n",
       "2011-01-03            405296.0       0.6422 2011-01-03  0.453126  \n",
       "2011-01-04            653567.0       0.6440 2011-01-04  0.667949  \n",
       "2011-01-05            249899.0       0.5674 2011-01-05 -0.627612  \n",
       "2011-01-06            298773.0       0.5094 2011-01-06  0.536189  \n",
       "2011-01-07            695120.0       0.6503 2011-01-07 -3.087848  \n",
       "...                        ...          ...        ...       ...  \n",
       "2020-12-24           2637421.0       0.3606 2020-12-24 -1.356690  \n",
       "2020-12-28           2098658.0       0.4555 2020-12-28  0.343837  \n",
       "2020-12-29           3219736.0       0.4681 2020-12-29  0.806257  \n",
       "2020-12-30           2378603.0       0.4579 2020-12-30 -0.279933  \n",
       "2020-12-31           3974062.0       0.5348 2020-12-31  0.721848  \n",
       "\n",
       "[2478 rows x 16 columns]"
      ]
     },
     "execution_count": 11,
     "metadata": {},
     "output_type": "execute_result"
    }
   ],
   "source": [
    "df"
   ]
  },
  {
   "cell_type": "code",
   "execution_count": 12,
   "id": "1ce9690c",
   "metadata": {},
   "outputs": [],
   "source": [
    "df=df.drop(columns=['Series','Symbol','Open','High','Low','Last','Close','VWAP','Volume','Turnover','Trades','Deliverable Volume','%Deliverble','Date','Prev Close'])"
   ]
  },
  {
   "cell_type": "code",
   "execution_count": 13,
   "id": "cc7f7fc9",
   "metadata": {},
   "outputs": [],
   "source": [
    "df.dropna(inplace=True)"
   ]
  },
  {
   "cell_type": "code",
   "execution_count": 14,
   "id": "89e4b0a7",
   "metadata": {},
   "outputs": [],
   "source": [
    "df=pd.DataFrame(df['return'])"
   ]
  },
  {
   "cell_type": "code",
   "execution_count": 15,
   "id": "5c31abe2",
   "metadata": {},
   "outputs": [
    {
     "data": {
      "image/png": "[encoded data removed]",
      "text/plain": [
       "<Figure size 720x720 with 1 Axes>"
      ]
     },
     "metadata": {
      "needs_background": "light"
     },
     "output_type": "display_data"
    }
   ],
   "source": [
    "plt.figure(figsize=(10,10))\n",
    "plt.plot(df,label=\"rate of return\")\n",
    "plt.xlabel('Date')\n",
    "plt.ylabel('rate of return')\n",
    "plt.legend()\n",
    "plt.show()"
   ]
  },
  {
   "cell_type": "code",
   "execution_count": 16,
   "id": "a74fb074",
   "metadata": {},
   "outputs": [
    {
     "data": {
      "text/plain": [
       "<bound method DataFrame.info of               return\n",
       "Date                \n",
       "2011-01-03  0.453126\n",
       "2011-01-04  0.667949\n",
       "2011-01-05 -0.627612\n",
       "2011-01-06  0.536189\n",
       "2011-01-07 -3.087848\n",
       "...              ...\n",
       "2020-12-24 -1.356690\n",
       "2020-12-28  0.343837\n",
       "2020-12-29  0.806257\n",
       "2020-12-30 -0.279933\n",
       "2020-12-31  0.721848\n",
       "\n",
       "[2478 rows x 1 columns]>"
      ]
     },
     "execution_count": 16,
     "metadata": {},
     "output_type": "execute_result"
    }
   ],
   "source": [
    "df.index=pd.to_datetime(df.index)\n",
    "df.info"
   ]
  },
  {
   "cell_type": "code",
   "execution_count": 17,
   "id": "77edee09",
   "metadata": {},
   "outputs": [
    {
     "data": {
      "text/plain": [
       "DatetimeIndex(['2011-01-03', '2011-01-04', '2011-01-05', '2011-01-06',\n",
       "               '2011-01-07', '2011-01-10', '2011-01-11', '2011-01-12',\n",
       "               '2011-01-13', '2011-01-14',\n",
       "               ...\n",
       "               '2020-12-18', '2020-12-21', '2020-12-22', '2020-12-23',\n",
       "               '2020-12-24', '2020-12-25', '2020-12-28', '2020-12-29',\n",
       "               '2020-12-30', '2020-12-31'],\n",
       "              dtype='datetime64[ns]', name='Date', length=2609, freq='B')"
      ]
     },
     "execution_count": 17,
     "metadata": {},
     "output_type": "execute_result"
    }
   ],
   "source": [
    "df=df.asfreq('B')\n",
    "df.index"
   ]
  },
  {
   "cell_type": "code",
   "execution_count": 18,
   "id": "188baad0",
   "metadata": {},
   "outputs": [],
   "source": [
    "df=df.ffill(axis=0)"
   ]
  },
  {
   "cell_type": "code",
   "execution_count": 19,
   "id": "e4000ea3",
   "metadata": {},
   "outputs": [
    {
     "data": {
      "text/plain": [
       "False"
      ]
     },
     "execution_count": 19,
     "metadata": {},
     "output_type": "execute_result"
    }
   ],
   "source": [
    "df.isnull().values.any()"
   ]
  },
  {
   "cell_type": "code",
   "execution_count": 20,
   "id": "19a40166",
   "metadata": {},
   "outputs": [
    {
     "data": {
      "text/html": [
       "<div>\n",
       "<style scoped>\n",
       "    .dataframe tbody tr th:only-of-type {\n",
       "        vertical-align: middle;\n",
       "    }\n",
       "\n",
       "    .dataframe tbody tr th {\n",
       "        vertical-align: top;\n",
       "    }\n",
       "\n",
       "    .dataframe thead th {\n",
       "        text-align: right;\n",
       "    }\n",
       "</style>\n",
       "<table border=\"1\" class=\"dataframe\">\n",
       "  <thead>\n",
       "    <tr style=\"text-align: right;\">\n",
       "      <th></th>\n",
       "      <th>return</th>\n",
       "    </tr>\n",
       "    <tr>\n",
       "      <th>Date</th>\n",
       "      <th></th>\n",
       "    </tr>\n",
       "  </thead>\n",
       "  <tbody>\n",
       "    <tr>\n",
       "      <th>2011-01-03</th>\n",
       "      <td>0.453126</td>\n",
       "    </tr>\n",
       "    <tr>\n",
       "      <th>2011-01-04</th>\n",
       "      <td>0.667949</td>\n",
       "    </tr>\n",
       "    <tr>\n",
       "      <th>2011-01-05</th>\n",
       "      <td>-0.627612</td>\n",
       "    </tr>\n",
       "    <tr>\n",
       "      <th>2011-01-06</th>\n",
       "      <td>0.536189</td>\n",
       "    </tr>\n",
       "    <tr>\n",
       "      <th>2011-01-07</th>\n",
       "      <td>-3.087848</td>\n",
       "    </tr>\n",
       "    <tr>\n",
       "      <th>...</th>\n",
       "      <td>...</td>\n",
       "    </tr>\n",
       "    <tr>\n",
       "      <th>2020-12-25</th>\n",
       "      <td>-1.356690</td>\n",
       "    </tr>\n",
       "    <tr>\n",
       "      <th>2020-12-28</th>\n",
       "      <td>0.343837</td>\n",
       "    </tr>\n",
       "    <tr>\n",
       "      <th>2020-12-29</th>\n",
       "      <td>0.806257</td>\n",
       "    </tr>\n",
       "    <tr>\n",
       "      <th>2020-12-30</th>\n",
       "      <td>-0.279933</td>\n",
       "    </tr>\n",
       "    <tr>\n",
       "      <th>2020-12-31</th>\n",
       "      <td>0.721848</td>\n",
       "    </tr>\n",
       "  </tbody>\n",
       "</table>\n",
       "<p>2609 rows × 1 columns</p>\n",
       "</div>"
      ],
      "text/plain": [
       "              return\n",
       "Date                \n",
       "2011-01-03  0.453126\n",
       "2011-01-04  0.667949\n",
       "2011-01-05 -0.627612\n",
       "2011-01-06  0.536189\n",
       "2011-01-07 -3.087848\n",
       "...              ...\n",
       "2020-12-25 -1.356690\n",
       "2020-12-28  0.343837\n",
       "2020-12-29  0.806257\n",
       "2020-12-30 -0.279933\n",
       "2020-12-31  0.721848\n",
       "\n",
       "[2609 rows x 1 columns]"
      ]
     },
     "execution_count": 20,
     "metadata": {},
     "output_type": "execute_result"
    }
   ],
   "source": [
    "df"
   ]
  },
  {
   "cell_type": "code",
   "execution_count": 21,
   "id": "7aede0cd",
   "metadata": {},
   "outputs": [],
   "source": [
    "train=df.iloc[:2250,0]\n",
    "test=df.iloc[2250:,0]"
   ]
  },
  {
   "cell_type": "code",
   "execution_count": 22,
   "id": "14a0cc92",
   "metadata": {},
   "outputs": [],
   "source": [
    "from statsmodels.tsa.seasonal import seasonal_decompose"
   ]
  },
  {
   "cell_type": "code",
   "execution_count": 23,
   "id": "839db007",
   "metadata": {},
   "outputs": [],
   "source": [
    "Decomp_results=seasonal_decompose(df)"
   ]
  },
  {
   "cell_type": "code",
   "execution_count": 24,
   "id": "00fff1bb",
   "metadata": {},
   "outputs": [
    {
     "data": {
      "image/png": "[encoded data removed]",
      "text/plain": [
       "<Figure size 432x288 with 4 Axes>"
      ]
     },
     "execution_count": 24,
     "metadata": {},
     "output_type": "execute_result"
    },
    {
     "data": {
      "image/png": "[encoded data removed]",
      "text/plain": [
       "<Figure size 432x288 with 4 Axes>"
      ]
     },
     "metadata": {
      "needs_background": "light"
     },
     "output_type": "display_data"
    }
   ],
   "source": [
    "Decomp_results.plot()"
   ]
  },
  {
   "cell_type": "code",
   "execution_count": 25,
   "id": "7a7c2133",
   "metadata": {},
   "outputs": [],
   "source": [
    "from statsmodels.graphics.tsaplots import plot_acf,plot_pacf"
   ]
  },
  {
   "cell_type": "code",
   "execution_count": 26,
   "id": "811a2cab",
   "metadata": {},
   "outputs": [
    {
     "data": {
      "image/png": "[encoded data removed]",
      "text/plain": [
       "<Figure size 432x288 with 1 Axes>"
      ]
     },
     "execution_count": 26,
     "metadata": {},
     "output_type": "execute_result"
    },
    {
     "data": {
      "image/png": "[encoded data removed]",
      "text/plain": [
       "<Figure size 432x288 with 1 Axes>"
      ]
     },
     "metadata": {
      "needs_background": "light"
     },
     "output_type": "display_data"
    }
   ],
   "source": [
    "plot_acf(train,lags=50)"
   ]
  },
  {
   "cell_type": "code",
   "execution_count": 27,
   "id": "86a4e114",
   "metadata": {},
   "outputs": [
    {
     "data": {
      "image/png": "[encoded data removed]",
      "text/plain": [
       "<Figure size 432x288 with 1 Axes>"
      ]
     },
     "execution_count": 27,
     "metadata": {},
     "output_type": "execute_result"
    },
    {
     "data": {
      "image/png": "[encoded data removed]",
      "text/plain": [
       "<Figure size 432x288 with 1 Axes>"
      ]
     },
     "metadata": {
      "needs_background": "light"
     },
     "output_type": "display_data"
    }
   ],
   "source": [
    "plot_pacf(train,lags=50)"
   ]
  },
  {
   "cell_type": "code",
   "execution_count": 28,
   "id": "a77b233e",
   "metadata": {},
   "outputs": [],
   "source": [
    "from pmdarima import auto_arima"
   ]
  },
  {
   "cell_type": "code",
   "execution_count": 29,
   "id": "89f9893b",
   "metadata": {},
   "outputs": [
    {
     "name": "stdout",
     "output_type": "stream",
     "text": [
      "Performing stepwise search to minimize aic\n",
      " ARIMA(2,0,2)(0,0,0)[0] intercept   : AIC=12141.350, Time=1.03 sec\n",
      " ARIMA(0,0,0)(0,0,0)[0] intercept   : AIC=12136.059, Time=0.05 sec\n",
      " ARIMA(1,0,0)(0,0,0)[0] intercept   : AIC=12137.019, Time=0.18 sec\n",
      " ARIMA(0,0,1)(0,0,0)[0] intercept   : AIC=12137.013, Time=0.28 sec\n",
      " ARIMA(0,0,0)(0,0,0)[0]             : AIC=12134.124, Time=0.03 sec\n",
      " ARIMA(1,0,1)(0,0,0)[0] intercept   : AIC=12139.010, Time=0.39 sec\n",
      "\n",
      "Best model:  ARIMA(0,0,0)(0,0,0)[0]          \n",
      "Total fit time: 1.963 seconds\n"
     ]
    },
    {
     "data": {
      "text/plain": [
       "ARIMA(order=(0, 0, 0), scoring_args={}, suppress_warnings=True,\n",
       "      with_intercept=False)"
      ]
     },
     "execution_count": 29,
     "metadata": {},
     "output_type": "execute_result"
    }
   ],
   "source": [
    "auto_arima(df,trace=True)"
   ]
  },
  {
   "cell_type": "code",
   "execution_count": 30,
   "id": "95684be7",
   "metadata": {},
   "outputs": [],
   "source": [
    "import statsmodels.api as sm"
   ]
  },
  {
   "cell_type": "code",
   "execution_count": 31,
   "id": "d59e6b58",
   "metadata": {},
   "outputs": [
    {
     "data": {
      "text/html": [
       "<table class=\"simpletable\">\n",
       "<caption>SARIMAX Results</caption>\n",
       "<tr>\n",
       "  <th>Dep. Variable:</th>        <td>return</td>      <th>  No. Observations:  </th>   <td>2250</td>   \n",
       "</tr>\n",
       "<tr>\n",
       "  <th>Model:</th>            <td>ARIMA(2, 0, 2)</td>  <th>  Log Likelihood     </th> <td>-5228.448</td>\n",
       "</tr>\n",
       "<tr>\n",
       "  <th>Date:</th>            <td>Sat, 04 Jun 2022</td> <th>  AIC                </th> <td>10468.897</td>\n",
       "</tr>\n",
       "<tr>\n",
       "  <th>Time:</th>                <td>14:18:01</td>     <th>  BIC                </th> <td>10503.209</td>\n",
       "</tr>\n",
       "<tr>\n",
       "  <th>Sample:</th>             <td>01-03-2011</td>    <th>  HQIC               </th> <td>10481.420</td>\n",
       "</tr>\n",
       "<tr>\n",
       "  <th></th>                   <td>- 08-16-2019</td>   <th>                     </th>     <td> </td>    \n",
       "</tr>\n",
       "<tr>\n",
       "  <th>Covariance Type:</th>        <td>opg</td>       <th>                     </th>     <td> </td>    \n",
       "</tr>\n",
       "</table>\n",
       "<table class=\"simpletable\">\n",
       "<tr>\n",
       "     <td></td>       <th>coef</th>     <th>std err</th>      <th>z</th>      <th>P>|z|</th>  <th>[0.025</th>    <th>0.975]</th>  \n",
       "</tr>\n",
       "<tr>\n",
       "  <th>const</th>  <td>   -0.0069</td> <td>    0.080</td> <td>   -0.086</td> <td> 0.932</td> <td>   -0.164</td> <td>    0.150</td>\n",
       "</tr>\n",
       "<tr>\n",
       "  <th>ar.L1</th>  <td>   -0.6226</td> <td>    0.585</td> <td>   -1.064</td> <td> 0.287</td> <td>   -1.769</td> <td>    0.524</td>\n",
       "</tr>\n",
       "<tr>\n",
       "  <th>ar.L2</th>  <td>   -0.6175</td> <td>    0.326</td> <td>   -1.897</td> <td> 0.058</td> <td>   -1.256</td> <td>    0.020</td>\n",
       "</tr>\n",
       "<tr>\n",
       "  <th>ma.L1</th>  <td>    0.6647</td> <td>    0.585</td> <td>    1.135</td> <td> 0.256</td> <td>   -0.483</td> <td>    1.812</td>\n",
       "</tr>\n",
       "<tr>\n",
       "  <th>ma.L2</th>  <td>    0.6244</td> <td>    0.338</td> <td>    1.848</td> <td> 0.065</td> <td>   -0.038</td> <td>    1.287</td>\n",
       "</tr>\n",
       "<tr>\n",
       "  <th>sigma2</th> <td>    6.1090</td> <td>    0.029</td> <td>  210.330</td> <td> 0.000</td> <td>    6.052</td> <td>    6.166</td>\n",
       "</tr>\n",
       "</table>\n",
       "<table class=\"simpletable\">\n",
       "<tr>\n",
       "  <th>Ljung-Box (L1) (Q):</th>     <td>0.19</td> <th>  Jarque-Bera (JB):  </th> <td>4666865.13</td>\n",
       "</tr>\n",
       "<tr>\n",
       "  <th>Prob(Q):</th>                <td>0.66</td> <th>  Prob(JB):          </th>    <td>0.00</td>   \n",
       "</tr>\n",
       "<tr>\n",
       "  <th>Heteroskedasticity (H):</th> <td>1.36</td> <th>  Skew:              </th>   <td>-11.12</td>  \n",
       "</tr>\n",
       "<tr>\n",
       "  <th>Prob(H) (two-sided):</th>    <td>0.00</td> <th>  Kurtosis:          </th>   <td>225.00</td>  \n",
       "</tr>\n",
       "</table><br/><br/>Warnings:<br/>[1] Covariance matrix calculated using the outer product of gradients (complex-step)."
      ],
      "text/plain": [
       "<class 'statsmodels.iolib.summary.Summary'>\n",
       "\"\"\"\n",
       "                               SARIMAX Results                                \n",
       "==============================================================================\n",
       "Dep. Variable:                 return   No. Observations:                 2250\n",
       "Model:                 ARIMA(2, 0, 2)   Log Likelihood               -5228.448\n",
       "Date:                Sat, 04 Jun 2022   AIC                          10468.897\n",
       "Time:                        14:18:01   BIC                          10503.209\n",
       "Sample:                    01-03-2011   HQIC                         10481.420\n",
       "                         - 08-16-2019                                         \n",
       "Covariance Type:                  opg                                         \n",
       "==============================================================================\n",
       "                 coef    std err          z      P>|z|      [0.025      0.975]\n",
       "------------------------------------------------------------------------------\n",
       "const         -0.0069      0.080     -0.086      0.932      -0.164       0.150\n",
       "ar.L1         -0.6226      0.585     -1.064      0.287      -1.769       0.524\n",
       "ar.L2         -0.6175      0.326     -1.897      0.058      -1.256       0.020\n",
       "ma.L1          0.6647      0.585      1.135      0.256      -0.483       1.812\n",
       "ma.L2          0.6244      0.338      1.848      0.065      -0.038       1.287\n",
       "sigma2         6.1090      0.029    210.330      0.000       6.052       6.166\n",
       "===================================================================================\n",
       "Ljung-Box (L1) (Q):                   0.19   Jarque-Bera (JB):           4666865.13\n",
       "Prob(Q):                              0.66   Prob(JB):                         0.00\n",
       "Heteroskedasticity (H):               1.36   Skew:                           -11.12\n",
       "Prob(H) (two-sided):                  0.00   Kurtosis:                       225.00\n",
       "===================================================================================\n",
       "\n",
       "Warnings:\n",
       "[1] Covariance matrix calculated using the outer product of gradients (complex-step).\n",
       "\"\"\""
      ]
     },
     "execution_count": 31,
     "metadata": {},
     "output_type": "execute_result"
    }
   ],
   "source": [
    "model=sm.tsa.arima.ARIMA(train,order=(2,0,2))\n",
    "\n",
    "pred=model.fit()\n",
    "\n",
    "pred.summary()"
   ]
  },
  {
   "cell_type": "code",
   "execution_count": 32,
   "id": "f322f187",
   "metadata": {},
   "outputs": [
    {
     "name": "stdout",
     "output_type": "stream",
     "text": [
      "2019-08-19   -0.093022\n",
      "2019-08-20    0.010335\n",
      "2019-08-21    0.035654\n",
      "2019-08-22   -0.043937\n",
      "2019-08-23   -0.010017\n",
      "                ...   \n",
      "2020-12-25   -0.006855\n",
      "2020-12-28   -0.006855\n",
      "2020-12-29   -0.006855\n",
      "2020-12-30   -0.006855\n",
      "2020-12-31   -0.006855\n",
      "Freq: B, Name: predicted_mean, Length: 359, dtype: float64\n"
     ]
    }
   ],
   "source": [
    "start_len=len(train)\n",
    "end_len=len(train)+len(test)-1\n",
    "\n",
    "pred_results=pred.predict(start=start_len,end=end_len,typ='levels',dynamic=False)\n",
    "\n",
    "print(pred_results)"
   ]
  },
  {
   "cell_type": "code",
   "execution_count": 33,
   "id": "953fd68f",
   "metadata": {},
   "outputs": [
    {
     "data": {
      "image/png": "[encoded data removed]",
      "text/plain": [
       "<Figure size 720x720 with 1 Axes>"
      ]
     },
     "metadata": {
      "needs_background": "light"
     },
     "output_type": "display_data"
    }
   ],
   "source": [
    "plt.figure(figsize=(10,10))\n",
    "plt.plot(pred_results.index,test,label='Actual')\n",
    "plt.plot(pred_results,label='Prediction',marker='.',linestyle='dashed',color='red')\n",
    "plt.title('ARIMA')\n",
    "plt.xlabel('Date')\n",
    "plt.ylabel('return value')\n",
    "plt.grid(linestyle='dashed',color='green')\n",
    "plt.legend()\n",
    "plt.show()"
   ]
  },
  {
   "cell_type": "code",
   "execution_count": 34,
   "id": "b2ebc900",
   "metadata": {},
   "outputs": [
    {
     "name": "stdout",
     "output_type": "stream",
     "text": [
      "test mean\n"
     ]
    },
    {
     "data": {
      "text/plain": [
       "0.13184251288001633"
      ]
     },
     "execution_count": 34,
     "metadata": {},
     "output_type": "execute_result"
    }
   ],
   "source": [
    "print('test mean')\n",
    "test.mean()\n"
   ]
  },
  {
   "cell_type": "code",
   "execution_count": 35,
   "id": "fd66b263",
   "metadata": {},
   "outputs": [
    {
     "name": "stdout",
     "output_type": "stream",
     "text": [
      "prediction mean\n"
     ]
    },
    {
     "data": {
      "text/plain": [
       "-0.007007149951232104"
      ]
     },
     "execution_count": 35,
     "metadata": {},
     "output_type": "execute_result"
    }
   ],
   "source": [
    "print('prediction mean')\n",
    "pred_results.mean()"
   ]
  },
  {
   "cell_type": "code",
   "execution_count": 36,
   "id": "77b735e4",
   "metadata": {},
   "outputs": [
    {
     "name": "stdout",
     "output_type": "stream",
     "text": [
      "2.471709490644166\n"
     ]
    }
   ],
   "source": [
    "import math\n",
    "from sklearn.metrics import mean_squared_error\n",
    "rmse=math.sqrt(mean_squared_error(test,pred_results))\n",
    "print(rmse)"
   ]
  },
  {
   "cell_type": "code",
   "execution_count": 37,
   "id": "3d8c2dcb",
   "metadata": {},
   "outputs": [
    {
     "name": "stdout",
     "output_type": "stream",
     "text": [
      "1.6020298969801368\n"
     ]
    }
   ],
   "source": [
    "from sklearn.metrics import mean_absolute_error\n",
    "error=mean_absolute_error(test,pred_results)\n",
    "print(error)"
   ]
  },
  {
   "cell_type": "code",
   "execution_count": 38,
   "id": "b8131034",
   "metadata": {},
   "outputs": [
    {
     "data": {
      "text/plain": [
       "-0.0031112754026443312"
      ]
     },
     "execution_count": 38,
     "metadata": {},
     "output_type": "execute_result"
    }
   ],
   "source": [
    "from sklearn.metrics import r2_score\n",
    "r2_score(test,pred_results)\n"
   ]
  },
  {
   "cell_type": "code",
   "execution_count": null,
   "id": "922f2c49",
   "metadata": {},
   "outputs": [],
   "source": []
  },
  {
   "cell_type": "code",
   "execution_count": null,
   "id": "cc695d8f",
   "metadata": {},
   "outputs": [],
   "source": []
  }
 ],
 "metadata": {
  "kernelspec": {
   "display_name": "Python 3 (ipykernel)",
   "language": "python",
   "name": "python3"
  },
  "language_info": {
   "codemirror_mode": {
    "name": "ipython",
    "version": 3
   },
   "file_extension": ".py",
   "mimetype": "text/x-python",
   "name": "python",
   "nbconvert_exporter": "python",
   "pygments_lexer": "ipython3",
   "version": "3.9.7"
  }
 },
 "nbformat": 4,
 "nbformat_minor": 5
}
